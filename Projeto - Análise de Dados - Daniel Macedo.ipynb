{
 "cells": [
  {
   "cell_type": "markdown",
   "id": "515cf69f",
   "metadata": {},
   "source": [
    "# Explorando as Taxas de Consumo de Álcool por Estudantes"
   ]
  },
  {
   "cell_type": "markdown",
   "id": "150f7fe0",
   "metadata": {},
   "source": [
    "#### Projeto da Disciplina \"Análise de Dados\" - Pós-graduação em Visão Computacional - CIn-UFPE.\n",
    "\n",
    "Aluno: Daniel Macedo"
   ]
  },
  {
   "cell_type": "code",
   "execution_count": 1,
   "id": "c4814bbb",
   "metadata": {},
   "outputs": [],
   "source": [
    "import numpy as np\n",
    "import pandas as pd\n",
    "import seaborn as sns\n",
    "import matplotlib.pyplot as plt\n",
    "%matplotlib inline"
   ]
  },
  {
   "cell_type": "code",
   "execution_count": 2,
   "id": "63d89916",
   "metadata": {},
   "outputs": [],
   "source": [
    "mat_stud = pd.read_csv('student-mat.csv')\n",
    "por_stud = pd.read_csv('student-por.csv')"
   ]
  },
  {
   "cell_type": "code",
   "execution_count": 4,
   "id": "a3659d01",
   "metadata": {},
   "outputs": [
    {
     "data": {
      "text/html": [
       "<div>\n",
       "<style scoped>\n",
       "    .dataframe tbody tr th:only-of-type {\n",
       "        vertical-align: middle;\n",
       "    }\n",
       "\n",
       "    .dataframe tbody tr th {\n",
       "        vertical-align: top;\n",
       "    }\n",
       "\n",
       "    .dataframe thead th {\n",
       "        text-align: right;\n",
       "    }\n",
       "</style>\n",
       "<table border=\"1\" class=\"dataframe\">\n",
       "  <thead>\n",
       "    <tr style=\"text-align: right;\">\n",
       "      <th></th>\n",
       "      <th>school</th>\n",
       "      <th>sex</th>\n",
       "      <th>age</th>\n",
       "      <th>address</th>\n",
       "      <th>famsize</th>\n",
       "      <th>Pstatus</th>\n",
       "      <th>Medu</th>\n",
       "      <th>Fedu</th>\n",
       "      <th>Mjob</th>\n",
       "      <th>Fjob</th>\n",
       "      <th>...</th>\n",
       "      <th>famrel</th>\n",
       "      <th>freetime</th>\n",
       "      <th>goout</th>\n",
       "      <th>Dalc</th>\n",
       "      <th>Walc</th>\n",
       "      <th>health</th>\n",
       "      <th>absences</th>\n",
       "      <th>G1</th>\n",
       "      <th>G2</th>\n",
       "      <th>G3</th>\n",
       "    </tr>\n",
       "  </thead>\n",
       "  <tbody>\n",
       "    <tr>\n",
       "      <th>0</th>\n",
       "      <td>GP</td>\n",
       "      <td>F</td>\n",
       "      <td>18</td>\n",
       "      <td>U</td>\n",
       "      <td>GT3</td>\n",
       "      <td>A</td>\n",
       "      <td>4</td>\n",
       "      <td>4</td>\n",
       "      <td>at_home</td>\n",
       "      <td>teacher</td>\n",
       "      <td>...</td>\n",
       "      <td>4</td>\n",
       "      <td>3</td>\n",
       "      <td>4</td>\n",
       "      <td>1</td>\n",
       "      <td>1</td>\n",
       "      <td>3</td>\n",
       "      <td>6</td>\n",
       "      <td>5</td>\n",
       "      <td>6</td>\n",
       "      <td>6</td>\n",
       "    </tr>\n",
       "    <tr>\n",
       "      <th>1</th>\n",
       "      <td>GP</td>\n",
       "      <td>F</td>\n",
       "      <td>17</td>\n",
       "      <td>U</td>\n",
       "      <td>GT3</td>\n",
       "      <td>T</td>\n",
       "      <td>1</td>\n",
       "      <td>1</td>\n",
       "      <td>at_home</td>\n",
       "      <td>other</td>\n",
       "      <td>...</td>\n",
       "      <td>5</td>\n",
       "      <td>3</td>\n",
       "      <td>3</td>\n",
       "      <td>1</td>\n",
       "      <td>1</td>\n",
       "      <td>3</td>\n",
       "      <td>4</td>\n",
       "      <td>5</td>\n",
       "      <td>5</td>\n",
       "      <td>6</td>\n",
       "    </tr>\n",
       "    <tr>\n",
       "      <th>2</th>\n",
       "      <td>GP</td>\n",
       "      <td>F</td>\n",
       "      <td>15</td>\n",
       "      <td>U</td>\n",
       "      <td>LE3</td>\n",
       "      <td>T</td>\n",
       "      <td>1</td>\n",
       "      <td>1</td>\n",
       "      <td>at_home</td>\n",
       "      <td>other</td>\n",
       "      <td>...</td>\n",
       "      <td>4</td>\n",
       "      <td>3</td>\n",
       "      <td>2</td>\n",
       "      <td>2</td>\n",
       "      <td>3</td>\n",
       "      <td>3</td>\n",
       "      <td>10</td>\n",
       "      <td>7</td>\n",
       "      <td>8</td>\n",
       "      <td>10</td>\n",
       "    </tr>\n",
       "    <tr>\n",
       "      <th>3</th>\n",
       "      <td>GP</td>\n",
       "      <td>F</td>\n",
       "      <td>15</td>\n",
       "      <td>U</td>\n",
       "      <td>GT3</td>\n",
       "      <td>T</td>\n",
       "      <td>4</td>\n",
       "      <td>2</td>\n",
       "      <td>health</td>\n",
       "      <td>services</td>\n",
       "      <td>...</td>\n",
       "      <td>3</td>\n",
       "      <td>2</td>\n",
       "      <td>2</td>\n",
       "      <td>1</td>\n",
       "      <td>1</td>\n",
       "      <td>5</td>\n",
       "      <td>2</td>\n",
       "      <td>15</td>\n",
       "      <td>14</td>\n",
       "      <td>15</td>\n",
       "    </tr>\n",
       "    <tr>\n",
       "      <th>4</th>\n",
       "      <td>GP</td>\n",
       "      <td>F</td>\n",
       "      <td>16</td>\n",
       "      <td>U</td>\n",
       "      <td>GT3</td>\n",
       "      <td>T</td>\n",
       "      <td>3</td>\n",
       "      <td>3</td>\n",
       "      <td>other</td>\n",
       "      <td>other</td>\n",
       "      <td>...</td>\n",
       "      <td>4</td>\n",
       "      <td>3</td>\n",
       "      <td>2</td>\n",
       "      <td>1</td>\n",
       "      <td>2</td>\n",
       "      <td>5</td>\n",
       "      <td>4</td>\n",
       "      <td>6</td>\n",
       "      <td>10</td>\n",
       "      <td>10</td>\n",
       "    </tr>\n",
       "  </tbody>\n",
       "</table>\n",
       "<p>5 rows × 33 columns</p>\n",
       "</div>"
      ],
      "text/plain": [
       "  school sex  age address famsize Pstatus  Medu  Fedu     Mjob      Fjob  ...  \\\n",
       "0     GP   F   18       U     GT3       A     4     4  at_home   teacher  ...   \n",
       "1     GP   F   17       U     GT3       T     1     1  at_home     other  ...   \n",
       "2     GP   F   15       U     LE3       T     1     1  at_home     other  ...   \n",
       "3     GP   F   15       U     GT3       T     4     2   health  services  ...   \n",
       "4     GP   F   16       U     GT3       T     3     3    other     other  ...   \n",
       "\n",
       "  famrel freetime  goout  Dalc  Walc health absences  G1  G2  G3  \n",
       "0      4        3      4     1     1      3        6   5   6   6  \n",
       "1      5        3      3     1     1      3        4   5   5   6  \n",
       "2      4        3      2     2     3      3       10   7   8  10  \n",
       "3      3        2      2     1     1      5        2  15  14  15  \n",
       "4      4        3      2     1     2      5        4   6  10  10  \n",
       "\n",
       "[5 rows x 33 columns]"
      ]
     },
     "execution_count": 4,
     "metadata": {},
     "output_type": "execute_result"
    }
   ],
   "source": [
    "mat_stud.head()"
   ]
  },
  {
   "cell_type": "code",
   "execution_count": 6,
   "id": "b92e5736",
   "metadata": {},
   "outputs": [
    {
     "name": "stdout",
     "output_type": "stream",
     "text": [
      "<class 'pandas.core.frame.DataFrame'>\n",
      "RangeIndex: 395 entries, 0 to 394\n",
      "Data columns (total 33 columns):\n",
      " #   Column      Non-Null Count  Dtype \n",
      "---  ------      --------------  ----- \n",
      " 0   school      395 non-null    object\n",
      " 1   sex         395 non-null    object\n",
      " 2   age         395 non-null    int64 \n",
      " 3   address     395 non-null    object\n",
      " 4   famsize     395 non-null    object\n",
      " 5   Pstatus     395 non-null    object\n",
      " 6   Medu        395 non-null    int64 \n",
      " 7   Fedu        395 non-null    int64 \n",
      " 8   Mjob        395 non-null    object\n",
      " 9   Fjob        395 non-null    object\n",
      " 10  reason      395 non-null    object\n",
      " 11  guardian    395 non-null    object\n",
      " 12  traveltime  395 non-null    int64 \n",
      " 13  studytime   395 non-null    int64 \n",
      " 14  failures    395 non-null    int64 \n",
      " 15  schoolsup   395 non-null    object\n",
      " 16  famsup      395 non-null    object\n",
      " 17  paid        395 non-null    object\n",
      " 18  activities  395 non-null    object\n",
      " 19  nursery     395 non-null    object\n",
      " 20  higher      395 non-null    object\n",
      " 21  internet    395 non-null    object\n",
      " 22  romantic    395 non-null    object\n",
      " 23  famrel      395 non-null    int64 \n",
      " 24  freetime    395 non-null    int64 \n",
      " 25  goout       395 non-null    int64 \n",
      " 26  Dalc        395 non-null    int64 \n",
      " 27  Walc        395 non-null    int64 \n",
      " 28  health      395 non-null    int64 \n",
      " 29  absences    395 non-null    int64 \n",
      " 30  G1          395 non-null    int64 \n",
      " 31  G2          395 non-null    int64 \n",
      " 32  G3          395 non-null    int64 \n",
      "dtypes: int64(16), object(17)\n",
      "memory usage: 102.0+ KB\n"
     ]
    }
   ],
   "source": [
    "mat_stud.info()"
   ]
  },
  {
   "cell_type": "markdown",
   "id": "08b25fd0",
   "metadata": {},
   "source": [
    "### Pré-Processamento\n",
    "\n",
    "Para este trabalho, serão considerados apenas alguns fatores considerados preponderantes para analisarmos o perfil de consumo de álcool dos estudantes, tanto dos campos da matemática como do português. Serão eles:\n",
    "1. sex: Sexo (F - M) - cat\n",
    "2. age: Idade (15 - 22)\n",
    "3. Pstatus: Estado civil dos pais (T - Juntos; A - Separados) - cat\n",
    "4. studytime: Tempo dedicado aos estudos semanalmente (1 - < 2 horas, 2 - 2 to 5 horas, 3 - 5 to 10 horas, or 4 - >10 horas)\n",
    "5. failures: Número de reprovações (1 - 4) - cat\n",
    "6. activities: Atividades extra-curriculares (yes / no) - bool\n",
    "7. higher: Pretensão de cursar ensino superior (yes / no) - bool\n",
    "8. internet: Acesso à internet (yes / no) - bool\n",
    "9. famrel: Qualidade do relacionamento familiar (1 - muito ruim; 5 - muito bom) \n",
    "10. freetime: Tempo livre após a escola (1 - muito ruim; 5 - muito bom)\n",
    "11. Dalc: Consumo diário de álcool (seg-sex) (1 - quase nenhum; 5 - muito elevado) - cat\n",
    "12. Walc: Consumo de álcool aos finais de semana (1 - quase nenhum; 5 - muito elevado) - cat\n",
    "13. G1, G2, G3: Notas dos períodos. (0 - 20)\n",
    "\n",
    "As demais colunas serão ignoradas."
   ]
  },
  {
   "cell_type": "code",
   "execution_count": 3,
   "id": "c3ab8390",
   "metadata": {},
   "outputs": [],
   "source": [
    "mat_stud = mat_stud.drop(['school','address','famsize','Medu','Fedu',\\\n",
    "                          'Mjob','Fjob','reason','guardian','traveltime',\\\n",
    "                          'schoolsup','famsup','paid','nursery','romantic',\\\n",
    "                          'goout','health','absences'],axis=1)"
   ]
  },
  {
   "cell_type": "code",
   "execution_count": 4,
   "id": "a0520d98",
   "metadata": {},
   "outputs": [
    {
     "name": "stdout",
     "output_type": "stream",
     "text": [
      "<class 'pandas.core.frame.DataFrame'>\n",
      "RangeIndex: 395 entries, 0 to 394\n",
      "Data columns (total 15 columns):\n",
      " #   Column      Non-Null Count  Dtype \n",
      "---  ------      --------------  ----- \n",
      " 0   sex         395 non-null    object\n",
      " 1   age         395 non-null    int64 \n",
      " 2   Pstatus     395 non-null    object\n",
      " 3   studytime   395 non-null    int64 \n",
      " 4   failures    395 non-null    int64 \n",
      " 5   activities  395 non-null    object\n",
      " 6   higher      395 non-null    object\n",
      " 7   internet    395 non-null    object\n",
      " 8   famrel      395 non-null    int64 \n",
      " 9   freetime    395 non-null    int64 \n",
      " 10  Dalc        395 non-null    int64 \n",
      " 11  Walc        395 non-null    int64 \n",
      " 12  G1          395 non-null    int64 \n",
      " 13  G2          395 non-null    int64 \n",
      " 14  G3          395 non-null    int64 \n",
      "dtypes: int64(10), object(5)\n",
      "memory usage: 46.4+ KB\n"
     ]
    }
   ],
   "source": [
    "mat_stud.info()"
   ]
  },
  {
   "cell_type": "code",
   "execution_count": 9,
   "id": "63952161",
   "metadata": {},
   "outputs": [
    {
     "data": {
      "text/html": [
       "<div>\n",
       "<style scoped>\n",
       "    .dataframe tbody tr th:only-of-type {\n",
       "        vertical-align: middle;\n",
       "    }\n",
       "\n",
       "    .dataframe tbody tr th {\n",
       "        vertical-align: top;\n",
       "    }\n",
       "\n",
       "    .dataframe thead th {\n",
       "        text-align: right;\n",
       "    }\n",
       "</style>\n",
       "<table border=\"1\" class=\"dataframe\">\n",
       "  <thead>\n",
       "    <tr style=\"text-align: right;\">\n",
       "      <th></th>\n",
       "      <th>sex</th>\n",
       "      <th>age</th>\n",
       "      <th>Pstatus</th>\n",
       "      <th>studytime</th>\n",
       "      <th>failures</th>\n",
       "      <th>activities</th>\n",
       "      <th>higher</th>\n",
       "      <th>internet</th>\n",
       "      <th>famrel</th>\n",
       "      <th>freetime</th>\n",
       "      <th>Dalc</th>\n",
       "      <th>Walc</th>\n",
       "      <th>G1</th>\n",
       "      <th>G2</th>\n",
       "      <th>G3</th>\n",
       "    </tr>\n",
       "  </thead>\n",
       "  <tbody>\n",
       "    <tr>\n",
       "      <th>0</th>\n",
       "      <td>F</td>\n",
       "      <td>18</td>\n",
       "      <td>A</td>\n",
       "      <td>2</td>\n",
       "      <td>0</td>\n",
       "      <td>no</td>\n",
       "      <td>yes</td>\n",
       "      <td>no</td>\n",
       "      <td>4</td>\n",
       "      <td>3</td>\n",
       "      <td>1</td>\n",
       "      <td>1</td>\n",
       "      <td>5</td>\n",
       "      <td>6</td>\n",
       "      <td>6</td>\n",
       "    </tr>\n",
       "    <tr>\n",
       "      <th>1</th>\n",
       "      <td>F</td>\n",
       "      <td>17</td>\n",
       "      <td>T</td>\n",
       "      <td>2</td>\n",
       "      <td>0</td>\n",
       "      <td>no</td>\n",
       "      <td>yes</td>\n",
       "      <td>yes</td>\n",
       "      <td>5</td>\n",
       "      <td>3</td>\n",
       "      <td>1</td>\n",
       "      <td>1</td>\n",
       "      <td>5</td>\n",
       "      <td>5</td>\n",
       "      <td>6</td>\n",
       "    </tr>\n",
       "    <tr>\n",
       "      <th>2</th>\n",
       "      <td>F</td>\n",
       "      <td>15</td>\n",
       "      <td>T</td>\n",
       "      <td>2</td>\n",
       "      <td>3</td>\n",
       "      <td>no</td>\n",
       "      <td>yes</td>\n",
       "      <td>yes</td>\n",
       "      <td>4</td>\n",
       "      <td>3</td>\n",
       "      <td>2</td>\n",
       "      <td>3</td>\n",
       "      <td>7</td>\n",
       "      <td>8</td>\n",
       "      <td>10</td>\n",
       "    </tr>\n",
       "    <tr>\n",
       "      <th>3</th>\n",
       "      <td>F</td>\n",
       "      <td>15</td>\n",
       "      <td>T</td>\n",
       "      <td>3</td>\n",
       "      <td>0</td>\n",
       "      <td>yes</td>\n",
       "      <td>yes</td>\n",
       "      <td>yes</td>\n",
       "      <td>3</td>\n",
       "      <td>2</td>\n",
       "      <td>1</td>\n",
       "      <td>1</td>\n",
       "      <td>15</td>\n",
       "      <td>14</td>\n",
       "      <td>15</td>\n",
       "    </tr>\n",
       "    <tr>\n",
       "      <th>4</th>\n",
       "      <td>F</td>\n",
       "      <td>16</td>\n",
       "      <td>T</td>\n",
       "      <td>2</td>\n",
       "      <td>0</td>\n",
       "      <td>no</td>\n",
       "      <td>yes</td>\n",
       "      <td>no</td>\n",
       "      <td>4</td>\n",
       "      <td>3</td>\n",
       "      <td>1</td>\n",
       "      <td>2</td>\n",
       "      <td>6</td>\n",
       "      <td>10</td>\n",
       "      <td>10</td>\n",
       "    </tr>\n",
       "  </tbody>\n",
       "</table>\n",
       "</div>"
      ],
      "text/plain": [
       "  sex  age Pstatus  studytime  failures activities higher internet  famrel  \\\n",
       "0   F   18       A          2         0         no    yes       no       4   \n",
       "1   F   17       T          2         0         no    yes      yes       5   \n",
       "2   F   15       T          2         3         no    yes      yes       4   \n",
       "3   F   15       T          3         0        yes    yes      yes       3   \n",
       "4   F   16       T          2         0         no    yes       no       4   \n",
       "\n",
       "   freetime  Dalc  Walc  G1  G2  G3  \n",
       "0         3     1     1   5   6   6  \n",
       "1         3     1     1   5   5   6  \n",
       "2         3     2     3   7   8  10  \n",
       "3         2     1     1  15  14  15  \n",
       "4         3     1     2   6  10  10  "
      ]
     },
     "execution_count": 9,
     "metadata": {},
     "output_type": "execute_result"
    }
   ],
   "source": [
    "mat_stud.head()"
   ]
  },
  {
   "cell_type": "markdown",
   "id": "a3e2ec2e",
   "metadata": {},
   "source": [
    "#### Ajustando Dados\n",
    "\n",
    "Definindo alguns dos dados como categóricos e removendo linhas com dados ausentes."
   ]
  },
  {
   "cell_type": "code",
   "execution_count": 5,
   "id": "90b25a61",
   "metadata": {},
   "outputs": [],
   "source": [
    "def convert(item):\n",
    "    if item == 'yes':\n",
    "        return True\n",
    "    elif item == 'no':\n",
    "        return False\n",
    "    \n",
    "def adjust(item):\n",
    "    if item == 1:\n",
    "        return 'Muito Baixo'\n",
    "    elif item == 2:\n",
    "        return 'Baixo'\n",
    "    elif item == 3:\n",
    "        return 'Médio'\n",
    "    elif item == 4:\n",
    "        return 'Elevado'\n",
    "    elif item == 5:\n",
    "        return 'Muito Elevado'"
   ]
  },
  {
   "cell_type": "code",
   "execution_count": 6,
   "id": "0bfa2ea4",
   "metadata": {},
   "outputs": [],
   "source": [
    "mat_stud['sex'] = mat_stud['sex'].astype('category')\n",
    "mat_stud['Pstatus'] = mat_stud['Pstatus'].astype('category')\n",
    "mat_stud['failures'] = mat_stud['failures'].astype('category')\n",
    "mat_stud['Dalc'] = mat_stud['Dalc'].apply(adjust)\n",
    "mat_stud['Walc'] = mat_stud['Walc'].apply(adjust)\n",
    "mat_stud['activities'] = mat_stud['activities'].apply(convert)\n",
    "mat_stud['higher'] = mat_stud['higher'].apply(convert)\n",
    "mat_stud['internet'] = mat_stud['internet'].apply(convert)"
   ]
  },
  {
   "cell_type": "code",
   "execution_count": 7,
   "id": "5a0153c4",
   "metadata": {},
   "outputs": [],
   "source": [
    "mat_stud['Dalc'] = mat_stud['Dalc'].astype('category')\n",
    "mat_stud['Walc'] = mat_stud['Walc'].astype('category')"
   ]
  },
  {
   "cell_type": "code",
   "execution_count": 8,
   "id": "5d59c342",
   "metadata": {},
   "outputs": [
    {
     "data": {
      "text/plain": [
       "sex           category\n",
       "age              int64\n",
       "Pstatus       category\n",
       "studytime        int64\n",
       "failures      category\n",
       "activities        bool\n",
       "higher            bool\n",
       "internet          bool\n",
       "famrel           int64\n",
       "freetime         int64\n",
       "Dalc          category\n",
       "Walc          category\n",
       "G1               int64\n",
       "G2               int64\n",
       "G3               int64\n",
       "dtype: object"
      ]
     },
     "execution_count": 8,
     "metadata": {},
     "output_type": "execute_result"
    }
   ],
   "source": [
    "mat_stud.dtypes"
   ]
  },
  {
   "cell_type": "code",
   "execution_count": 14,
   "id": "22e6256c",
   "metadata": {},
   "outputs": [
    {
     "data": {
      "text/html": [
       "<div>\n",
       "<style scoped>\n",
       "    .dataframe tbody tr th:only-of-type {\n",
       "        vertical-align: middle;\n",
       "    }\n",
       "\n",
       "    .dataframe tbody tr th {\n",
       "        vertical-align: top;\n",
       "    }\n",
       "\n",
       "    .dataframe thead th {\n",
       "        text-align: right;\n",
       "    }\n",
       "</style>\n",
       "<table border=\"1\" class=\"dataframe\">\n",
       "  <thead>\n",
       "    <tr style=\"text-align: right;\">\n",
       "      <th></th>\n",
       "      <th>sex</th>\n",
       "      <th>age</th>\n",
       "      <th>Pstatus</th>\n",
       "      <th>studytime</th>\n",
       "      <th>failures</th>\n",
       "      <th>activities</th>\n",
       "      <th>higher</th>\n",
       "      <th>internet</th>\n",
       "      <th>famrel</th>\n",
       "      <th>freetime</th>\n",
       "      <th>Dalc</th>\n",
       "      <th>Walc</th>\n",
       "      <th>G1</th>\n",
       "      <th>G2</th>\n",
       "      <th>G3</th>\n",
       "    </tr>\n",
       "  </thead>\n",
       "  <tbody>\n",
       "    <tr>\n",
       "      <th>0</th>\n",
       "      <td>F</td>\n",
       "      <td>18</td>\n",
       "      <td>A</td>\n",
       "      <td>2</td>\n",
       "      <td>0</td>\n",
       "      <td>False</td>\n",
       "      <td>True</td>\n",
       "      <td>False</td>\n",
       "      <td>4</td>\n",
       "      <td>3</td>\n",
       "      <td>Muito Baixo</td>\n",
       "      <td>Muito Baixo</td>\n",
       "      <td>5</td>\n",
       "      <td>6</td>\n",
       "      <td>6</td>\n",
       "    </tr>\n",
       "    <tr>\n",
       "      <th>1</th>\n",
       "      <td>F</td>\n",
       "      <td>17</td>\n",
       "      <td>T</td>\n",
       "      <td>2</td>\n",
       "      <td>0</td>\n",
       "      <td>False</td>\n",
       "      <td>True</td>\n",
       "      <td>True</td>\n",
       "      <td>5</td>\n",
       "      <td>3</td>\n",
       "      <td>Muito Baixo</td>\n",
       "      <td>Muito Baixo</td>\n",
       "      <td>5</td>\n",
       "      <td>5</td>\n",
       "      <td>6</td>\n",
       "    </tr>\n",
       "    <tr>\n",
       "      <th>2</th>\n",
       "      <td>F</td>\n",
       "      <td>15</td>\n",
       "      <td>T</td>\n",
       "      <td>2</td>\n",
       "      <td>3</td>\n",
       "      <td>False</td>\n",
       "      <td>True</td>\n",
       "      <td>True</td>\n",
       "      <td>4</td>\n",
       "      <td>3</td>\n",
       "      <td>Baixo</td>\n",
       "      <td>Médio</td>\n",
       "      <td>7</td>\n",
       "      <td>8</td>\n",
       "      <td>10</td>\n",
       "    </tr>\n",
       "    <tr>\n",
       "      <th>3</th>\n",
       "      <td>F</td>\n",
       "      <td>15</td>\n",
       "      <td>T</td>\n",
       "      <td>3</td>\n",
       "      <td>0</td>\n",
       "      <td>True</td>\n",
       "      <td>True</td>\n",
       "      <td>True</td>\n",
       "      <td>3</td>\n",
       "      <td>2</td>\n",
       "      <td>Muito Baixo</td>\n",
       "      <td>Muito Baixo</td>\n",
       "      <td>15</td>\n",
       "      <td>14</td>\n",
       "      <td>15</td>\n",
       "    </tr>\n",
       "    <tr>\n",
       "      <th>4</th>\n",
       "      <td>F</td>\n",
       "      <td>16</td>\n",
       "      <td>T</td>\n",
       "      <td>2</td>\n",
       "      <td>0</td>\n",
       "      <td>False</td>\n",
       "      <td>True</td>\n",
       "      <td>False</td>\n",
       "      <td>4</td>\n",
       "      <td>3</td>\n",
       "      <td>Muito Baixo</td>\n",
       "      <td>Baixo</td>\n",
       "      <td>6</td>\n",
       "      <td>10</td>\n",
       "      <td>10</td>\n",
       "    </tr>\n",
       "  </tbody>\n",
       "</table>\n",
       "</div>"
      ],
      "text/plain": [
       "  sex  age Pstatus  studytime failures  activities  higher  internet  famrel  \\\n",
       "0   F   18       A          2        0       False    True     False       4   \n",
       "1   F   17       T          2        0       False    True      True       5   \n",
       "2   F   15       T          2        3       False    True      True       4   \n",
       "3   F   15       T          3        0        True    True      True       3   \n",
       "4   F   16       T          2        0       False    True     False       4   \n",
       "\n",
       "   freetime         Dalc         Walc  G1  G2  G3  \n",
       "0         3  Muito Baixo  Muito Baixo   5   6   6  \n",
       "1         3  Muito Baixo  Muito Baixo   5   5   6  \n",
       "2         3        Baixo        Médio   7   8  10  \n",
       "3         2  Muito Baixo  Muito Baixo  15  14  15  \n",
       "4         3  Muito Baixo        Baixo   6  10  10  "
      ]
     },
     "execution_count": 14,
     "metadata": {},
     "output_type": "execute_result"
    }
   ],
   "source": [
    "mat_stud.head()"
   ]
  },
  {
   "cell_type": "code",
   "execution_count": 9,
   "id": "b99967fc",
   "metadata": {},
   "outputs": [
    {
     "data": {
      "text/plain": [
       "Index(['Baixo', 'Elevado', 'Muito Baixo', 'Muito Elevado', 'Médio'], dtype='object')"
      ]
     },
     "execution_count": 9,
     "metadata": {},
     "output_type": "execute_result"
    }
   ],
   "source": [
    "mat_stud['Dalc'].cat.categories"
   ]
  },
  {
   "cell_type": "code",
   "execution_count": 10,
   "id": "0f3a70bb",
   "metadata": {},
   "outputs": [
    {
     "data": {
      "text/plain": [
       "(395, 15)"
      ]
     },
     "execution_count": 10,
     "metadata": {},
     "output_type": "execute_result"
    }
   ],
   "source": [
    "mat_stud.shape"
   ]
  },
  {
   "cell_type": "markdown",
   "id": "82d4e822",
   "metadata": {},
   "source": [
    "Averiguando a existência de elementos nulos. Caso existam, aplicar dropna() no dataset. A depender da quantidade, podemos remover colunas com menos 65% dos dados presentes. (thresh=0.65*len(mat_stud), axis=1)"
   ]
  },
  {
   "cell_type": "code",
   "execution_count": 11,
   "id": "af0814aa",
   "metadata": {},
   "outputs": [
    {
     "name": "stdout",
     "output_type": "stream",
     "text": [
      "sex           0\n",
      "age           0\n",
      "Pstatus       0\n",
      "studytime     0\n",
      "failures      0\n",
      "activities    0\n",
      "higher        0\n",
      "internet      0\n",
      "famrel        0\n",
      "freetime      0\n",
      "Dalc          0\n",
      "Walc          0\n",
      "G1            0\n",
      "G2            0\n",
      "G3            0\n",
      "dtype: int64\n"
     ]
    }
   ],
   "source": [
    "print(mat_stud.isnull().sum())"
   ]
  },
  {
   "cell_type": "code",
   "execution_count": 12,
   "id": "a6672d8b",
   "metadata": {},
   "outputs": [
    {
     "data": {
      "text/plain": [
       "395"
      ]
     },
     "execution_count": 12,
     "metadata": {},
     "output_type": "execute_result"
    }
   ],
   "source": [
    "# averiguando existência de dados duplicados\n",
    "len(mat_stud.duplicated() == False)"
   ]
  },
  {
   "cell_type": "markdown",
   "id": "69981678-ce96-4fa4-83b6-b4d8cb2699ce",
   "metadata": {},
   "source": [
    "#### Análise Exploratória e Observação dos Dados "
   ]
  },
  {
   "cell_type": "code",
   "execution_count": null,
   "id": "86700658-136e-4983-bae3-6c353e15dccb",
   "metadata": {},
   "outputs": [],
   "source": []
  },
  {
   "cell_type": "code",
   "execution_count": 13,
   "id": "c8931bf9",
   "metadata": {},
   "outputs": [],
   "source": [
    "# adicionando uma coluna 'média' ao dataset para facilitar visualização de notas\n",
    "mat_stud['media'] = round((mat_stud['G1'] + mat_stud['G2'] + mat_stud['G3'])/3, 2)"
   ]
  },
  {
   "cell_type": "code",
   "execution_count": 14,
   "id": "a42c41ca",
   "metadata": {},
   "outputs": [
    {
     "data": {
      "text/plain": [
       "count    395.000000\n",
       "mean      10.679139\n",
       "std        3.696912\n",
       "min        1.330000\n",
       "25%        8.330000\n",
       "50%       10.670000\n",
       "75%       13.330000\n",
       "max       19.330000\n",
       "Name: media, dtype: float64"
      ]
     },
     "execution_count": 14,
     "metadata": {},
     "output_type": "execute_result"
    }
   ],
   "source": [
    "mat_stud['media'].describe()"
   ]
  },
  {
   "cell_type": "code",
   "execution_count": 47,
   "id": "b0eb741a-a0cd-4846-9162-a8d4e1c33d3e",
   "metadata": {},
   "outputs": [
    {
     "data": {
      "text/plain": [
       "count    395.000000\n",
       "mean      16.696203\n",
       "std        1.276043\n",
       "min       15.000000\n",
       "25%       16.000000\n",
       "50%       17.000000\n",
       "75%       18.000000\n",
       "max       22.000000\n",
       "Name: age, dtype: float64"
      ]
     },
     "execution_count": 47,
     "metadata": {},
     "output_type": "execute_result"
    }
   ],
   "source": [
    "# Observando a idade dos estudantes\n",
    "mat_stud['age'].describe()"
   ]
  },
  {
   "cell_type": "code",
   "execution_count": 15,
   "id": "a5ea5e1d-24cd-4be1-b454-c4e8f8eef1ca",
   "metadata": {},
   "outputs": [
    {
     "data": {
      "text/plain": [
       "F    0.526582\n",
       "M    0.473418\n",
       "Name: sex, dtype: float64"
      ]
     },
     "execution_count": 15,
     "metadata": {},
     "output_type": "execute_result"
    }
   ],
   "source": [
    "# Analisando o sexo dos Estudantes\n",
    "mat_stud['sex'].value_counts() / mat_stud.shape[0]"
   ]
  },
  {
   "cell_type": "code",
   "execution_count": 16,
   "id": "7d03fa0e-1a51-4a60-9fad-a9754bd1d6b2",
   "metadata": {},
   "outputs": [
    {
     "name": "stderr",
     "output_type": "stream",
     "text": [
      "<ipython-input-16-6e8efc769b10>:4: UserWarning: To output multiple subplots, the figure containing the passed axes is being cleared\n",
      "  mat_stud.hist(ax = ax)\n"
     ]
    },
    {
     "data": {
      "image/png": "[encoded data removed]",
      "text/plain": [
       "<Figure size 1080x1440 with 9 Axes>"
      ]
     },
     "metadata": {
      "needs_background": "light"
     },
     "output_type": "display_data"
    }
   ],
   "source": [
    "# plot histogram to see the distribution of the data\n",
    "fig = plt.figure(figsize = (15,20))\n",
    "ax = fig.gca()\n",
    "mat_stud.hist(ax = ax)\n",
    "plt.show()"
   ]
  },
  {
   "cell_type": "code",
   "execution_count": null,
   "id": "73b04195-dc4c-4ddd-838b-075968542081",
   "metadata": {},
   "outputs": [],
   "source": []
  },
  {
   "cell_type": "markdown",
   "id": "91bee6c5-b33f-4665-bb2e-de7ce01933af",
   "metadata": {},
   "source": [
    "#### Seleção de Atributos\n",
    "\n",
    "Para a análise, serão avaliados como os hábitos dos estudantes de consumo elevado e muito elevado de álcool diariamente influenciam a média de suas notas e se esses consumos são influenciados por outros fatores.\n",
    "\n",
    "A princípio, um novo dataset com esses estudantes será selecionado."
   ]
  },
  {
   "cell_type": "code",
   "execution_count": 50,
   "id": "f0624780-07a3-48b6-b276-7e2d277eaaf2",
   "metadata": {},
   "outputs": [
    {
     "data": {
      "text/plain": [
       "Muito Baixo      276\n",
       "Baixo             75\n",
       "Médio             26\n",
       "Elevado            9\n",
       "Muito Elevado      9\n",
       "Name: Dalc, dtype: int64"
      ]
     },
     "execution_count": 50,
     "metadata": {},
     "output_type": "execute_result"
    }
   ],
   "source": [
    "# Observando o consumo de álcool dos estudantes\n",
    "mat_stud['Dalc'].value_counts()"
   ]
  },
  {
   "cell_type": "code",
   "execution_count": 32,
   "id": "d1733ea3",
   "metadata": {},
   "outputs": [
    {
     "data": {
      "text/plain": [
       "Text(0, 0.5, 'Estudantes')"
      ]
     },
     "execution_count": 32,
     "metadata": {},
     "output_type": "execute_result"
    },
    {
     "data": {
      "image/png": "[encoded data removed]",
      "text/plain": [
       "<Figure size 432x288 with 1 Axes>"
      ]
     },
     "metadata": {
      "needs_background": "light"
     },
     "output_type": "display_data"
    }
   ],
   "source": [
    "#Verificação visual do consumo de álcool por estudantes durante a semana\n",
    "\n",
    "counts = mat_stud['Dalc'].value_counts()\n",
    "counts.plot.bar(rot=0)\n",
    "plt.xlabel(\"Consumo de Álcool\")\n",
    "plt.ylabel(\"Estudantes\")"
   ]
  },
  {
   "cell_type": "code",
   "execution_count": 22,
   "id": "59a94b3f",
   "metadata": {},
   "outputs": [
    {
     "data": {
      "text/plain": [
       "Muito Baixo      151\n",
       "Baixo             85\n",
       "Médio             80\n",
       "Elevado           51\n",
       "Muito Elevado     28\n",
       "Name: Walc, dtype: int64"
      ]
     },
     "execution_count": 22,
     "metadata": {},
     "output_type": "execute_result"
    }
   ],
   "source": [
    "mat_stud['Walc'].value_counts()"
   ]
  },
  {
   "cell_type": "code",
   "execution_count": 17,
   "id": "77379581",
   "metadata": {},
   "outputs": [
    {
     "data": {
      "text/plain": [
       "Text(0, 0.5, 'Estudantes')"
      ]
     },
     "execution_count": 17,
     "metadata": {},
     "output_type": "execute_result"
    },
    {
     "data": {
      "image/png": "[encoded data removed]",
      "text/plain": [
       "<Figure size 432x288 with 1 Axes>"
      ]
     },
     "metadata": {
      "needs_background": "light"
     },
     "output_type": "display_data"
    }
   ],
   "source": [
    "#Verificação visual do consumo de álcool por estudantes durante a semana\n",
    "\n",
    "wcounts = mat_stud['Walc'].value_counts()\n",
    "wcounts.plot.bar(rot=0)\n",
    "plt.xlabel(\"Consumo de Álcool\")\n",
    "plt.ylabel(\"Estudantes\")"
   ]
  },
  {
   "cell_type": "code",
   "execution_count": 35,
   "id": "ee38c64b-360f-4b11-918d-d40cc2bd50f0",
   "metadata": {},
   "outputs": [],
   "source": [
    "# Seleção dos estudantes\n",
    "\n",
    "mat_stud_s_notas = mat_stud.drop(['G1','G2','G3'],axis=1)\n",
    "amostra_mat = mat_stud_s_notas.loc[(mat_stud['Dalc'] == 'Muito Elevado') | (mat_stud['Dalc'] == 'Elevado')]\n",
    "amostra_s_mat = mat_stud_s_notas.loc[(mat_stud['Dalc'] == 'Médio') | (mat_stud['Dalc'] == 'Baixo') | (mat_stud['Dalc'] == 'Muito Baixo')]"
   ]
  },
  {
   "cell_type": "code",
   "execution_count": 36,
   "id": "070aa9a4-47cc-48fb-985e-db766507a946",
   "metadata": {},
   "outputs": [
    {
     "data": {
      "text/html": [
       "<div>\n",
       "<style scoped>\n",
       "    .dataframe tbody tr th:only-of-type {\n",
       "        vertical-align: middle;\n",
       "    }\n",
       "\n",
       "    .dataframe tbody tr th {\n",
       "        vertical-align: top;\n",
       "    }\n",
       "\n",
       "    .dataframe thead th {\n",
       "        text-align: right;\n",
       "    }\n",
       "</style>\n",
       "<table border=\"1\" class=\"dataframe\">\n",
       "  <thead>\n",
       "    <tr style=\"text-align: right;\">\n",
       "      <th></th>\n",
       "      <th>age</th>\n",
       "      <th>studytime</th>\n",
       "      <th>famrel</th>\n",
       "      <th>freetime</th>\n",
       "      <th>media</th>\n",
       "    </tr>\n",
       "  </thead>\n",
       "  <tbody>\n",
       "    <tr>\n",
       "      <th>count</th>\n",
       "      <td>18.000000</td>\n",
       "      <td>18.000000</td>\n",
       "      <td>18.000000</td>\n",
       "      <td>18.000000</td>\n",
       "      <td>18.000000</td>\n",
       "    </tr>\n",
       "    <tr>\n",
       "      <th>mean</th>\n",
       "      <td>17.277778</td>\n",
       "      <td>1.722222</td>\n",
       "      <td>3.944444</td>\n",
       "      <td>3.888889</td>\n",
       "      <td>10.221111</td>\n",
       "    </tr>\n",
       "    <tr>\n",
       "      <th>std</th>\n",
       "      <td>1.708303</td>\n",
       "      <td>0.751904</td>\n",
       "      <td>1.109967</td>\n",
       "      <td>0.900254</td>\n",
       "      <td>2.401281</td>\n",
       "    </tr>\n",
       "    <tr>\n",
       "      <th>min</th>\n",
       "      <td>15.000000</td>\n",
       "      <td>1.000000</td>\n",
       "      <td>1.000000</td>\n",
       "      <td>2.000000</td>\n",
       "      <td>5.330000</td>\n",
       "    </tr>\n",
       "    <tr>\n",
       "      <th>25%</th>\n",
       "      <td>16.000000</td>\n",
       "      <td>1.000000</td>\n",
       "      <td>4.000000</td>\n",
       "      <td>3.000000</td>\n",
       "      <td>9.000000</td>\n",
       "    </tr>\n",
       "    <tr>\n",
       "      <th>50%</th>\n",
       "      <td>17.000000</td>\n",
       "      <td>2.000000</td>\n",
       "      <td>4.000000</td>\n",
       "      <td>4.000000</td>\n",
       "      <td>10.665000</td>\n",
       "    </tr>\n",
       "    <tr>\n",
       "      <th>75%</th>\n",
       "      <td>18.000000</td>\n",
       "      <td>2.000000</td>\n",
       "      <td>5.000000</td>\n",
       "      <td>4.750000</td>\n",
       "      <td>12.330000</td>\n",
       "    </tr>\n",
       "    <tr>\n",
       "      <th>max</th>\n",
       "      <td>22.000000</td>\n",
       "      <td>4.000000</td>\n",
       "      <td>5.000000</td>\n",
       "      <td>5.000000</td>\n",
       "      <td>13.330000</td>\n",
       "    </tr>\n",
       "  </tbody>\n",
       "</table>\n",
       "</div>"
      ],
      "text/plain": [
       "             age  studytime     famrel   freetime      media\n",
       "count  18.000000  18.000000  18.000000  18.000000  18.000000\n",
       "mean   17.277778   1.722222   3.944444   3.888889  10.221111\n",
       "std     1.708303   0.751904   1.109967   0.900254   2.401281\n",
       "min    15.000000   1.000000   1.000000   2.000000   5.330000\n",
       "25%    16.000000   1.000000   4.000000   3.000000   9.000000\n",
       "50%    17.000000   2.000000   4.000000   4.000000  10.665000\n",
       "75%    18.000000   2.000000   5.000000   4.750000  12.330000\n",
       "max    22.000000   4.000000   5.000000   5.000000  13.330000"
      ]
     },
     "execution_count": 36,
     "metadata": {},
     "output_type": "execute_result"
    }
   ],
   "source": [
    "amostra_mat.describe()"
   ]
  },
  {
   "cell_type": "code",
   "execution_count": 38,
   "id": "6aa336cc-7fce-42ea-b6ae-6a324bf99058",
   "metadata": {},
   "outputs": [
    {
     "data": {
      "text/html": [
       "<div>\n",
       "<style scoped>\n",
       "    .dataframe tbody tr th:only-of-type {\n",
       "        vertical-align: middle;\n",
       "    }\n",
       "\n",
       "    .dataframe tbody tr th {\n",
       "        vertical-align: top;\n",
       "    }\n",
       "\n",
       "    .dataframe thead th {\n",
       "        text-align: right;\n",
       "    }\n",
       "</style>\n",
       "<table border=\"1\" class=\"dataframe\">\n",
       "  <thead>\n",
       "    <tr style=\"text-align: right;\">\n",
       "      <th></th>\n",
       "      <th>age</th>\n",
       "      <th>studytime</th>\n",
       "      <th>famrel</th>\n",
       "      <th>freetime</th>\n",
       "      <th>media</th>\n",
       "    </tr>\n",
       "  </thead>\n",
       "  <tbody>\n",
       "    <tr>\n",
       "      <th>count</th>\n",
       "      <td>377.000000</td>\n",
       "      <td>377.000000</td>\n",
       "      <td>377.000000</td>\n",
       "      <td>377.000000</td>\n",
       "      <td>377.000000</td>\n",
       "    </tr>\n",
       "    <tr>\n",
       "      <th>mean</th>\n",
       "      <td>16.668435</td>\n",
       "      <td>2.050398</td>\n",
       "      <td>3.944297</td>\n",
       "      <td>3.204244</td>\n",
       "      <td>10.701008</td>\n",
       "    </tr>\n",
       "    <tr>\n",
       "      <th>std</th>\n",
       "      <td>1.247928</td>\n",
       "      <td>0.841166</td>\n",
       "      <td>0.887008</td>\n",
       "      <td>0.993694</td>\n",
       "      <td>3.748361</td>\n",
       "    </tr>\n",
       "    <tr>\n",
       "      <th>min</th>\n",
       "      <td>15.000000</td>\n",
       "      <td>1.000000</td>\n",
       "      <td>1.000000</td>\n",
       "      <td>1.000000</td>\n",
       "      <td>1.330000</td>\n",
       "    </tr>\n",
       "    <tr>\n",
       "      <th>25%</th>\n",
       "      <td>16.000000</td>\n",
       "      <td>1.000000</td>\n",
       "      <td>4.000000</td>\n",
       "      <td>3.000000</td>\n",
       "      <td>8.330000</td>\n",
       "    </tr>\n",
       "    <tr>\n",
       "      <th>50%</th>\n",
       "      <td>17.000000</td>\n",
       "      <td>2.000000</td>\n",
       "      <td>4.000000</td>\n",
       "      <td>3.000000</td>\n",
       "      <td>10.670000</td>\n",
       "    </tr>\n",
       "    <tr>\n",
       "      <th>75%</th>\n",
       "      <td>18.000000</td>\n",
       "      <td>2.000000</td>\n",
       "      <td>5.000000</td>\n",
       "      <td>4.000000</td>\n",
       "      <td>13.330000</td>\n",
       "    </tr>\n",
       "    <tr>\n",
       "      <th>max</th>\n",
       "      <td>21.000000</td>\n",
       "      <td>4.000000</td>\n",
       "      <td>5.000000</td>\n",
       "      <td>5.000000</td>\n",
       "      <td>19.330000</td>\n",
       "    </tr>\n",
       "  </tbody>\n",
       "</table>\n",
       "</div>"
      ],
      "text/plain": [
       "              age   studytime      famrel    freetime       media\n",
       "count  377.000000  377.000000  377.000000  377.000000  377.000000\n",
       "mean    16.668435    2.050398    3.944297    3.204244   10.701008\n",
       "std      1.247928    0.841166    0.887008    0.993694    3.748361\n",
       "min     15.000000    1.000000    1.000000    1.000000    1.330000\n",
       "25%     16.000000    1.000000    4.000000    3.000000    8.330000\n",
       "50%     17.000000    2.000000    4.000000    3.000000   10.670000\n",
       "75%     18.000000    2.000000    5.000000    4.000000   13.330000\n",
       "max     21.000000    4.000000    5.000000    5.000000   19.330000"
      ]
     },
     "execution_count": 38,
     "metadata": {},
     "output_type": "execute_result"
    }
   ],
   "source": [
    "amostra_s_mat.describe()"
   ]
  },
  {
   "cell_type": "code",
   "execution_count": 27,
   "id": "30861564-2ad5-4396-9fb0-2bfae7dee134",
   "metadata": {},
   "outputs": [
    {
     "data": {
      "image/png": "[encoded data removed]",
      "text/plain": [
       "<Figure size 432x288 with 1 Axes>"
      ]
     },
     "metadata": {
      "needs_background": "light"
     },
     "output_type": "display_data"
    }
   ],
   "source": [
    "sns.countplot(amostra_mat['Dalc'],hue = amostra_mat['sex'])\n",
    "plt.xlabel('Consumo Diário de Bebidas Alcóolicas')\n",
    "plt.ylabel('Estudantes')\n",
    "plt.show()"
   ]
  },
  {
   "cell_type": "code",
   "execution_count": 28,
   "id": "3375f616-251b-4294-a216-072d8b704fc6",
   "metadata": {},
   "outputs": [],
   "source": [
    "# Percentual de estudantes com consumos elevados\n",
    "\n",
    "pct_mat = amostra_mat"
   ]
  },
  {
   "cell_type": "code",
   "execution_count": 29,
   "id": "7802402e-74c5-4d50-9ce7-8831566d72fd",
   "metadata": {},
   "outputs": [
    {
     "name": "stderr",
     "output_type": "stream",
     "text": [
      "<ipython-input-29-920cd3d2b3dc>:4: UserWarning: To output multiple subplots, the figure containing the passed axes is being cleared\n",
      "  amostra_mat.hist(ax = ax)\n"
     ]
    },
    {
     "data": {
      "image/png": "[encoded data removed]",
      "text/plain": [
       "<Figure size 1080x1440 with 6 Axes>"
      ]
     },
     "metadata": {
      "needs_background": "light"
     },
     "output_type": "display_data"
    }
   ],
   "source": [
    "# Histograma dos dados para este conjunto\n",
    "fig = plt.figure(figsize = (15,20))\n",
    "ax = fig.gca()\n",
    "amostra_mat.hist(ax = ax)\n",
    "plt.show()"
   ]
  },
  {
   "cell_type": "code",
   "execution_count": null,
   "id": "f6230f64-b36b-459f-9378-63386ffc7544",
   "metadata": {},
   "outputs": [],
   "source": []
  },
  {
   "cell_type": "code",
   "execution_count": 65,
   "id": "3b835580-3270-45cf-9411-52c73eb656e1",
   "metadata": {},
   "outputs": [
    {
     "data": {
      "image/png": "[encoded data removed]",
      "text/plain": [
       "<Figure size 432x288 with 1 Axes>"
      ]
     },
     "metadata": {
      "needs_background": "light"
     },
     "output_type": "display_data"
    }
   ],
   "source": [
    "plt.scatter(mat_stud['Dalc'],mat_stud['media'])\n",
    "plt.show()"
   ]
  },
  {
   "cell_type": "code",
   "execution_count": 71,
   "id": "4f53d554-98c0-45b2-9655-790ba600d91b",
   "metadata": {},
   "outputs": [
    {
     "data": {
      "image/png": "[encoded data removed]",
      "text/plain": [
       "<Figure size 432x288 with 1 Axes>"
      ]
     },
     "metadata": {
      "needs_background": "light"
     },
     "output_type": "display_data"
    }
   ],
   "source": [
    "sns.countplot(mat_stud['Dalc'],hue = mat_stud['sex'])\n",
    "plt.show()"
   ]
  },
  {
   "cell_type": "code",
   "execution_count": 80,
   "id": "5cca241f-6fb7-4d34-9ea0-2b96c6f009dd",
   "metadata": {},
   "outputs": [
    {
     "data": {
      "image/png": "[encoded data removed]",
      "text/plain": [
       "<Figure size 720x360 with 1 Axes>"
      ]
     },
     "metadata": {
      "needs_background": "light"
     },
     "output_type": "display_data"
    }
   ],
   "source": [
    "plt.figure(figsize=(10,5))\n",
    "sns.boxplot(x=mat_stud['Dalc'], y=mat_stud['media'], hue=mat_stud['sex'])\n",
    "plt.xlabel('Consumo Diário de Álcool')\n",
    "plt.ylabel('Média de Notas')\n",
    "plt.show()"
   ]
  },
  {
   "cell_type": "code",
   "execution_count": 24,
   "id": "7b0e1626",
   "metadata": {},
   "outputs": [
    {
     "data": {
      "text/html": [
       "<div>\n",
       "<style scoped>\n",
       "    .dataframe tbody tr th:only-of-type {\n",
       "        vertical-align: middle;\n",
       "    }\n",
       "\n",
       "    .dataframe tbody tr th {\n",
       "        vertical-align: top;\n",
       "    }\n",
       "\n",
       "    .dataframe thead th {\n",
       "        text-align: right;\n",
       "    }\n",
       "</style>\n",
       "<table border=\"1\" class=\"dataframe\">\n",
       "  <thead>\n",
       "    <tr style=\"text-align: right;\">\n",
       "      <th></th>\n",
       "      <th>age</th>\n",
       "      <th>studytime</th>\n",
       "      <th>famrel</th>\n",
       "      <th>freetime</th>\n",
       "      <th>G1</th>\n",
       "      <th>G2</th>\n",
       "      <th>G3</th>\n",
       "      <th>media</th>\n",
       "    </tr>\n",
       "  </thead>\n",
       "  <tbody>\n",
       "    <tr>\n",
       "      <th>count</th>\n",
       "      <td>395.000000</td>\n",
       "      <td>395.000000</td>\n",
       "      <td>395.000000</td>\n",
       "      <td>395.000000</td>\n",
       "      <td>395.000000</td>\n",
       "      <td>395.000000</td>\n",
       "      <td>395.000000</td>\n",
       "      <td>395.000000</td>\n",
       "    </tr>\n",
       "    <tr>\n",
       "      <th>mean</th>\n",
       "      <td>16.696203</td>\n",
       "      <td>2.035443</td>\n",
       "      <td>3.944304</td>\n",
       "      <td>3.235443</td>\n",
       "      <td>10.908861</td>\n",
       "      <td>10.713924</td>\n",
       "      <td>10.415190</td>\n",
       "      <td>10.679139</td>\n",
       "    </tr>\n",
       "    <tr>\n",
       "      <th>std</th>\n",
       "      <td>1.276043</td>\n",
       "      <td>0.839240</td>\n",
       "      <td>0.896659</td>\n",
       "      <td>0.998862</td>\n",
       "      <td>3.319195</td>\n",
       "      <td>3.761505</td>\n",
       "      <td>4.581443</td>\n",
       "      <td>3.696912</td>\n",
       "    </tr>\n",
       "    <tr>\n",
       "      <th>min</th>\n",
       "      <td>15.000000</td>\n",
       "      <td>1.000000</td>\n",
       "      <td>1.000000</td>\n",
       "      <td>1.000000</td>\n",
       "      <td>3.000000</td>\n",
       "      <td>0.000000</td>\n",
       "      <td>0.000000</td>\n",
       "      <td>1.330000</td>\n",
       "    </tr>\n",
       "    <tr>\n",
       "      <th>25%</th>\n",
       "      <td>16.000000</td>\n",
       "      <td>1.000000</td>\n",
       "      <td>4.000000</td>\n",
       "      <td>3.000000</td>\n",
       "      <td>8.000000</td>\n",
       "      <td>9.000000</td>\n",
       "      <td>8.000000</td>\n",
       "      <td>8.330000</td>\n",
       "    </tr>\n",
       "    <tr>\n",
       "      <th>50%</th>\n",
       "      <td>17.000000</td>\n",
       "      <td>2.000000</td>\n",
       "      <td>4.000000</td>\n",
       "      <td>3.000000</td>\n",
       "      <td>11.000000</td>\n",
       "      <td>11.000000</td>\n",
       "      <td>11.000000</td>\n",
       "      <td>10.670000</td>\n",
       "    </tr>\n",
       "    <tr>\n",
       "      <th>75%</th>\n",
       "      <td>18.000000</td>\n",
       "      <td>2.000000</td>\n",
       "      <td>5.000000</td>\n",
       "      <td>4.000000</td>\n",
       "      <td>13.000000</td>\n",
       "      <td>13.000000</td>\n",
       "      <td>14.000000</td>\n",
       "      <td>13.330000</td>\n",
       "    </tr>\n",
       "    <tr>\n",
       "      <th>max</th>\n",
       "      <td>22.000000</td>\n",
       "      <td>4.000000</td>\n",
       "      <td>5.000000</td>\n",
       "      <td>5.000000</td>\n",
       "      <td>19.000000</td>\n",
       "      <td>19.000000</td>\n",
       "      <td>20.000000</td>\n",
       "      <td>19.330000</td>\n",
       "    </tr>\n",
       "  </tbody>\n",
       "</table>\n",
       "</div>"
      ],
      "text/plain": [
       "              age   studytime      famrel    freetime          G1          G2  \\\n",
       "count  395.000000  395.000000  395.000000  395.000000  395.000000  395.000000   \n",
       "mean    16.696203    2.035443    3.944304    3.235443   10.908861   10.713924   \n",
       "std      1.276043    0.839240    0.896659    0.998862    3.319195    3.761505   \n",
       "min     15.000000    1.000000    1.000000    1.000000    3.000000    0.000000   \n",
       "25%     16.000000    1.000000    4.000000    3.000000    8.000000    9.000000   \n",
       "50%     17.000000    2.000000    4.000000    3.000000   11.000000   11.000000   \n",
       "75%     18.000000    2.000000    5.000000    4.000000   13.000000   13.000000   \n",
       "max     22.000000    4.000000    5.000000    5.000000   19.000000   19.000000   \n",
       "\n",
       "               G3       media  \n",
       "count  395.000000  395.000000  \n",
       "mean    10.415190   10.679139  \n",
       "std      4.581443    3.696912  \n",
       "min      0.000000    1.330000  \n",
       "25%      8.000000    8.330000  \n",
       "50%     11.000000   10.670000  \n",
       "75%     14.000000   13.330000  \n",
       "max     20.000000   19.330000  "
      ]
     },
     "execution_count": 24,
     "metadata": {},
     "output_type": "execute_result"
    }
   ],
   "source": [
    "mat_stud.describe()"
   ]
  },
  {
   "cell_type": "code",
   "execution_count": 34,
   "id": "6ac2c384",
   "metadata": {},
   "outputs": [
    {
     "data": {
      "text/html": [
       "<div>\n",
       "<style scoped>\n",
       "    .dataframe tbody tr th:only-of-type {\n",
       "        vertical-align: middle;\n",
       "    }\n",
       "\n",
       "    .dataframe tbody tr th {\n",
       "        vertical-align: top;\n",
       "    }\n",
       "\n",
       "    .dataframe thead th {\n",
       "        text-align: right;\n",
       "    }\n",
       "</style>\n",
       "<table border=\"1\" class=\"dataframe\">\n",
       "  <thead>\n",
       "    <tr style=\"text-align: right;\">\n",
       "      <th></th>\n",
       "      <th>sex</th>\n",
       "      <th>age</th>\n",
       "      <th>Pstatus</th>\n",
       "      <th>studytime</th>\n",
       "      <th>failures</th>\n",
       "      <th>activities</th>\n",
       "      <th>higher</th>\n",
       "      <th>internet</th>\n",
       "      <th>famrel</th>\n",
       "      <th>freetime</th>\n",
       "      <th>Dalc</th>\n",
       "      <th>Walc</th>\n",
       "      <th>G1</th>\n",
       "      <th>G2</th>\n",
       "      <th>G3</th>\n",
       "      <th>media</th>\n",
       "    </tr>\n",
       "  </thead>\n",
       "  <tbody>\n",
       "    <tr>\n",
       "      <th>18</th>\n",
       "      <td>M</td>\n",
       "      <td>17</td>\n",
       "      <td>T</td>\n",
       "      <td>1</td>\n",
       "      <td>3</td>\n",
       "      <td>True</td>\n",
       "      <td>True</td>\n",
       "      <td>True</td>\n",
       "      <td>5</td>\n",
       "      <td>5</td>\n",
       "      <td>Baixo</td>\n",
       "      <td>Elevado</td>\n",
       "      <td>6</td>\n",
       "      <td>5</td>\n",
       "      <td>5</td>\n",
       "      <td>5.33</td>\n",
       "    </tr>\n",
       "    <tr>\n",
       "      <th>23</th>\n",
       "      <td>M</td>\n",
       "      <td>16</td>\n",
       "      <td>T</td>\n",
       "      <td>2</td>\n",
       "      <td>0</td>\n",
       "      <td>True</td>\n",
       "      <td>True</td>\n",
       "      <td>True</td>\n",
       "      <td>5</td>\n",
       "      <td>4</td>\n",
       "      <td>Baixo</td>\n",
       "      <td>Elevado</td>\n",
       "      <td>13</td>\n",
       "      <td>13</td>\n",
       "      <td>12</td>\n",
       "      <td>12.67</td>\n",
       "    </tr>\n",
       "    <tr>\n",
       "      <th>27</th>\n",
       "      <td>M</td>\n",
       "      <td>15</td>\n",
       "      <td>T</td>\n",
       "      <td>1</td>\n",
       "      <td>0</td>\n",
       "      <td>False</td>\n",
       "      <td>True</td>\n",
       "      <td>True</td>\n",
       "      <td>2</td>\n",
       "      <td>2</td>\n",
       "      <td>Baixo</td>\n",
       "      <td>Elevado</td>\n",
       "      <td>15</td>\n",
       "      <td>16</td>\n",
       "      <td>15</td>\n",
       "      <td>15.33</td>\n",
       "    </tr>\n",
       "    <tr>\n",
       "      <th>30</th>\n",
       "      <td>M</td>\n",
       "      <td>15</td>\n",
       "      <td>T</td>\n",
       "      <td>2</td>\n",
       "      <td>0</td>\n",
       "      <td>False</td>\n",
       "      <td>True</td>\n",
       "      <td>True</td>\n",
       "      <td>5</td>\n",
       "      <td>4</td>\n",
       "      <td>Médio</td>\n",
       "      <td>Elevado</td>\n",
       "      <td>9</td>\n",
       "      <td>11</td>\n",
       "      <td>12</td>\n",
       "      <td>10.67</td>\n",
       "    </tr>\n",
       "    <tr>\n",
       "      <th>41</th>\n",
       "      <td>M</td>\n",
       "      <td>15</td>\n",
       "      <td>T</td>\n",
       "      <td>1</td>\n",
       "      <td>0</td>\n",
       "      <td>False</td>\n",
       "      <td>True</td>\n",
       "      <td>True</td>\n",
       "      <td>5</td>\n",
       "      <td>4</td>\n",
       "      <td>Baixo</td>\n",
       "      <td>Elevado</td>\n",
       "      <td>12</td>\n",
       "      <td>12</td>\n",
       "      <td>12</td>\n",
       "      <td>12.00</td>\n",
       "    </tr>\n",
       "  </tbody>\n",
       "</table>\n",
       "</div>"
      ],
      "text/plain": [
       "   sex  age Pstatus  studytime failures  activities  higher  internet  famrel  \\\n",
       "18   M   17       T          1        3        True    True      True       5   \n",
       "23   M   16       T          2        0        True    True      True       5   \n",
       "27   M   15       T          1        0       False    True      True       2   \n",
       "30   M   15       T          2        0       False    True      True       5   \n",
       "41   M   15       T          1        0       False    True      True       5   \n",
       "\n",
       "    freetime   Dalc     Walc  G1  G2  G3  media  \n",
       "18         5  Baixo  Elevado   6   5   5   5.33  \n",
       "23         4  Baixo  Elevado  13  13  12  12.67  \n",
       "27         2  Baixo  Elevado  15  16  15  15.33  \n",
       "30         4  Médio  Elevado   9  11  12  10.67  \n",
       "41         4  Baixo  Elevado  12  12  12  12.00  "
      ]
     },
     "execution_count": 34,
     "metadata": {},
     "output_type": "execute_result"
    }
   ],
   "source": [
    "# dados de estudantes com consumo elevado de álcool\n",
    "mat_stud[mat_stud['Walc'] == 'Elevado'].head()"
   ]
  },
  {
   "cell_type": "code",
   "execution_count": 54,
   "id": "e9a649e9",
   "metadata": {},
   "outputs": [
    {
     "data": {
      "text/plain": [
       "T    8\n",
       "A    1\n",
       "Name: Pstatus, dtype: int64"
      ]
     },
     "execution_count": 54,
     "metadata": {},
     "output_type": "execute_result"
    }
   ],
   "source": [
    "# Avaliando relação de consumo diária com tipo de união parental\n",
    "mat_stud[mat_stud['Dalc'] == 'Muito Elevado']['Pstatus'].value_counts()"
   ]
  },
  {
   "cell_type": "code",
   "execution_count": 56,
   "id": "1a306d9a",
   "metadata": {},
   "outputs": [
    {
     "data": {
      "text/plain": [
       "17.28"
      ]
     },
     "execution_count": 56,
     "metadata": {},
     "output_type": "execute_result"
    }
   ],
   "source": [
    "# média de idade dos estudantes que consomem álcool diariamente com valores elevados e muito elevados\n",
    "melev = mat_stud[mat_stud['Dalc'] == 'Muito Elevado']['age'].mean()\n",
    "elev = mat_stud[mat_stud['Dalc'] == 'Elevado']['age'].mean()\n",
    "\n",
    "mediaConsD = round((melev + elev)/2,2)\n",
    "mediaConsD"
   ]
  },
  {
   "cell_type": "code",
   "execution_count": 35,
   "id": "f50f8ea5",
   "metadata": {},
   "outputs": [
    {
     "data": {
      "text/html": [
       "<div>\n",
       "<style scoped>\n",
       "    .dataframe tbody tr th:only-of-type {\n",
       "        vertical-align: middle;\n",
       "    }\n",
       "\n",
       "    .dataframe tbody tr th {\n",
       "        vertical-align: top;\n",
       "    }\n",
       "\n",
       "    .dataframe thead th {\n",
       "        text-align: right;\n",
       "    }\n",
       "</style>\n",
       "<table border=\"1\" class=\"dataframe\">\n",
       "  <thead>\n",
       "    <tr style=\"text-align: right;\">\n",
       "      <th></th>\n",
       "      <th>age</th>\n",
       "      <th>studytime</th>\n",
       "      <th>famrel</th>\n",
       "      <th>freetime</th>\n",
       "      <th>G1</th>\n",
       "      <th>G2</th>\n",
       "      <th>G3</th>\n",
       "      <th>media</th>\n",
       "    </tr>\n",
       "  </thead>\n",
       "  <tbody>\n",
       "    <tr>\n",
       "      <th>count</th>\n",
       "      <td>9.000000</td>\n",
       "      <td>9.000000</td>\n",
       "      <td>9.000000</td>\n",
       "      <td>9.000000</td>\n",
       "      <td>9.000000</td>\n",
       "      <td>9.000000</td>\n",
       "      <td>9.000000</td>\n",
       "      <td>9.000000</td>\n",
       "    </tr>\n",
       "    <tr>\n",
       "      <th>mean</th>\n",
       "      <td>17.222222</td>\n",
       "      <td>1.666667</td>\n",
       "      <td>3.555556</td>\n",
       "      <td>4.111111</td>\n",
       "      <td>10.444444</td>\n",
       "      <td>10.777778</td>\n",
       "      <td>10.666667</td>\n",
       "      <td>10.628889</td>\n",
       "    </tr>\n",
       "    <tr>\n",
       "      <th>std</th>\n",
       "      <td>2.048034</td>\n",
       "      <td>1.000000</td>\n",
       "      <td>1.333333</td>\n",
       "      <td>0.781736</td>\n",
       "      <td>2.603417</td>\n",
       "      <td>2.538591</td>\n",
       "      <td>2.692582</td>\n",
       "      <td>2.475674</td>\n",
       "    </tr>\n",
       "    <tr>\n",
       "      <th>min</th>\n",
       "      <td>15.000000</td>\n",
       "      <td>1.000000</td>\n",
       "      <td>1.000000</td>\n",
       "      <td>3.000000</td>\n",
       "      <td>6.000000</td>\n",
       "      <td>7.000000</td>\n",
       "      <td>5.000000</td>\n",
       "      <td>6.330000</td>\n",
       "    </tr>\n",
       "    <tr>\n",
       "      <th>25%</th>\n",
       "      <td>16.000000</td>\n",
       "      <td>1.000000</td>\n",
       "      <td>3.000000</td>\n",
       "      <td>4.000000</td>\n",
       "      <td>10.000000</td>\n",
       "      <td>8.000000</td>\n",
       "      <td>10.000000</td>\n",
       "      <td>9.670000</td>\n",
       "    </tr>\n",
       "    <tr>\n",
       "      <th>50%</th>\n",
       "      <td>17.000000</td>\n",
       "      <td>1.000000</td>\n",
       "      <td>4.000000</td>\n",
       "      <td>4.000000</td>\n",
       "      <td>11.000000</td>\n",
       "      <td>12.000000</td>\n",
       "      <td>11.000000</td>\n",
       "      <td>11.000000</td>\n",
       "    </tr>\n",
       "    <tr>\n",
       "      <th>75%</th>\n",
       "      <td>18.000000</td>\n",
       "      <td>2.000000</td>\n",
       "      <td>4.000000</td>\n",
       "      <td>5.000000</td>\n",
       "      <td>12.000000</td>\n",
       "      <td>13.000000</td>\n",
       "      <td>13.000000</td>\n",
       "      <td>12.670000</td>\n",
       "    </tr>\n",
       "    <tr>\n",
       "      <th>max</th>\n",
       "      <td>22.000000</td>\n",
       "      <td>4.000000</td>\n",
       "      <td>5.000000</td>\n",
       "      <td>5.000000</td>\n",
       "      <td>14.000000</td>\n",
       "      <td>13.000000</td>\n",
       "      <td>13.000000</td>\n",
       "      <td>13.330000</td>\n",
       "    </tr>\n",
       "  </tbody>\n",
       "</table>\n",
       "</div>"
      ],
      "text/plain": [
       "             age  studytime    famrel  freetime         G1         G2  \\\n",
       "count   9.000000   9.000000  9.000000  9.000000   9.000000   9.000000   \n",
       "mean   17.222222   1.666667  3.555556  4.111111  10.444444  10.777778   \n",
       "std     2.048034   1.000000  1.333333  0.781736   2.603417   2.538591   \n",
       "min    15.000000   1.000000  1.000000  3.000000   6.000000   7.000000   \n",
       "25%    16.000000   1.000000  3.000000  4.000000  10.000000   8.000000   \n",
       "50%    17.000000   1.000000  4.000000  4.000000  11.000000  12.000000   \n",
       "75%    18.000000   2.000000  4.000000  5.000000  12.000000  13.000000   \n",
       "max    22.000000   4.000000  5.000000  5.000000  14.000000  13.000000   \n",
       "\n",
       "              G3      media  \n",
       "count   9.000000   9.000000  \n",
       "mean   10.666667  10.628889  \n",
       "std     2.692582   2.475674  \n",
       "min     5.000000   6.330000  \n",
       "25%    10.000000   9.670000  \n",
       "50%    11.000000  11.000000  \n",
       "75%    13.000000  12.670000  \n",
       "max    13.000000  13.330000  "
      ]
     },
     "execution_count": 35,
     "metadata": {},
     "output_type": "execute_result"
    }
   ],
   "source": [
    "mat_stud[mat_stud['Dalc'] == 'Muito Elevado'].describe()"
   ]
  },
  {
   "cell_type": "code",
   "execution_count": 40,
   "id": "b465c47a-d7fb-43df-92bc-9a7765dbf276",
   "metadata": {},
   "outputs": [
    {
     "data": {
      "text/html": [
       "<div>\n",
       "<style scoped>\n",
       "    .dataframe tbody tr th:only-of-type {\n",
       "        vertical-align: middle;\n",
       "    }\n",
       "\n",
       "    .dataframe tbody tr th {\n",
       "        vertical-align: top;\n",
       "    }\n",
       "\n",
       "    .dataframe thead th {\n",
       "        text-align: right;\n",
       "    }\n",
       "</style>\n",
       "<table border=\"1\" class=\"dataframe\">\n",
       "  <thead>\n",
       "    <tr style=\"text-align: right;\">\n",
       "      <th></th>\n",
       "      <th>age</th>\n",
       "      <th>studytime</th>\n",
       "      <th>activities</th>\n",
       "      <th>higher</th>\n",
       "      <th>internet</th>\n",
       "      <th>famrel</th>\n",
       "      <th>freetime</th>\n",
       "      <th>media</th>\n",
       "    </tr>\n",
       "  </thead>\n",
       "  <tbody>\n",
       "    <tr>\n",
       "      <th>age</th>\n",
       "      <td>1.000000</td>\n",
       "      <td>-0.004140</td>\n",
       "      <td>-0.103063</td>\n",
       "      <td>-0.209081</td>\n",
       "      <td>-0.112094</td>\n",
       "      <td>0.053940</td>\n",
       "      <td>0.016434</td>\n",
       "      <td>-0.134566</td>\n",
       "    </tr>\n",
       "    <tr>\n",
       "      <th>studytime</th>\n",
       "      <td>-0.004140</td>\n",
       "      <td>1.000000</td>\n",
       "      <td>0.089877</td>\n",
       "      <td>0.175081</td>\n",
       "      <td>0.059422</td>\n",
       "      <td>0.039731</td>\n",
       "      <td>-0.143198</td>\n",
       "      <td>0.134546</td>\n",
       "    </tr>\n",
       "    <tr>\n",
       "      <th>activities</th>\n",
       "      <td>-0.103063</td>\n",
       "      <td>0.089877</td>\n",
       "      <td>1.000000</td>\n",
       "      <td>0.096484</td>\n",
       "      <td>0.048663</td>\n",
       "      <td>0.040687</td>\n",
       "      <td>0.089728</td>\n",
       "      <td>0.040808</td>\n",
       "    </tr>\n",
       "    <tr>\n",
       "      <th>higher</th>\n",
       "      <td>-0.209081</td>\n",
       "      <td>0.175081</td>\n",
       "      <td>0.096484</td>\n",
       "      <td>1.000000</td>\n",
       "      <td>0.020374</td>\n",
       "      <td>0.024319</td>\n",
       "      <td>-0.061244</td>\n",
       "      <td>0.189434</td>\n",
       "    </tr>\n",
       "    <tr>\n",
       "      <th>internet</th>\n",
       "      <td>-0.112094</td>\n",
       "      <td>0.059422</td>\n",
       "      <td>0.048663</td>\n",
       "      <td>0.020374</td>\n",
       "      <td>1.000000</td>\n",
       "      <td>0.032768</td>\n",
       "      <td>0.051286</td>\n",
       "      <td>0.102565</td>\n",
       "    </tr>\n",
       "    <tr>\n",
       "      <th>famrel</th>\n",
       "      <td>0.053940</td>\n",
       "      <td>0.039731</td>\n",
       "      <td>0.040687</td>\n",
       "      <td>0.024319</td>\n",
       "      <td>0.032768</td>\n",
       "      <td>1.000000</td>\n",
       "      <td>0.150701</td>\n",
       "      <td>0.021631</td>\n",
       "    </tr>\n",
       "    <tr>\n",
       "      <th>freetime</th>\n",
       "      <td>0.016434</td>\n",
       "      <td>-0.143198</td>\n",
       "      <td>0.089728</td>\n",
       "      <td>-0.061244</td>\n",
       "      <td>0.051286</td>\n",
       "      <td>0.150701</td>\n",
       "      <td>1.000000</td>\n",
       "      <td>0.003773</td>\n",
       "    </tr>\n",
       "    <tr>\n",
       "      <th>media</th>\n",
       "      <td>-0.134566</td>\n",
       "      <td>0.134546</td>\n",
       "      <td>0.040808</td>\n",
       "      <td>0.189434</td>\n",
       "      <td>0.102565</td>\n",
       "      <td>0.021631</td>\n",
       "      <td>0.003773</td>\n",
       "      <td>1.000000</td>\n",
       "    </tr>\n",
       "  </tbody>\n",
       "</table>\n",
       "</div>"
      ],
      "text/plain": [
       "                 age  studytime  activities    higher  internet    famrel  \\\n",
       "age         1.000000  -0.004140   -0.103063 -0.209081 -0.112094  0.053940   \n",
       "studytime  -0.004140   1.000000    0.089877  0.175081  0.059422  0.039731   \n",
       "activities -0.103063   0.089877    1.000000  0.096484  0.048663  0.040687   \n",
       "higher     -0.209081   0.175081    0.096484  1.000000  0.020374  0.024319   \n",
       "internet   -0.112094   0.059422    0.048663  0.020374  1.000000  0.032768   \n",
       "famrel      0.053940   0.039731    0.040687  0.024319  0.032768  1.000000   \n",
       "freetime    0.016434  -0.143198    0.089728 -0.061244  0.051286  0.150701   \n",
       "media      -0.134566   0.134546    0.040808  0.189434  0.102565  0.021631   \n",
       "\n",
       "            freetime     media  \n",
       "age         0.016434 -0.134566  \n",
       "studytime  -0.143198  0.134546  \n",
       "activities  0.089728  0.040808  \n",
       "higher     -0.061244  0.189434  \n",
       "internet    0.051286  0.102565  \n",
       "famrel      0.150701  0.021631  \n",
       "freetime    1.000000  0.003773  \n",
       "media       0.003773  1.000000  "
      ]
     },
     "execution_count": 40,
     "metadata": {},
     "output_type": "execute_result"
    }
   ],
   "source": [
    "mat_stud_s_notas = mat_stud.drop(['G1','G2','G3'],axis=1)\n",
    "mat_stud_s_notas.corr()"
   ]
  },
  {
   "cell_type": "markdown",
   "id": "63532db2-1930-4e15-8675-9b4b5026d72d",
   "metadata": {},
   "source": [
    "selecionar dados elevado e muito elevado"
   ]
  },
  {
   "cell_type": "code",
   "execution_count": 95,
   "id": "176a99aa-9cde-40b2-98aa-4cb8a527dca6",
   "metadata": {},
   "outputs": [
    {
     "data": {
      "text/html": [
       "<div>\n",
       "<style scoped>\n",
       "    .dataframe tbody tr th:only-of-type {\n",
       "        vertical-align: middle;\n",
       "    }\n",
       "\n",
       "    .dataframe tbody tr th {\n",
       "        vertical-align: top;\n",
       "    }\n",
       "\n",
       "    .dataframe thead th {\n",
       "        text-align: right;\n",
       "    }\n",
       "</style>\n",
       "<table border=\"1\" class=\"dataframe\">\n",
       "  <thead>\n",
       "    <tr style=\"text-align: right;\">\n",
       "      <th></th>\n",
       "      <th>age</th>\n",
       "      <th>studytime</th>\n",
       "      <th>famrel</th>\n",
       "      <th>freetime</th>\n",
       "      <th>G1</th>\n",
       "      <th>G2</th>\n",
       "      <th>G3</th>\n",
       "      <th>media</th>\n",
       "    </tr>\n",
       "  </thead>\n",
       "  <tbody>\n",
       "    <tr>\n",
       "      <th>count</th>\n",
       "      <td>18.000000</td>\n",
       "      <td>18.000000</td>\n",
       "      <td>18.000000</td>\n",
       "      <td>18.000000</td>\n",
       "      <td>18.000000</td>\n",
       "      <td>18.000000</td>\n",
       "      <td>18.000000</td>\n",
       "      <td>18.000000</td>\n",
       "    </tr>\n",
       "    <tr>\n",
       "      <th>mean</th>\n",
       "      <td>17.277778</td>\n",
       "      <td>1.722222</td>\n",
       "      <td>3.944444</td>\n",
       "      <td>3.888889</td>\n",
       "      <td>10.111111</td>\n",
       "      <td>10.277778</td>\n",
       "      <td>10.277778</td>\n",
       "      <td>10.221111</td>\n",
       "    </tr>\n",
       "    <tr>\n",
       "      <th>std</th>\n",
       "      <td>1.708303</td>\n",
       "      <td>0.751904</td>\n",
       "      <td>1.109967</td>\n",
       "      <td>0.900254</td>\n",
       "      <td>2.446820</td>\n",
       "      <td>2.562296</td>\n",
       "      <td>2.607806</td>\n",
       "      <td>2.401281</td>\n",
       "    </tr>\n",
       "    <tr>\n",
       "      <th>min</th>\n",
       "      <td>15.000000</td>\n",
       "      <td>1.000000</td>\n",
       "      <td>1.000000</td>\n",
       "      <td>2.000000</td>\n",
       "      <td>6.000000</td>\n",
       "      <td>5.000000</td>\n",
       "      <td>5.000000</td>\n",
       "      <td>5.330000</td>\n",
       "    </tr>\n",
       "    <tr>\n",
       "      <th>25%</th>\n",
       "      <td>16.000000</td>\n",
       "      <td>1.000000</td>\n",
       "      <td>4.000000</td>\n",
       "      <td>3.000000</td>\n",
       "      <td>9.250000</td>\n",
       "      <td>8.000000</td>\n",
       "      <td>9.000000</td>\n",
       "      <td>9.000000</td>\n",
       "    </tr>\n",
       "    <tr>\n",
       "      <th>50%</th>\n",
       "      <td>17.000000</td>\n",
       "      <td>2.000000</td>\n",
       "      <td>4.000000</td>\n",
       "      <td>4.000000</td>\n",
       "      <td>10.000000</td>\n",
       "      <td>11.000000</td>\n",
       "      <td>11.000000</td>\n",
       "      <td>10.665000</td>\n",
       "    </tr>\n",
       "    <tr>\n",
       "      <th>75%</th>\n",
       "      <td>18.000000</td>\n",
       "      <td>2.000000</td>\n",
       "      <td>5.000000</td>\n",
       "      <td>4.750000</td>\n",
       "      <td>11.750000</td>\n",
       "      <td>12.750000</td>\n",
       "      <td>12.750000</td>\n",
       "      <td>12.330000</td>\n",
       "    </tr>\n",
       "    <tr>\n",
       "      <th>max</th>\n",
       "      <td>22.000000</td>\n",
       "      <td>4.000000</td>\n",
       "      <td>5.000000</td>\n",
       "      <td>5.000000</td>\n",
       "      <td>14.000000</td>\n",
       "      <td>13.000000</td>\n",
       "      <td>13.000000</td>\n",
       "      <td>13.330000</td>\n",
       "    </tr>\n",
       "  </tbody>\n",
       "</table>\n",
       "</div>"
      ],
      "text/plain": [
       "             age  studytime     famrel   freetime         G1         G2  \\\n",
       "count  18.000000  18.000000  18.000000  18.000000  18.000000  18.000000   \n",
       "mean   17.277778   1.722222   3.944444   3.888889  10.111111  10.277778   \n",
       "std     1.708303   0.751904   1.109967   0.900254   2.446820   2.562296   \n",
       "min    15.000000   1.000000   1.000000   2.000000   6.000000   5.000000   \n",
       "25%    16.000000   1.000000   4.000000   3.000000   9.250000   8.000000   \n",
       "50%    17.000000   2.000000   4.000000   4.000000  10.000000  11.000000   \n",
       "75%    18.000000   2.000000   5.000000   4.750000  11.750000  12.750000   \n",
       "max    22.000000   4.000000   5.000000   5.000000  14.000000  13.000000   \n",
       "\n",
       "              G3      media  \n",
       "count  18.000000  18.000000  \n",
       "mean   10.277778  10.221111  \n",
       "std     2.607806   2.401281  \n",
       "min     5.000000   5.330000  \n",
       "25%     9.000000   9.000000  \n",
       "50%    11.000000  10.665000  \n",
       "75%    12.750000  12.330000  \n",
       "max    13.000000  13.330000  "
      ]
     },
     "execution_count": 95,
     "metadata": {},
     "output_type": "execute_result"
    }
   ],
   "source": [
    "amostra = mat_stud.loc[(mat_stud['Dalc'] == 'Muito Elevado') | (mat_stud['Dalc'] == 'Elevado')]\n",
    "amostra.describe()"
   ]
  },
  {
   "cell_type": "code",
   "execution_count": 102,
   "id": "76f57d17-bc32-44ed-b2c7-e36fadce3e33",
   "metadata": {},
   "outputs": [
    {
     "name": "stderr",
     "output_type": "stream",
     "text": [
      "<ipython-input-102-860663163c6e>:4: UserWarning: To output multiple subplots, the figure containing the passed axes is being cleared\n",
      "  amostra.hist(ax = ax)\n"
     ]
    },
    {
     "data": {
      "image/png": "[encoded data removed]",
      "text/plain": [
       "<Figure size 1080x1440 with 9 Axes>"
      ]
     },
     "metadata": {
      "needs_background": "light"
     },
     "output_type": "display_data"
    }
   ],
   "source": [
    "# plot histogram to see the distribution of the data\n",
    "fig = plt.figure(figsize = (15,20))\n",
    "ax = fig.gca()\n",
    "amostra.hist(ax = ax)\n",
    "plt.show()"
   ]
  }
 ],
 "metadata": {
  "kernelspec": {
   "display_name": "Python 3",
   "language": "python",
   "name": "python3"
  },
  "language_info": {
   "codemirror_mode": {
    "name": "ipython",
    "version": 3
   },
   "file_extension": ".py",
   "mimetype": "text/x-python",
   "name": "python",
   "nbconvert_exporter": "python",
   "pygments_lexer": "ipython3",
   "version": "3.8.8"
  }
 },
 "nbformat": 4,
 "nbformat_minor": 5
}
