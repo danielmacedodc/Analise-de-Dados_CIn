{
 "cells": [
  {
   "cell_type": "markdown",
   "id": "515cf69f",
   "metadata": {},
   "source": [
    "# **Explorando as Taxas de Consumo de Álcool por Estudantes**"
   ]
  },
  {
   "cell_type": "markdown",
   "id": "150f7fe0",
   "metadata": {},
   "source": [
    "## Projeto da Disciplina **\"Análise de Dados\"** - Pós-graduação em Visão Computacional - CIn-UFPE.\n",
    "\n",
    " ### Aluno: Daniel Macedo"
   ]
  },
  {
   "cell_type": "markdown",
   "id": "e785c747-8fbe-4dc5-af3f-3b9a9d4ed836",
   "metadata": {},
   "source": [
    "## **Sumário**\n",
    "\n",
    "- **Introdução**\n",
    "- **Da Importação das Bibliotecas**\n",
    "- **Dados**\n",
    "- **Análise para os Alunos de *Exatas***\n",
    "- **Pré-Processamento e Análise Exploratória**\n",
    "    - Ajustando os Dados\n",
    "    - Considerações\n",
    "    - Da Existência de Dados Nulos\n",
    "    - Da Existência de Dados Duplicados\n",
    "    - Normalização e Discretização\n",
    "        - *Normalização*\n",
    "        - *Discretização*\n",
    "    - Remoção de Outliers com Z-Score Robusto\n",
    "    - Remoção de Outliers com Tukey\n",
    "    - *Remoção com Razão de Duas Variáveis (explicação)*\n",
    "        - *Informação Extra*\n",
    "- **Análise Exploratória e Estatística Descritiva dos Dados**\n",
    "    - Seleção de Atributos\n",
    "    - Como se Comportam a Média das Notas dos Estudantes\n",
    "        - Por Idade\n",
    "        - Por Relacionamento Familiar\n",
    "        - Por Tempo Livre\n",
    "        - Por Acesso à Internet\n",
    "        - Por Tempo Aplicado aos Estudos\n",
    "        - Por Relação Parental\n",
    "    - Correlação dos Dados\n",
    "    - Análise para os Consumos Elevados   \n",
    "    "
   ]
  },
  {
   "cell_type": "markdown",
   "id": "fbb0b146-4589-4839-97b2-5fe24e6acbff",
   "metadata": {},
   "source": [
    "## **Introdução** "
   ]
  },
  {
   "cell_type": "markdown",
   "id": "7b60502d-d919-418d-b64c-b45556523ea0",
   "metadata": {},
   "source": [
    "![imagem](https://ichef.bbci.co.uk/news/800/cpsprodpb/8804/production/_119402843_gettyimages-184137051.jpg)\n",
    "\n",
    "Imagem por Getty Images, em [BBC News](https://www.bbc.com/portuguese/geral-57853174)."
   ]
  },
  {
   "cell_type": "markdown",
   "id": "1c34dded-9d53-4ffd-896c-8561c7a0f822",
   "metadata": {},
   "source": [
    "O consumo de álcool por parte dos jovens é atualmente considerado um problema em decorrência das implicações que o mesmo pode ter no rendimento escolar dos alunos. Dessa forma, para uma análise mais aprofundada sobre o tema, foi escolhido um par de datasets que fornece informações de estudantes do que seria o ensino médio em escolas de Portugal, onde os estudantes buscaram ênfase nas áreas de exatas ou línguas. Os mesmos foram recolhidos no Kaggle no link (https://www.kaggle.com/uciml/student-alcohol-consumption?select=student-por.csv) e a análise aqui descrita busca avaliar os efeitos nas notas dos alunos de **exatas** e os efeitos de alguns atributos no consumo de álcool."
   ]
  },
  {
   "cell_type": "markdown",
   "id": "c107af9e-389b-4ddc-a170-9ce61fa56185",
   "metadata": {},
   "source": [
    "## **Da importação das Bibliotecas**"
   ]
  },
  {
   "cell_type": "markdown",
   "id": "9dec0660-0d07-4b3b-82fd-abdc92a26369",
   "metadata": {},
   "source": [
    "As bibliotecas a serem utilizadas no projeto foram importadas e seguem abaixo"
   ]
  },
  {
   "cell_type": "code",
   "execution_count": 2,
   "id": "c4814bbb",
   "metadata": {},
   "outputs": [],
   "source": [
    "import numpy as np\n",
    "import pandas as pd\n",
    "import seaborn as sns\n",
    "import matplotlib.pyplot as plt\n",
    "%matplotlib inline"
   ]
  },
  {
   "cell_type": "markdown",
   "id": "b27a8bfa-047c-4739-a041-0080d822e4d1",
   "metadata": {},
   "source": [
    "## **Os Dados**"
   ]
  },
  {
   "cell_type": "markdown",
   "id": "ecf1ac88-501a-4478-9e05-5b0e1fee58c6",
   "metadata": {},
   "source": [
    "A análise inicia-se por meio da importação dos arquivos com os datasets escolhidos."
   ]
  },
  {
   "cell_type": "code",
   "execution_count": 15,
   "id": "63d89916",
   "metadata": {},
   "outputs": [],
   "source": [
    "mat_stud = pd.read_csv('student-mat.csv')"
   ]
  },
  {
   "cell_type": "markdown",
   "id": "47497412-133a-4044-8bbf-cdc294253b00",
   "metadata": {},
   "source": [
    "## **Análise Inicial Para os Alunos de Exatas**"
   ]
  },
  {
   "cell_type": "code",
   "execution_count": 3,
   "id": "a3659d01",
   "metadata": {},
   "outputs": [
    {
     "data": {
      "text/html": [
       "<div>\n",
       "<style scoped>\n",
       "    .dataframe tbody tr th:only-of-type {\n",
       "        vertical-align: middle;\n",
       "    }\n",
       "\n",
       "    .dataframe tbody tr th {\n",
       "        vertical-align: top;\n",
       "    }\n",
       "\n",
       "    .dataframe thead th {\n",
       "        text-align: right;\n",
       "    }\n",
       "</style>\n",
       "<table border=\"1\" class=\"dataframe\">\n",
       "  <thead>\n",
       "    <tr style=\"text-align: right;\">\n",
       "      <th></th>\n",
       "      <th>school</th>\n",
       "      <th>sex</th>\n",
       "      <th>age</th>\n",
       "      <th>address</th>\n",
       "      <th>famsize</th>\n",
       "      <th>Pstatus</th>\n",
       "      <th>Medu</th>\n",
       "      <th>Fedu</th>\n",
       "      <th>Mjob</th>\n",
       "      <th>Fjob</th>\n",
       "      <th>...</th>\n",
       "      <th>famrel</th>\n",
       "      <th>freetime</th>\n",
       "      <th>goout</th>\n",
       "      <th>Dalc</th>\n",
       "      <th>Walc</th>\n",
       "      <th>health</th>\n",
       "      <th>absences</th>\n",
       "      <th>G1</th>\n",
       "      <th>G2</th>\n",
       "      <th>G3</th>\n",
       "    </tr>\n",
       "  </thead>\n",
       "  <tbody>\n",
       "    <tr>\n",
       "      <th>0</th>\n",
       "      <td>GP</td>\n",
       "      <td>F</td>\n",
       "      <td>18</td>\n",
       "      <td>U</td>\n",
       "      <td>GT3</td>\n",
       "      <td>A</td>\n",
       "      <td>4</td>\n",
       "      <td>4</td>\n",
       "      <td>at_home</td>\n",
       "      <td>teacher</td>\n",
       "      <td>...</td>\n",
       "      <td>4</td>\n",
       "      <td>3</td>\n",
       "      <td>4</td>\n",
       "      <td>1</td>\n",
       "      <td>1</td>\n",
       "      <td>3</td>\n",
       "      <td>6</td>\n",
       "      <td>5</td>\n",
       "      <td>6</td>\n",
       "      <td>6</td>\n",
       "    </tr>\n",
       "    <tr>\n",
       "      <th>1</th>\n",
       "      <td>GP</td>\n",
       "      <td>F</td>\n",
       "      <td>17</td>\n",
       "      <td>U</td>\n",
       "      <td>GT3</td>\n",
       "      <td>T</td>\n",
       "      <td>1</td>\n",
       "      <td>1</td>\n",
       "      <td>at_home</td>\n",
       "      <td>other</td>\n",
       "      <td>...</td>\n",
       "      <td>5</td>\n",
       "      <td>3</td>\n",
       "      <td>3</td>\n",
       "      <td>1</td>\n",
       "      <td>1</td>\n",
       "      <td>3</td>\n",
       "      <td>4</td>\n",
       "      <td>5</td>\n",
       "      <td>5</td>\n",
       "      <td>6</td>\n",
       "    </tr>\n",
       "    <tr>\n",
       "      <th>2</th>\n",
       "      <td>GP</td>\n",
       "      <td>F</td>\n",
       "      <td>15</td>\n",
       "      <td>U</td>\n",
       "      <td>LE3</td>\n",
       "      <td>T</td>\n",
       "      <td>1</td>\n",
       "      <td>1</td>\n",
       "      <td>at_home</td>\n",
       "      <td>other</td>\n",
       "      <td>...</td>\n",
       "      <td>4</td>\n",
       "      <td>3</td>\n",
       "      <td>2</td>\n",
       "      <td>2</td>\n",
       "      <td>3</td>\n",
       "      <td>3</td>\n",
       "      <td>10</td>\n",
       "      <td>7</td>\n",
       "      <td>8</td>\n",
       "      <td>10</td>\n",
       "    </tr>\n",
       "    <tr>\n",
       "      <th>3</th>\n",
       "      <td>GP</td>\n",
       "      <td>F</td>\n",
       "      <td>15</td>\n",
       "      <td>U</td>\n",
       "      <td>GT3</td>\n",
       "      <td>T</td>\n",
       "      <td>4</td>\n",
       "      <td>2</td>\n",
       "      <td>health</td>\n",
       "      <td>services</td>\n",
       "      <td>...</td>\n",
       "      <td>3</td>\n",
       "      <td>2</td>\n",
       "      <td>2</td>\n",
       "      <td>1</td>\n",
       "      <td>1</td>\n",
       "      <td>5</td>\n",
       "      <td>2</td>\n",
       "      <td>15</td>\n",
       "      <td>14</td>\n",
       "      <td>15</td>\n",
       "    </tr>\n",
       "    <tr>\n",
       "      <th>4</th>\n",
       "      <td>GP</td>\n",
       "      <td>F</td>\n",
       "      <td>16</td>\n",
       "      <td>U</td>\n",
       "      <td>GT3</td>\n",
       "      <td>T</td>\n",
       "      <td>3</td>\n",
       "      <td>3</td>\n",
       "      <td>other</td>\n",
       "      <td>other</td>\n",
       "      <td>...</td>\n",
       "      <td>4</td>\n",
       "      <td>3</td>\n",
       "      <td>2</td>\n",
       "      <td>1</td>\n",
       "      <td>2</td>\n",
       "      <td>5</td>\n",
       "      <td>4</td>\n",
       "      <td>6</td>\n",
       "      <td>10</td>\n",
       "      <td>10</td>\n",
       "    </tr>\n",
       "  </tbody>\n",
       "</table>\n",
       "<p>5 rows × 33 columns</p>\n",
       "</div>"
      ],
      "text/plain": [
       "  school sex  age address famsize Pstatus  Medu  Fedu     Mjob      Fjob  ...  \\\n",
       "0     GP   F   18       U     GT3       A     4     4  at_home   teacher  ...   \n",
       "1     GP   F   17       U     GT3       T     1     1  at_home     other  ...   \n",
       "2     GP   F   15       U     LE3       T     1     1  at_home     other  ...   \n",
       "3     GP   F   15       U     GT3       T     4     2   health  services  ...   \n",
       "4     GP   F   16       U     GT3       T     3     3    other     other  ...   \n",
       "\n",
       "  famrel freetime  goout  Dalc  Walc health absences  G1  G2  G3  \n",
       "0      4        3      4     1     1      3        6   5   6   6  \n",
       "1      5        3      3     1     1      3        4   5   5   6  \n",
       "2      4        3      2     2     3      3       10   7   8  10  \n",
       "3      3        2      2     1     1      5        2  15  14  15  \n",
       "4      4        3      2     1     2      5        4   6  10  10  \n",
       "\n",
       "[5 rows x 33 columns]"
      ]
     },
     "execution_count": 3,
     "metadata": {},
     "output_type": "execute_result"
    }
   ],
   "source": [
    "mat_stud.head()"
   ]
  },
  {
   "cell_type": "code",
   "execution_count": 4,
   "id": "8808a950-1be9-4895-9dfc-c6907770dc99",
   "metadata": {},
   "outputs": [
    {
     "name": "stdout",
     "output_type": "stream",
     "text": [
      "<class 'pandas.core.frame.DataFrame'>\n",
      "RangeIndex: 395 entries, 0 to 394\n",
      "Data columns (total 33 columns):\n",
      " #   Column      Non-Null Count  Dtype \n",
      "---  ------      --------------  ----- \n",
      " 0   school      395 non-null    object\n",
      " 1   sex         395 non-null    object\n",
      " 2   age         395 non-null    int64 \n",
      " 3   address     395 non-null    object\n",
      " 4   famsize     395 non-null    object\n",
      " 5   Pstatus     395 non-null    object\n",
      " 6   Medu        395 non-null    int64 \n",
      " 7   Fedu        395 non-null    int64 \n",
      " 8   Mjob        395 non-null    object\n",
      " 9   Fjob        395 non-null    object\n",
      " 10  reason      395 non-null    object\n",
      " 11  guardian    395 non-null    object\n",
      " 12  traveltime  395 non-null    int64 \n",
      " 13  studytime   395 non-null    int64 \n",
      " 14  failures    395 non-null    int64 \n",
      " 15  schoolsup   395 non-null    object\n",
      " 16  famsup      395 non-null    object\n",
      " 17  paid        395 non-null    object\n",
      " 18  activities  395 non-null    object\n",
      " 19  nursery     395 non-null    object\n",
      " 20  higher      395 non-null    object\n",
      " 21  internet    395 non-null    object\n",
      " 22  romantic    395 non-null    object\n",
      " 23  famrel      395 non-null    int64 \n",
      " 24  freetime    395 non-null    int64 \n",
      " 25  goout       395 non-null    int64 \n",
      " 26  Dalc        395 non-null    int64 \n",
      " 27  Walc        395 non-null    int64 \n",
      " 28  health      395 non-null    int64 \n",
      " 29  absences    395 non-null    int64 \n",
      " 30  G1          395 non-null    int64 \n",
      " 31  G2          395 non-null    int64 \n",
      " 32  G3          395 non-null    int64 \n",
      "dtypes: int64(16), object(17)\n",
      "memory usage: 102.0+ KB\n"
     ]
    }
   ],
   "source": [
    "mat_stud.info()"
   ]
  },
  {
   "cell_type": "markdown",
   "id": "a20079ab-a149-43f3-8436-0e664b63fc88",
   "metadata": {},
   "source": [
    "Pode-se notar que o dataset possui diversos atributros que podem ser utilizados. No entanto, certas informações são conhecidas por serem mais relevantes no que concerne ao comportamento de jovens e estas serão analisadas."
   ]
  },
  {
   "cell_type": "markdown",
   "id": "08b25fd0",
   "metadata": {},
   "source": [
    "## **Pré-Processamento e Análise Exploratória**\n",
    "\n",
    "Para este trabalho, serão considerados apenas alguns fatores considerados preponderantes para analisarmos o perfil de consumo de álcool dos estudantes, tanto dos campos da matemática como do português. Isso se dá pelo fato de que os mesmos são tidos como bastante influentes no comportamento de jovens e seu perfil pessoal e educacional. Serão eles a serem tratados:\n",
    "1. sex: Sexo (F - M) - cat\n",
    "2. age: Idade (15 - 22)\n",
    "3. Pstatus: Estado civil dos pais (T - Juntos; A - Separados) - cat\n",
    "4. studytime: Tempo dedicado aos estudos semanalmente (1 - < 2 horas, 2 - 2 to 5 horas, 3 - 5 to 10 horas, or 4 - >10 horas)\n",
    "5. failures: Número de reprovações (1 - 4) - cat\n",
    "6. activities: Atividades extra-curriculares (yes / no) - bool\n",
    "7. higher: Pretensão de cursar ensino superior (yes / no) - bool\n",
    "8. internet: Acesso à internet (yes / no) - bool\n",
    "9. famrel: Qualidade do relacionamento familiar (1 - muito ruim; 5 - muito bom) \n",
    "10. freetime: Tempo livre após a escola (1 - muito ruim; 5 - muito bom)\n",
    "11. Dalc: Consumo diário de álcool (seg-sex) (1 - quase nenhum; 5 - muito elevado) - cat\n",
    "12. Walc: Consumo de álcool aos finais de semana (1 - quase nenhum; 5 - muito elevado) - cat\n",
    "13. G1, G2, G3: Notas dos períodos. (0 - 20)\n",
    "\n",
    "As demais colunas com os demais fatores, por apresentarem uma relevância menor (o que não indica que seja inexistente), serão *dropadas* para fins de análise **neste** estudo."
   ]
  },
  {
   "cell_type": "code",
   "execution_count": 16,
   "id": "c3ab8390",
   "metadata": {},
   "outputs": [],
   "source": [
    "mat_stud = mat_stud.drop(['school','address','famsize','Medu','Fedu',\\\n",
    "                          'Mjob','Fjob','reason','guardian','traveltime',\\\n",
    "                          'schoolsup','famsup','paid','nursery','romantic',\\\n",
    "                          'goout','health','absences'],axis=1)"
   ]
  },
  {
   "cell_type": "code",
   "execution_count": 6,
   "id": "a0520d98",
   "metadata": {},
   "outputs": [
    {
     "name": "stdout",
     "output_type": "stream",
     "text": [
      "<class 'pandas.core.frame.DataFrame'>\n",
      "RangeIndex: 395 entries, 0 to 394\n",
      "Data columns (total 15 columns):\n",
      " #   Column      Non-Null Count  Dtype \n",
      "---  ------      --------------  ----- \n",
      " 0   sex         395 non-null    object\n",
      " 1   age         395 non-null    int64 \n",
      " 2   Pstatus     395 non-null    object\n",
      " 3   studytime   395 non-null    int64 \n",
      " 4   failures    395 non-null    int64 \n",
      " 5   activities  395 non-null    object\n",
      " 6   higher      395 non-null    object\n",
      " 7   internet    395 non-null    object\n",
      " 8   famrel      395 non-null    int64 \n",
      " 9   freetime    395 non-null    int64 \n",
      " 10  Dalc        395 non-null    int64 \n",
      " 11  Walc        395 non-null    int64 \n",
      " 12  G1          395 non-null    int64 \n",
      " 13  G2          395 non-null    int64 \n",
      " 14  G3          395 non-null    int64 \n",
      "dtypes: int64(10), object(5)\n",
      "memory usage: 46.4+ KB\n"
     ]
    }
   ],
   "source": [
    "mat_stud.info()"
   ]
  },
  {
   "cell_type": "code",
   "execution_count": 11,
   "id": "63952161",
   "metadata": {},
   "outputs": [
    {
     "data": {
      "text/html": [
       "<div>\n",
       "<style scoped>\n",
       "    .dataframe tbody tr th:only-of-type {\n",
       "        vertical-align: middle;\n",
       "    }\n",
       "\n",
       "    .dataframe tbody tr th {\n",
       "        vertical-align: top;\n",
       "    }\n",
       "\n",
       "    .dataframe thead th {\n",
       "        text-align: right;\n",
       "    }\n",
       "</style>\n",
       "<table border=\"1\" class=\"dataframe\">\n",
       "  <thead>\n",
       "    <tr style=\"text-align: right;\">\n",
       "      <th></th>\n",
       "      <th>sex</th>\n",
       "      <th>age</th>\n",
       "      <th>Pstatus</th>\n",
       "      <th>studytime</th>\n",
       "      <th>failures</th>\n",
       "      <th>activities</th>\n",
       "      <th>higher</th>\n",
       "      <th>internet</th>\n",
       "      <th>famrel</th>\n",
       "      <th>freetime</th>\n",
       "      <th>Dalc</th>\n",
       "      <th>Walc</th>\n",
       "      <th>media</th>\n",
       "    </tr>\n",
       "  </thead>\n",
       "  <tbody>\n",
       "    <tr>\n",
       "      <th>0</th>\n",
       "      <td>F</td>\n",
       "      <td>18</td>\n",
       "      <td>A</td>\n",
       "      <td>Baixo</td>\n",
       "      <td>0</td>\n",
       "      <td>False</td>\n",
       "      <td>True</td>\n",
       "      <td>False</td>\n",
       "      <td>Bom</td>\n",
       "      <td>Médio</td>\n",
       "      <td>Muito Baixo</td>\n",
       "      <td>Muito Baixo</td>\n",
       "      <td>5.67</td>\n",
       "    </tr>\n",
       "    <tr>\n",
       "      <th>1</th>\n",
       "      <td>F</td>\n",
       "      <td>17</td>\n",
       "      <td>T</td>\n",
       "      <td>Baixo</td>\n",
       "      <td>0</td>\n",
       "      <td>False</td>\n",
       "      <td>True</td>\n",
       "      <td>True</td>\n",
       "      <td>Muito Bom</td>\n",
       "      <td>Médio</td>\n",
       "      <td>Muito Baixo</td>\n",
       "      <td>Muito Baixo</td>\n",
       "      <td>5.33</td>\n",
       "    </tr>\n",
       "    <tr>\n",
       "      <th>2</th>\n",
       "      <td>F</td>\n",
       "      <td>15</td>\n",
       "      <td>T</td>\n",
       "      <td>Baixo</td>\n",
       "      <td>3</td>\n",
       "      <td>False</td>\n",
       "      <td>True</td>\n",
       "      <td>True</td>\n",
       "      <td>Bom</td>\n",
       "      <td>Médio</td>\n",
       "      <td>Baixo</td>\n",
       "      <td>Médio</td>\n",
       "      <td>8.33</td>\n",
       "    </tr>\n",
       "    <tr>\n",
       "      <th>3</th>\n",
       "      <td>F</td>\n",
       "      <td>15</td>\n",
       "      <td>T</td>\n",
       "      <td>Médio</td>\n",
       "      <td>0</td>\n",
       "      <td>True</td>\n",
       "      <td>True</td>\n",
       "      <td>True</td>\n",
       "      <td>Normal</td>\n",
       "      <td>Baixo</td>\n",
       "      <td>Muito Baixo</td>\n",
       "      <td>Muito Baixo</td>\n",
       "      <td>14.67</td>\n",
       "    </tr>\n",
       "    <tr>\n",
       "      <th>4</th>\n",
       "      <td>F</td>\n",
       "      <td>16</td>\n",
       "      <td>T</td>\n",
       "      <td>Baixo</td>\n",
       "      <td>0</td>\n",
       "      <td>False</td>\n",
       "      <td>True</td>\n",
       "      <td>False</td>\n",
       "      <td>Bom</td>\n",
       "      <td>Médio</td>\n",
       "      <td>Muito Baixo</td>\n",
       "      <td>Baixo</td>\n",
       "      <td>8.67</td>\n",
       "    </tr>\n",
       "  </tbody>\n",
       "</table>\n",
       "</div>"
      ],
      "text/plain": [
       "  sex  age Pstatus studytime  failures  activities  higher  internet  \\\n",
       "0   F   18       A     Baixo         0       False    True     False   \n",
       "1   F   17       T     Baixo         0       False    True      True   \n",
       "2   F   15       T     Baixo         3       False    True      True   \n",
       "3   F   15       T     Médio         0        True    True      True   \n",
       "4   F   16       T     Baixo         0       False    True     False   \n",
       "\n",
       "      famrel freetime         Dalc         Walc  media  \n",
       "0        Bom    Médio  Muito Baixo  Muito Baixo   5.67  \n",
       "1  Muito Bom    Médio  Muito Baixo  Muito Baixo   5.33  \n",
       "2        Bom    Médio        Baixo        Médio   8.33  \n",
       "3     Normal    Baixo  Muito Baixo  Muito Baixo  14.67  \n",
       "4        Bom    Médio  Muito Baixo        Baixo   8.67  "
      ]
     },
     "execution_count": 11,
     "metadata": {},
     "output_type": "execute_result"
    }
   ],
   "source": [
    "mat_stud.head()"
   ]
  },
  {
   "cell_type": "code",
   "execution_count": 16,
   "id": "a855fe8d-5b87-4dba-82bc-fa2c14705a21",
   "metadata": {},
   "outputs": [
    {
     "data": {
      "text/html": [
       "<div>\n",
       "<style scoped>\n",
       "    .dataframe tbody tr th:only-of-type {\n",
       "        vertical-align: middle;\n",
       "    }\n",
       "\n",
       "    .dataframe tbody tr th {\n",
       "        vertical-align: top;\n",
       "    }\n",
       "\n",
       "    .dataframe thead th {\n",
       "        text-align: right;\n",
       "    }\n",
       "</style>\n",
       "<table border=\"1\" class=\"dataframe\">\n",
       "  <thead>\n",
       "    <tr style=\"text-align: right;\">\n",
       "      <th></th>\n",
       "      <th>age</th>\n",
       "      <th>studytime</th>\n",
       "      <th>failures</th>\n",
       "      <th>famrel</th>\n",
       "      <th>freetime</th>\n",
       "      <th>Dalc</th>\n",
       "      <th>Walc</th>\n",
       "      <th>G1</th>\n",
       "      <th>G2</th>\n",
       "      <th>G3</th>\n",
       "    </tr>\n",
       "  </thead>\n",
       "  <tbody>\n",
       "    <tr>\n",
       "      <th>count</th>\n",
       "      <td>395.000000</td>\n",
       "      <td>395.000000</td>\n",
       "      <td>395.000000</td>\n",
       "      <td>395.000000</td>\n",
       "      <td>395.000000</td>\n",
       "      <td>395.000000</td>\n",
       "      <td>395.000000</td>\n",
       "      <td>395.000000</td>\n",
       "      <td>395.000000</td>\n",
       "      <td>395.000000</td>\n",
       "    </tr>\n",
       "    <tr>\n",
       "      <th>mean</th>\n",
       "      <td>16.696203</td>\n",
       "      <td>2.035443</td>\n",
       "      <td>0.334177</td>\n",
       "      <td>3.944304</td>\n",
       "      <td>3.235443</td>\n",
       "      <td>1.481013</td>\n",
       "      <td>2.291139</td>\n",
       "      <td>10.908861</td>\n",
       "      <td>10.713924</td>\n",
       "      <td>10.415190</td>\n",
       "    </tr>\n",
       "    <tr>\n",
       "      <th>std</th>\n",
       "      <td>1.276043</td>\n",
       "      <td>0.839240</td>\n",
       "      <td>0.743651</td>\n",
       "      <td>0.896659</td>\n",
       "      <td>0.998862</td>\n",
       "      <td>0.890741</td>\n",
       "      <td>1.287897</td>\n",
       "      <td>3.319195</td>\n",
       "      <td>3.761505</td>\n",
       "      <td>4.581443</td>\n",
       "    </tr>\n",
       "    <tr>\n",
       "      <th>min</th>\n",
       "      <td>15.000000</td>\n",
       "      <td>1.000000</td>\n",
       "      <td>0.000000</td>\n",
       "      <td>1.000000</td>\n",
       "      <td>1.000000</td>\n",
       "      <td>1.000000</td>\n",
       "      <td>1.000000</td>\n",
       "      <td>3.000000</td>\n",
       "      <td>0.000000</td>\n",
       "      <td>0.000000</td>\n",
       "    </tr>\n",
       "    <tr>\n",
       "      <th>25%</th>\n",
       "      <td>16.000000</td>\n",
       "      <td>1.000000</td>\n",
       "      <td>0.000000</td>\n",
       "      <td>4.000000</td>\n",
       "      <td>3.000000</td>\n",
       "      <td>1.000000</td>\n",
       "      <td>1.000000</td>\n",
       "      <td>8.000000</td>\n",
       "      <td>9.000000</td>\n",
       "      <td>8.000000</td>\n",
       "    </tr>\n",
       "    <tr>\n",
       "      <th>50%</th>\n",
       "      <td>17.000000</td>\n",
       "      <td>2.000000</td>\n",
       "      <td>0.000000</td>\n",
       "      <td>4.000000</td>\n",
       "      <td>3.000000</td>\n",
       "      <td>1.000000</td>\n",
       "      <td>2.000000</td>\n",
       "      <td>11.000000</td>\n",
       "      <td>11.000000</td>\n",
       "      <td>11.000000</td>\n",
       "    </tr>\n",
       "    <tr>\n",
       "      <th>75%</th>\n",
       "      <td>18.000000</td>\n",
       "      <td>2.000000</td>\n",
       "      <td>0.000000</td>\n",
       "      <td>5.000000</td>\n",
       "      <td>4.000000</td>\n",
       "      <td>2.000000</td>\n",
       "      <td>3.000000</td>\n",
       "      <td>13.000000</td>\n",
       "      <td>13.000000</td>\n",
       "      <td>14.000000</td>\n",
       "    </tr>\n",
       "    <tr>\n",
       "      <th>max</th>\n",
       "      <td>22.000000</td>\n",
       "      <td>4.000000</td>\n",
       "      <td>3.000000</td>\n",
       "      <td>5.000000</td>\n",
       "      <td>5.000000</td>\n",
       "      <td>5.000000</td>\n",
       "      <td>5.000000</td>\n",
       "      <td>19.000000</td>\n",
       "      <td>19.000000</td>\n",
       "      <td>20.000000</td>\n",
       "    </tr>\n",
       "  </tbody>\n",
       "</table>\n",
       "</div>"
      ],
      "text/plain": [
       "              age   studytime    failures      famrel    freetime        Dalc  \\\n",
       "count  395.000000  395.000000  395.000000  395.000000  395.000000  395.000000   \n",
       "mean    16.696203    2.035443    0.334177    3.944304    3.235443    1.481013   \n",
       "std      1.276043    0.839240    0.743651    0.896659    0.998862    0.890741   \n",
       "min     15.000000    1.000000    0.000000    1.000000    1.000000    1.000000   \n",
       "25%     16.000000    1.000000    0.000000    4.000000    3.000000    1.000000   \n",
       "50%     17.000000    2.000000    0.000000    4.000000    3.000000    1.000000   \n",
       "75%     18.000000    2.000000    0.000000    5.000000    4.000000    2.000000   \n",
       "max     22.000000    4.000000    3.000000    5.000000    5.000000    5.000000   \n",
       "\n",
       "             Walc          G1          G2          G3  \n",
       "count  395.000000  395.000000  395.000000  395.000000  \n",
       "mean     2.291139   10.908861   10.713924   10.415190  \n",
       "std      1.287897    3.319195    3.761505    4.581443  \n",
       "min      1.000000    3.000000    0.000000    0.000000  \n",
       "25%      1.000000    8.000000    9.000000    8.000000  \n",
       "50%      2.000000   11.000000   11.000000   11.000000  \n",
       "75%      3.000000   13.000000   13.000000   14.000000  \n",
       "max      5.000000   19.000000   19.000000   20.000000  "
      ]
     },
     "execution_count": 16,
     "metadata": {},
     "output_type": "execute_result"
    }
   ],
   "source": [
    "mat_stud.describe()"
   ]
  },
  {
   "cell_type": "markdown",
   "id": "a3e2ec2e",
   "metadata": {},
   "source": [
    "### **Ajustando Dados**"
   ]
  },
  {
   "cell_type": "markdown",
   "id": "6336eaa4-262a-4364-96b2-bfaad97d4d7c",
   "metadata": {},
   "source": [
    "Nesta seção, serão tratadas as informações para que se verifique a existência de dados duplicados e/ou ausentes e, assim, possa ser feito o tratamento (caso haja necessidade) por meio de imputação de outros valores atráves de média ou mediana, ou outro fator que venha a ser conveniente a depender do cenário. \n",
    "\n",
    "Abaixo tem-se a conversão dos tipos de atributos para categóricos, *booleanos* e numéricos (quando necessário)."
   ]
  },
  {
   "cell_type": "code",
   "execution_count": 17,
   "id": "90b25a61",
   "metadata": {},
   "outputs": [],
   "source": [
    "# Retorna os valores como Verdadeiro ou Falso\n",
    "def convert(item):\n",
    "    if item == 'yes':\n",
    "        return True\n",
    "    elif item == 'no':\n",
    "        return False\n",
    "\n",
    "# Retorna os valores numéricos como textuais para facilitar a compreesão\n",
    "def adjust(item):\n",
    "    if item == 1:\n",
    "        return 'Muito Baixo'\n",
    "    elif item == 2:\n",
    "        return 'Baixo'\n",
    "    elif item == 3:\n",
    "        return 'Médio'\n",
    "    elif item == 4:\n",
    "        return 'Elevado'\n",
    "    elif item == 5:\n",
    "        return 'Muito Elevado'\n",
    "\n",
    "def adjustFamily(item):\n",
    "    if item == 1:\n",
    "        return 'Muito Ruim'\n",
    "    elif item == 2:\n",
    "        return 'Ruim'\n",
    "    elif item == 3:\n",
    "        return 'Normal'\n",
    "    elif item == 4:\n",
    "        return 'Bom'\n",
    "    elif item == 5:\n",
    "        return 'Muito Bom'"
   ]
  },
  {
   "cell_type": "code",
   "execution_count": 18,
   "id": "0bfa2ea4",
   "metadata": {},
   "outputs": [],
   "source": [
    "# Conversão dos atributos e aplicação de função para modificação dos valores.\n",
    "\n",
    "mat_stud['sex'] = mat_stud['sex'].astype('category')\n",
    "mat_stud['Pstatus'] = mat_stud['Pstatus'].astype('category')\n",
    "mat_stud['Dalc'] = mat_stud['Dalc'].apply(adjust)\n",
    "mat_stud['Walc'] = mat_stud['Walc'].apply(adjust)\n",
    "mat_stud['activities'] = mat_stud['activities'].apply(convert)\n",
    "mat_stud['higher'] = mat_stud['higher'].apply(convert)\n",
    "mat_stud['internet'] = mat_stud['internet'].apply(convert)\n",
    "mat_stud['famrel'] = mat_stud['famrel'].apply(adjustFamily)\n",
    "mat_stud['studytime'] = mat_stud['studytime'].apply(adjust)\n",
    "mat_stud['freetime'] = mat_stud['freetime'].apply(adjust)"
   ]
  },
  {
   "cell_type": "code",
   "execution_count": 19,
   "id": "5a0153c4",
   "metadata": {},
   "outputs": [],
   "source": [
    "# Conversão dos Atributos\n",
    "\n",
    "mat_stud['Dalc'] = mat_stud['Dalc'].astype('category')\n",
    "mat_stud['Walc'] = mat_stud['Walc'].astype('category')\n",
    "mat_stud['famrel'] = mat_stud['famrel'].astype('category')\n",
    "mat_stud['studytime'] = mat_stud['studytime'].astype('category')\n",
    "mat_stud['freetime'] = mat_stud['freetime'].astype('category')"
   ]
  },
  {
   "cell_type": "code",
   "execution_count": 11,
   "id": "5d59c342",
   "metadata": {},
   "outputs": [
    {
     "data": {
      "text/plain": [
       "sex           category\n",
       "age              int64\n",
       "Pstatus       category\n",
       "studytime     category\n",
       "failures         int64\n",
       "activities        bool\n",
       "higher            bool\n",
       "internet          bool\n",
       "famrel        category\n",
       "freetime      category\n",
       "Dalc          category\n",
       "Walc          category\n",
       "G1               int64\n",
       "G2               int64\n",
       "G3               int64\n",
       "dtype: object"
      ]
     },
     "execution_count": 11,
     "metadata": {},
     "output_type": "execute_result"
    }
   ],
   "source": [
    "# Observação das Categorias\n",
    "mat_stud.dtypes"
   ]
  },
  {
   "cell_type": "code",
   "execution_count": 58,
   "id": "22e6256c",
   "metadata": {},
   "outputs": [
    {
     "data": {
      "text/html": [
       "<div>\n",
       "<style scoped>\n",
       "    .dataframe tbody tr th:only-of-type {\n",
       "        vertical-align: middle;\n",
       "    }\n",
       "\n",
       "    .dataframe tbody tr th {\n",
       "        vertical-align: top;\n",
       "    }\n",
       "\n",
       "    .dataframe thead th {\n",
       "        text-align: right;\n",
       "    }\n",
       "</style>\n",
       "<table border=\"1\" class=\"dataframe\">\n",
       "  <thead>\n",
       "    <tr style=\"text-align: right;\">\n",
       "      <th></th>\n",
       "      <th>sex</th>\n",
       "      <th>age</th>\n",
       "      <th>Pstatus</th>\n",
       "      <th>studytime</th>\n",
       "      <th>failures</th>\n",
       "      <th>activities</th>\n",
       "      <th>higher</th>\n",
       "      <th>internet</th>\n",
       "      <th>famrel</th>\n",
       "      <th>freetime</th>\n",
       "      <th>Dalc</th>\n",
       "      <th>Walc</th>\n",
       "      <th>media</th>\n",
       "    </tr>\n",
       "  </thead>\n",
       "  <tbody>\n",
       "    <tr>\n",
       "      <th>0</th>\n",
       "      <td>F</td>\n",
       "      <td>18</td>\n",
       "      <td>A</td>\n",
       "      <td>Baixo</td>\n",
       "      <td>0</td>\n",
       "      <td>False</td>\n",
       "      <td>True</td>\n",
       "      <td>False</td>\n",
       "      <td>Bom</td>\n",
       "      <td>Médio</td>\n",
       "      <td>Muito Baixo</td>\n",
       "      <td>Muito Baixo</td>\n",
       "      <td>5.67</td>\n",
       "    </tr>\n",
       "    <tr>\n",
       "      <th>1</th>\n",
       "      <td>F</td>\n",
       "      <td>17</td>\n",
       "      <td>T</td>\n",
       "      <td>Baixo</td>\n",
       "      <td>0</td>\n",
       "      <td>False</td>\n",
       "      <td>True</td>\n",
       "      <td>True</td>\n",
       "      <td>Muito Bom</td>\n",
       "      <td>Médio</td>\n",
       "      <td>Muito Baixo</td>\n",
       "      <td>Muito Baixo</td>\n",
       "      <td>5.33</td>\n",
       "    </tr>\n",
       "    <tr>\n",
       "      <th>2</th>\n",
       "      <td>F</td>\n",
       "      <td>15</td>\n",
       "      <td>T</td>\n",
       "      <td>Baixo</td>\n",
       "      <td>3</td>\n",
       "      <td>False</td>\n",
       "      <td>True</td>\n",
       "      <td>True</td>\n",
       "      <td>Bom</td>\n",
       "      <td>Médio</td>\n",
       "      <td>Baixo</td>\n",
       "      <td>Médio</td>\n",
       "      <td>8.33</td>\n",
       "    </tr>\n",
       "    <tr>\n",
       "      <th>3</th>\n",
       "      <td>F</td>\n",
       "      <td>15</td>\n",
       "      <td>T</td>\n",
       "      <td>Médio</td>\n",
       "      <td>0</td>\n",
       "      <td>True</td>\n",
       "      <td>True</td>\n",
       "      <td>True</td>\n",
       "      <td>Normal</td>\n",
       "      <td>Baixo</td>\n",
       "      <td>Muito Baixo</td>\n",
       "      <td>Muito Baixo</td>\n",
       "      <td>14.67</td>\n",
       "    </tr>\n",
       "    <tr>\n",
       "      <th>4</th>\n",
       "      <td>F</td>\n",
       "      <td>16</td>\n",
       "      <td>T</td>\n",
       "      <td>Baixo</td>\n",
       "      <td>0</td>\n",
       "      <td>False</td>\n",
       "      <td>True</td>\n",
       "      <td>False</td>\n",
       "      <td>Bom</td>\n",
       "      <td>Médio</td>\n",
       "      <td>Muito Baixo</td>\n",
       "      <td>Baixo</td>\n",
       "      <td>8.67</td>\n",
       "    </tr>\n",
       "  </tbody>\n",
       "</table>\n",
       "</div>"
      ],
      "text/plain": [
       "  sex  age Pstatus studytime  failures  activities  higher  internet  \\\n",
       "0   F   18       A     Baixo         0       False    True     False   \n",
       "1   F   17       T     Baixo         0       False    True      True   \n",
       "2   F   15       T     Baixo         3       False    True      True   \n",
       "3   F   15       T     Médio         0        True    True      True   \n",
       "4   F   16       T     Baixo         0       False    True     False   \n",
       "\n",
       "      famrel freetime         Dalc         Walc  media  \n",
       "0        Bom    Médio  Muito Baixo  Muito Baixo   5.67  \n",
       "1  Muito Bom    Médio  Muito Baixo  Muito Baixo   5.33  \n",
       "2        Bom    Médio        Baixo        Médio   8.33  \n",
       "3     Normal    Baixo  Muito Baixo  Muito Baixo  14.67  \n",
       "4        Bom    Médio  Muito Baixo        Baixo   8.67  "
      ]
     },
     "execution_count": 58,
     "metadata": {},
     "output_type": "execute_result"
    }
   ],
   "source": [
    "mat_stud.head()"
   ]
  },
  {
   "cell_type": "code",
   "execution_count": 60,
   "id": "472af49f-52da-40af-b71f-d7ec1f719598",
   "metadata": {},
   "outputs": [
    {
     "data": {
      "text/plain": [
       "age           0.466270\n",
       "failures      2.387026\n",
       "activities   -0.035584\n",
       "higher       -4.114829\n",
       "internet     -1.791595\n",
       "media        -0.140516\n",
       "dtype: float64"
      ]
     },
     "execution_count": 60,
     "metadata": {},
     "output_type": "execute_result"
    }
   ],
   "source": [
    "# Averiguando assimetria dos Dados\n",
    "mat_stud.skew()"
   ]
  },
  {
   "cell_type": "markdown",
   "id": "4085e61c-17f7-47b8-88b5-aab02f6aa06e",
   "metadata": {},
   "source": [
    "#### **Considerações**\n",
    "\n",
    "Abaixo temos as categorias para os alunos com consumo diário (segunda a sexta) de bebidas de teor alcoólico. \n",
    "Entenda-se: \n",
    "- **Dalc**: **Consumo Diário (seg -  sex)**\n",
    "- **Walc**: **Consumo aos finais de semana**\n",
    "\n",
    "Para este estudo, será priorizada a análise para o consumo diário, dado que seus efeitos são considerados mais severos."
   ]
  },
  {
   "cell_type": "code",
   "execution_count": 13,
   "id": "b99967fc",
   "metadata": {},
   "outputs": [
    {
     "data": {
      "text/plain": [
       "Index(['Baixo', 'Elevado', 'Muito Baixo', 'Muito Elevado', 'Médio'], dtype='object')"
      ]
     },
     "execution_count": 13,
     "metadata": {},
     "output_type": "execute_result"
    }
   ],
   "source": [
    "#Categorias de consumo diário\n",
    "\n",
    "mat_stud['Dalc'].cat.categories"
   ]
  },
  {
   "cell_type": "code",
   "execution_count": 14,
   "id": "0f3a70bb",
   "metadata": {},
   "outputs": [
    {
     "data": {
      "text/plain": [
       "(395, 15)"
      ]
     },
     "execution_count": 14,
     "metadata": {},
     "output_type": "execute_result"
    }
   ],
   "source": [
    "# Tamanho do dataset\n",
    "\n",
    "mat_stud.shape"
   ]
  },
  {
   "cell_type": "markdown",
   "id": "82d4e822",
   "metadata": {},
   "source": [
    "#### **Da existência de Dados Nulos**\n",
    "\n",
    "Averiguar-se-á a existência de elementos nulos. Caso existam, pode-se aplicar a função dropna() no dataset. A depender da quantidade, podemos remover colunas com menos 65% dos dados presentes. (thresh=0.65*len(mat_stud), axis=1). Essa consideração é feita pois com menos valores presentes de informações tidas como importantes pode afetar a análise dos dados."
   ]
  },
  {
   "cell_type": "code",
   "execution_count": 15,
   "id": "af0814aa",
   "metadata": {},
   "outputs": [
    {
     "name": "stdout",
     "output_type": "stream",
     "text": [
      "sex           0\n",
      "age           0\n",
      "Pstatus       0\n",
      "studytime     0\n",
      "failures      0\n",
      "activities    0\n",
      "higher        0\n",
      "internet      0\n",
      "famrel        0\n",
      "freetime      0\n",
      "Dalc          0\n",
      "Walc          0\n",
      "G1            0\n",
      "G2            0\n",
      "G3            0\n",
      "dtype: int64\n"
     ]
    }
   ],
   "source": [
    "print(mat_stud.isnull().sum())"
   ]
  },
  {
   "cell_type": "markdown",
   "id": "a065187a-c774-4546-aa35-aca4dfcba4f5",
   "metadata": {},
   "source": [
    "Como não houve ocorrência de dados nulos, pode-se tomar as colunas como estão.\n",
    "\n",
    "Dessa forma, também não se vê a necessidade de realizar a imputação de valores, seja por meio da média, mediana ou moda variável no dataset. \n",
    "\n",
    "Exemplo:\n",
    "\"mat_stud['age'].fillna(mat_stud['age'].mean(), inplace=True)\""
   ]
  },
  {
   "cell_type": "markdown",
   "id": "f5ae97a2-6c9a-42fb-827d-b5d9ee2ca26a",
   "metadata": {},
   "source": [
    "#### **Da existência de Dados Duplicados**\n",
    "\n",
    "Caso hajam dados duplicados, os mesmos poderão ser removidos para que não prejudiquem a análise dos dados."
   ]
  },
  {
   "cell_type": "code",
   "execution_count": 19,
   "id": "c386dc3c-6c88-4521-bf50-93894a788876",
   "metadata": {},
   "outputs": [
    {
     "data": {
      "text/html": [
       "<div>\n",
       "<style scoped>\n",
       "    .dataframe tbody tr th:only-of-type {\n",
       "        vertical-align: middle;\n",
       "    }\n",
       "\n",
       "    .dataframe tbody tr th {\n",
       "        vertical-align: top;\n",
       "    }\n",
       "\n",
       "    .dataframe thead th {\n",
       "        text-align: right;\n",
       "    }\n",
       "</style>\n",
       "<table border=\"1\" class=\"dataframe\">\n",
       "  <thead>\n",
       "    <tr style=\"text-align: right;\">\n",
       "      <th></th>\n",
       "      <th>sex</th>\n",
       "      <th>age</th>\n",
       "      <th>Pstatus</th>\n",
       "      <th>studytime</th>\n",
       "      <th>failures</th>\n",
       "      <th>activities</th>\n",
       "      <th>higher</th>\n",
       "      <th>internet</th>\n",
       "      <th>famrel</th>\n",
       "      <th>freetime</th>\n",
       "      <th>Dalc</th>\n",
       "      <th>Walc</th>\n",
       "      <th>G1</th>\n",
       "      <th>G2</th>\n",
       "      <th>G3</th>\n",
       "    </tr>\n",
       "  </thead>\n",
       "  <tbody>\n",
       "    <tr>\n",
       "      <th>130</th>\n",
       "      <td>F</td>\n",
       "      <td>15</td>\n",
       "      <td>T</td>\n",
       "      <td>Médio</td>\n",
       "      <td>2</td>\n",
       "      <td>False</td>\n",
       "      <td>True</td>\n",
       "      <td>True</td>\n",
       "      <td>Bom</td>\n",
       "      <td>Baixo</td>\n",
       "      <td>Baixo</td>\n",
       "      <td>Baixo</td>\n",
       "      <td>12</td>\n",
       "      <td>0</td>\n",
       "      <td>0</td>\n",
       "    </tr>\n",
       "    <tr>\n",
       "      <th>102</th>\n",
       "      <td>M</td>\n",
       "      <td>15</td>\n",
       "      <td>T</td>\n",
       "      <td>Muito Baixo</td>\n",
       "      <td>0</td>\n",
       "      <td>True</td>\n",
       "      <td>True</td>\n",
       "      <td>True</td>\n",
       "      <td>Muito Bom</td>\n",
       "      <td>Médio</td>\n",
       "      <td>Muito Baixo</td>\n",
       "      <td>Muito Baixo</td>\n",
       "      <td>10</td>\n",
       "      <td>13</td>\n",
       "      <td>14</td>\n",
       "    </tr>\n",
       "    <tr>\n",
       "      <th>103</th>\n",
       "      <td>F</td>\n",
       "      <td>15</td>\n",
       "      <td>T</td>\n",
       "      <td>Baixo</td>\n",
       "      <td>0</td>\n",
       "      <td>False</td>\n",
       "      <td>True</td>\n",
       "      <td>True</td>\n",
       "      <td>Bom</td>\n",
       "      <td>Médio</td>\n",
       "      <td>Muito Baixo</td>\n",
       "      <td>Muito Baixo</td>\n",
       "      <td>7</td>\n",
       "      <td>6</td>\n",
       "      <td>6</td>\n",
       "    </tr>\n",
       "    <tr>\n",
       "      <th>104</th>\n",
       "      <td>M</td>\n",
       "      <td>15</td>\n",
       "      <td>A</td>\n",
       "      <td>Baixo</td>\n",
       "      <td>0</td>\n",
       "      <td>True</td>\n",
       "      <td>True</td>\n",
       "      <td>True</td>\n",
       "      <td>Muito Bom</td>\n",
       "      <td>Elevado</td>\n",
       "      <td>Muito Baixo</td>\n",
       "      <td>Muito Baixo</td>\n",
       "      <td>16</td>\n",
       "      <td>18</td>\n",
       "      <td>18</td>\n",
       "    </tr>\n",
       "    <tr>\n",
       "      <th>105</th>\n",
       "      <td>F</td>\n",
       "      <td>15</td>\n",
       "      <td>A</td>\n",
       "      <td>Elevado</td>\n",
       "      <td>0</td>\n",
       "      <td>False</td>\n",
       "      <td>True</td>\n",
       "      <td>False</td>\n",
       "      <td>Bom</td>\n",
       "      <td>Médio</td>\n",
       "      <td>Muito Baixo</td>\n",
       "      <td>Muito Baixo</td>\n",
       "      <td>10</td>\n",
       "      <td>11</td>\n",
       "      <td>11</td>\n",
       "    </tr>\n",
       "    <tr>\n",
       "      <th>...</th>\n",
       "      <td>...</td>\n",
       "      <td>...</td>\n",
       "      <td>...</td>\n",
       "      <td>...</td>\n",
       "      <td>...</td>\n",
       "      <td>...</td>\n",
       "      <td>...</td>\n",
       "      <td>...</td>\n",
       "      <td>...</td>\n",
       "      <td>...</td>\n",
       "      <td>...</td>\n",
       "      <td>...</td>\n",
       "      <td>...</td>\n",
       "      <td>...</td>\n",
       "      <td>...</td>\n",
       "    </tr>\n",
       "    <tr>\n",
       "      <th>376</th>\n",
       "      <td>F</td>\n",
       "      <td>20</td>\n",
       "      <td>T</td>\n",
       "      <td>Médio</td>\n",
       "      <td>2</td>\n",
       "      <td>False</td>\n",
       "      <td>True</td>\n",
       "      <td>True</td>\n",
       "      <td>Muito Bom</td>\n",
       "      <td>Elevado</td>\n",
       "      <td>Muito Baixo</td>\n",
       "      <td>Muito Baixo</td>\n",
       "      <td>15</td>\n",
       "      <td>14</td>\n",
       "      <td>15</td>\n",
       "    </tr>\n",
       "    <tr>\n",
       "      <th>306</th>\n",
       "      <td>M</td>\n",
       "      <td>20</td>\n",
       "      <td>A</td>\n",
       "      <td>Muito Baixo</td>\n",
       "      <td>0</td>\n",
       "      <td>True</td>\n",
       "      <td>True</td>\n",
       "      <td>False</td>\n",
       "      <td>Muito Bom</td>\n",
       "      <td>Muito Elevado</td>\n",
       "      <td>Muito Baixo</td>\n",
       "      <td>Muito Baixo</td>\n",
       "      <td>17</td>\n",
       "      <td>18</td>\n",
       "      <td>18</td>\n",
       "    </tr>\n",
       "    <tr>\n",
       "      <th>390</th>\n",
       "      <td>M</td>\n",
       "      <td>20</td>\n",
       "      <td>A</td>\n",
       "      <td>Baixo</td>\n",
       "      <td>2</td>\n",
       "      <td>False</td>\n",
       "      <td>True</td>\n",
       "      <td>False</td>\n",
       "      <td>Muito Bom</td>\n",
       "      <td>Muito Elevado</td>\n",
       "      <td>Elevado</td>\n",
       "      <td>Muito Elevado</td>\n",
       "      <td>9</td>\n",
       "      <td>9</td>\n",
       "      <td>9</td>\n",
       "    </tr>\n",
       "    <tr>\n",
       "      <th>392</th>\n",
       "      <td>M</td>\n",
       "      <td>21</td>\n",
       "      <td>T</td>\n",
       "      <td>Muito Baixo</td>\n",
       "      <td>3</td>\n",
       "      <td>False</td>\n",
       "      <td>True</td>\n",
       "      <td>False</td>\n",
       "      <td>Muito Bom</td>\n",
       "      <td>Muito Elevado</td>\n",
       "      <td>Médio</td>\n",
       "      <td>Médio</td>\n",
       "      <td>10</td>\n",
       "      <td>8</td>\n",
       "      <td>7</td>\n",
       "    </tr>\n",
       "    <tr>\n",
       "      <th>247</th>\n",
       "      <td>M</td>\n",
       "      <td>22</td>\n",
       "      <td>T</td>\n",
       "      <td>Muito Baixo</td>\n",
       "      <td>3</td>\n",
       "      <td>False</td>\n",
       "      <td>False</td>\n",
       "      <td>True</td>\n",
       "      <td>Muito Bom</td>\n",
       "      <td>Elevado</td>\n",
       "      <td>Muito Elevado</td>\n",
       "      <td>Muito Elevado</td>\n",
       "      <td>6</td>\n",
       "      <td>8</td>\n",
       "      <td>8</td>\n",
       "    </tr>\n",
       "  </tbody>\n",
       "</table>\n",
       "<p>395 rows × 15 columns</p>\n",
       "</div>"
      ],
      "text/plain": [
       "    sex  age Pstatus    studytime  failures  activities  higher  internet  \\\n",
       "130   F   15       T        Médio         2       False    True      True   \n",
       "102   M   15       T  Muito Baixo         0        True    True      True   \n",
       "103   F   15       T        Baixo         0       False    True      True   \n",
       "104   M   15       A        Baixo         0        True    True      True   \n",
       "105   F   15       A      Elevado         0       False    True     False   \n",
       "..   ..  ...     ...          ...       ...         ...     ...       ...   \n",
       "376   F   20       T        Médio         2       False    True      True   \n",
       "306   M   20       A  Muito Baixo         0        True    True     False   \n",
       "390   M   20       A        Baixo         2       False    True     False   \n",
       "392   M   21       T  Muito Baixo         3       False    True     False   \n",
       "247   M   22       T  Muito Baixo         3       False   False      True   \n",
       "\n",
       "        famrel       freetime           Dalc           Walc  G1  G2  G3  \n",
       "130        Bom          Baixo          Baixo          Baixo  12   0   0  \n",
       "102  Muito Bom          Médio    Muito Baixo    Muito Baixo  10  13  14  \n",
       "103        Bom          Médio    Muito Baixo    Muito Baixo   7   6   6  \n",
       "104  Muito Bom        Elevado    Muito Baixo    Muito Baixo  16  18  18  \n",
       "105        Bom          Médio    Muito Baixo    Muito Baixo  10  11  11  \n",
       "..         ...            ...            ...            ...  ..  ..  ..  \n",
       "376  Muito Bom        Elevado    Muito Baixo    Muito Baixo  15  14  15  \n",
       "306  Muito Bom  Muito Elevado    Muito Baixo    Muito Baixo  17  18  18  \n",
       "390  Muito Bom  Muito Elevado        Elevado  Muito Elevado   9   9   9  \n",
       "392  Muito Bom  Muito Elevado          Médio          Médio  10   8   7  \n",
       "247  Muito Bom        Elevado  Muito Elevado  Muito Elevado   6   8   8  \n",
       "\n",
       "[395 rows x 15 columns]"
      ]
     },
     "execution_count": 19,
     "metadata": {},
     "output_type": "execute_result"
    }
   ],
   "source": [
    "mat_stud.sort_values(by=['age'], axis=0)"
   ]
  },
  {
   "cell_type": "code",
   "execution_count": 20,
   "id": "a6672d8b",
   "metadata": {},
   "outputs": [
    {
     "data": {
      "text/plain": [
       "395"
      ]
     },
     "execution_count": 20,
     "metadata": {},
     "output_type": "execute_result"
    }
   ],
   "source": [
    "# averiguando existência de dados duplicados\n",
    "\n",
    "len(mat_stud.duplicated() == False)"
   ]
  },
  {
   "cell_type": "markdown",
   "id": "83d2fdb3-7aca-42f2-98b1-95a01f0c307c",
   "metadata": {},
   "source": [
    "Como observado, o dataset escolhido veio \"*limpo*\", o que facilita a análise, mas caso houvesse necessidade bastaria que, a depender da influência dos valores, os mesmos fossem removidos."
   ]
  },
  {
   "cell_type": "markdown",
   "id": "2a29df40-cfc8-4b1b-948f-5617e8ac15a2",
   "metadata": {},
   "source": [
    "### **Normalização e Discretização**\n",
    "\n",
    "A seguir, teremos algumas análises estatísticas para averiguar efeitos (caso sejam necessários) de normalização e discretização, bem como a limpeza (*caso exista a necessidade*) de forma univariada ou bivariada.\n",
    "\n",
    "Como avaliado mais acima, alguns atributos dados como inteiros foram transformados para categóricos por meio de textos para facilitar a compreensão da leitura dos dados."
   ]
  },
  {
   "cell_type": "markdown",
   "id": "ea9fa7da-5238-4e91-8153-663db0097740",
   "metadata": {},
   "source": [
    "A princípio será feita uma adição de uma coluna **média** no dataset. Dessa forma, pode-se ter uma melhor noção da influência dos demais atributos nas notas dos alunos e também pode-se \"*enxugar*\" a tabela ao remover-se as notas individuais."
   ]
  },
  {
   "cell_type": "code",
   "execution_count": 20,
   "id": "f7a1cdcc-0214-4076-ae6b-6245a8fa9386",
   "metadata": {},
   "outputs": [],
   "source": [
    "# adicionando uma coluna 'média' ao dataset para facilitar visualização de notas\n",
    "mat_stud['media'] = round((mat_stud['G1'] + mat_stud['G2'] + mat_stud['G3'])/3, 2)"
   ]
  },
  {
   "cell_type": "code",
   "execution_count": 22,
   "id": "5039b532-002d-46c8-9f98-4cbc31e16eb2",
   "metadata": {},
   "outputs": [
    {
     "data": {
      "text/plain": [
       "count    395.000000\n",
       "mean      10.679139\n",
       "std        3.696912\n",
       "min        1.330000\n",
       "25%        8.330000\n",
       "50%       10.670000\n",
       "75%       13.330000\n",
       "max       19.330000\n",
       "Name: media, dtype: float64"
      ]
     },
     "execution_count": 22,
     "metadata": {},
     "output_type": "execute_result"
    }
   ],
   "source": [
    "# Observação das médias no dataset\n",
    "mat_stud['media'].describe()"
   ]
  },
  {
   "cell_type": "code",
   "execution_count": 21,
   "id": "26d24c64-0c00-426d-a3e9-d554986e4e70",
   "metadata": {},
   "outputs": [],
   "source": [
    "# \"Drop\" das notas individuais\n",
    "mat_stud = mat_stud.drop(['G1','G2','G3'],axis=1)"
   ]
  },
  {
   "cell_type": "code",
   "execution_count": 24,
   "id": "b3452bad-aa82-4d90-a225-0c48d8436113",
   "metadata": {},
   "outputs": [
    {
     "data": {
      "text/plain": [
       "count    395.000000\n",
       "mean      16.696203\n",
       "std        1.276043\n",
       "min       15.000000\n",
       "25%       16.000000\n",
       "50%       17.000000\n",
       "75%       18.000000\n",
       "max       22.000000\n",
       "Name: age, dtype: float64"
      ]
     },
     "execution_count": 24,
     "metadata": {},
     "output_type": "execute_result"
    }
   ],
   "source": [
    "# Observando a idade dos estudantes\n",
    "mat_stud['age'].describe()"
   ]
  },
  {
   "cell_type": "code",
   "execution_count": 25,
   "id": "028e87bb-4a93-4425-a8fb-378933d4fe14",
   "metadata": {},
   "outputs": [
    {
     "data": {
      "text/plain": [
       "F    0.526582\n",
       "M    0.473418\n",
       "Name: sex, dtype: float64"
      ]
     },
     "execution_count": 25,
     "metadata": {},
     "output_type": "execute_result"
    }
   ],
   "source": [
    "# Analisando o percentual do sexo dos Estudantes\n",
    "mat_stud['sex'].value_counts() / mat_stud.shape[0]"
   ]
  },
  {
   "cell_type": "code",
   "execution_count": 9,
   "id": "a97e9810-d929-4be6-a296-36405ee7165a",
   "metadata": {},
   "outputs": [
    {
     "name": "stderr",
     "output_type": "stream",
     "text": [
      "<ipython-input-9-879c853dfb7a>:5: UserWarning: To output multiple subplots, the figure containing the passed axes is being cleared\n",
      "  mat_stud.hist(ax = ax)\n"
     ]
    },
    {
     "data": {
      "image/png": "[encoded data removed]",
      "text/plain": [
       "<Figure size 864x576 with 4 Axes>"
      ]
     },
     "metadata": {
      "needs_background": "light"
     },
     "output_type": "display_data"
    }
   ],
   "source": [
    "#Histograma dos dados presentes\n",
    "\n",
    "fig = plt.figure(figsize = (12,8))\n",
    "ax = fig.gca()\n",
    "mat_stud.hist(ax = ax)\n",
    "plt.show()"
   ]
  },
  {
   "cell_type": "markdown",
   "id": "7c7f511c-b92c-44e3-9a97-6304aed2ad70",
   "metadata": {},
   "source": [
    "#### **Normalização**\n",
    "\n",
    "Muitas vezes, ao se tomar um dataset, diferentes colunas de dados podem possuir escalas diferentes. A normalização possui como intuito a alteração de colunas numéricas em um conjunto de dados para valores similares, ou comuns, de forma a não distorcer as diferenças nos intervalos de valores, tratamento de outliers e também, a depender do caso e consequentemente, melhorar o desempenho de processos de otimização.\n",
    "\n",
    "Para este caso de estudo, será feita a normalização por min-max (método comumente utilizado para normalização), onde os valores dos atributos idade ('age') e média ('media') são ajustados para o intervalo [0, 1]. "
   ]
  },
  {
   "cell_type": "code",
   "execution_count": 27,
   "id": "544f55b7-6dd1-4899-af52-35dcfac01aa0",
   "metadata": {},
   "outputs": [],
   "source": [
    "def minmax_norm(item):\n",
    "    return ((item - item.min()) / (item.max() - item.min()))"
   ]
  },
  {
   "cell_type": "code",
   "execution_count": 28,
   "id": "598a1910-3ec0-4ac5-8538-90490cb5c5b3",
   "metadata": {},
   "outputs": [
    {
     "data": {
      "text/html": [
       "<div>\n",
       "<style scoped>\n",
       "    .dataframe tbody tr th:only-of-type {\n",
       "        vertical-align: middle;\n",
       "    }\n",
       "\n",
       "    .dataframe tbody tr th {\n",
       "        vertical-align: top;\n",
       "    }\n",
       "\n",
       "    .dataframe thead th {\n",
       "        text-align: right;\n",
       "    }\n",
       "</style>\n",
       "<table border=\"1\" class=\"dataframe\">\n",
       "  <thead>\n",
       "    <tr style=\"text-align: right;\">\n",
       "      <th></th>\n",
       "      <th>sex</th>\n",
       "      <th>age</th>\n",
       "      <th>Pstatus</th>\n",
       "      <th>studytime</th>\n",
       "      <th>failures</th>\n",
       "      <th>activities</th>\n",
       "      <th>higher</th>\n",
       "      <th>internet</th>\n",
       "      <th>famrel</th>\n",
       "      <th>freetime</th>\n",
       "      <th>Dalc</th>\n",
       "      <th>Walc</th>\n",
       "      <th>media</th>\n",
       "    </tr>\n",
       "  </thead>\n",
       "  <tbody>\n",
       "    <tr>\n",
       "      <th>0</th>\n",
       "      <td>F</td>\n",
       "      <td>0.428571</td>\n",
       "      <td>A</td>\n",
       "      <td>Baixo</td>\n",
       "      <td>0</td>\n",
       "      <td>False</td>\n",
       "      <td>True</td>\n",
       "      <td>False</td>\n",
       "      <td>Bom</td>\n",
       "      <td>Médio</td>\n",
       "      <td>Muito Baixo</td>\n",
       "      <td>Muito Baixo</td>\n",
       "      <td>0.241111</td>\n",
       "    </tr>\n",
       "    <tr>\n",
       "      <th>1</th>\n",
       "      <td>F</td>\n",
       "      <td>0.285714</td>\n",
       "      <td>T</td>\n",
       "      <td>Baixo</td>\n",
       "      <td>0</td>\n",
       "      <td>False</td>\n",
       "      <td>True</td>\n",
       "      <td>True</td>\n",
       "      <td>Muito Bom</td>\n",
       "      <td>Médio</td>\n",
       "      <td>Muito Baixo</td>\n",
       "      <td>Muito Baixo</td>\n",
       "      <td>0.222222</td>\n",
       "    </tr>\n",
       "    <tr>\n",
       "      <th>2</th>\n",
       "      <td>F</td>\n",
       "      <td>0.000000</td>\n",
       "      <td>T</td>\n",
       "      <td>Baixo</td>\n",
       "      <td>3</td>\n",
       "      <td>False</td>\n",
       "      <td>True</td>\n",
       "      <td>True</td>\n",
       "      <td>Bom</td>\n",
       "      <td>Médio</td>\n",
       "      <td>Baixo</td>\n",
       "      <td>Médio</td>\n",
       "      <td>0.388889</td>\n",
       "    </tr>\n",
       "    <tr>\n",
       "      <th>3</th>\n",
       "      <td>F</td>\n",
       "      <td>0.000000</td>\n",
       "      <td>T</td>\n",
       "      <td>Médio</td>\n",
       "      <td>0</td>\n",
       "      <td>True</td>\n",
       "      <td>True</td>\n",
       "      <td>True</td>\n",
       "      <td>Normal</td>\n",
       "      <td>Baixo</td>\n",
       "      <td>Muito Baixo</td>\n",
       "      <td>Muito Baixo</td>\n",
       "      <td>0.741111</td>\n",
       "    </tr>\n",
       "    <tr>\n",
       "      <th>4</th>\n",
       "      <td>F</td>\n",
       "      <td>0.142857</td>\n",
       "      <td>T</td>\n",
       "      <td>Baixo</td>\n",
       "      <td>0</td>\n",
       "      <td>False</td>\n",
       "      <td>True</td>\n",
       "      <td>False</td>\n",
       "      <td>Bom</td>\n",
       "      <td>Médio</td>\n",
       "      <td>Muito Baixo</td>\n",
       "      <td>Baixo</td>\n",
       "      <td>0.407778</td>\n",
       "    </tr>\n",
       "  </tbody>\n",
       "</table>\n",
       "</div>"
      ],
      "text/plain": [
       "  sex       age Pstatus studytime  failures  activities  higher  internet  \\\n",
       "0   F  0.428571       A     Baixo         0       False    True     False   \n",
       "1   F  0.285714       T     Baixo         0       False    True      True   \n",
       "2   F  0.000000       T     Baixo         3       False    True      True   \n",
       "3   F  0.000000       T     Médio         0        True    True      True   \n",
       "4   F  0.142857       T     Baixo         0       False    True     False   \n",
       "\n",
       "      famrel freetime         Dalc         Walc     media  \n",
       "0        Bom    Médio  Muito Baixo  Muito Baixo  0.241111  \n",
       "1  Muito Bom    Médio  Muito Baixo  Muito Baixo  0.222222  \n",
       "2        Bom    Médio        Baixo        Médio  0.388889  \n",
       "3     Normal    Baixo  Muito Baixo  Muito Baixo  0.741111  \n",
       "4        Bom    Médio  Muito Baixo        Baixo  0.407778  "
      ]
     },
     "execution_count": 28,
     "metadata": {},
     "output_type": "execute_result"
    }
   ],
   "source": [
    "mat_stud_norm = mat_stud\n",
    "mat_stud_norm['age'] = minmax_norm(mat_stud_norm['age'])\n",
    "mat_stud_norm['media'] = minmax_norm(mat_stud_norm['media'])\n",
    "mat_stud_norm.head()"
   ]
  },
  {
   "cell_type": "code",
   "execution_count": 29,
   "id": "4b3f4660-111d-452d-8eae-c49875cec60d",
   "metadata": {},
   "outputs": [
    {
     "data": {
      "text/html": [
       "<div>\n",
       "<style scoped>\n",
       "    .dataframe tbody tr th:only-of-type {\n",
       "        vertical-align: middle;\n",
       "    }\n",
       "\n",
       "    .dataframe tbody tr th {\n",
       "        vertical-align: top;\n",
       "    }\n",
       "\n",
       "    .dataframe thead th {\n",
       "        text-align: right;\n",
       "    }\n",
       "</style>\n",
       "<table border=\"1\" class=\"dataframe\">\n",
       "  <thead>\n",
       "    <tr style=\"text-align: right;\">\n",
       "      <th></th>\n",
       "      <th>age</th>\n",
       "      <th>failures</th>\n",
       "      <th>media</th>\n",
       "    </tr>\n",
       "  </thead>\n",
       "  <tbody>\n",
       "    <tr>\n",
       "      <th>count</th>\n",
       "      <td>395.000000</td>\n",
       "      <td>395.000000</td>\n",
       "      <td>395.000000</td>\n",
       "    </tr>\n",
       "    <tr>\n",
       "      <th>mean</th>\n",
       "      <td>0.242315</td>\n",
       "      <td>0.334177</td>\n",
       "      <td>0.519397</td>\n",
       "    </tr>\n",
       "    <tr>\n",
       "      <th>std</th>\n",
       "      <td>0.182292</td>\n",
       "      <td>0.743651</td>\n",
       "      <td>0.205384</td>\n",
       "    </tr>\n",
       "    <tr>\n",
       "      <th>min</th>\n",
       "      <td>0.000000</td>\n",
       "      <td>0.000000</td>\n",
       "      <td>0.000000</td>\n",
       "    </tr>\n",
       "    <tr>\n",
       "      <th>25%</th>\n",
       "      <td>0.142857</td>\n",
       "      <td>0.000000</td>\n",
       "      <td>0.388889</td>\n",
       "    </tr>\n",
       "    <tr>\n",
       "      <th>50%</th>\n",
       "      <td>0.285714</td>\n",
       "      <td>0.000000</td>\n",
       "      <td>0.518889</td>\n",
       "    </tr>\n",
       "    <tr>\n",
       "      <th>75%</th>\n",
       "      <td>0.428571</td>\n",
       "      <td>0.000000</td>\n",
       "      <td>0.666667</td>\n",
       "    </tr>\n",
       "    <tr>\n",
       "      <th>max</th>\n",
       "      <td>1.000000</td>\n",
       "      <td>3.000000</td>\n",
       "      <td>1.000000</td>\n",
       "    </tr>\n",
       "  </tbody>\n",
       "</table>\n",
       "</div>"
      ],
      "text/plain": [
       "              age    failures       media\n",
       "count  395.000000  395.000000  395.000000\n",
       "mean     0.242315    0.334177    0.519397\n",
       "std      0.182292    0.743651    0.205384\n",
       "min      0.000000    0.000000    0.000000\n",
       "25%      0.142857    0.000000    0.388889\n",
       "50%      0.285714    0.000000    0.518889\n",
       "75%      0.428571    0.000000    0.666667\n",
       "max      1.000000    3.000000    1.000000"
      ]
     },
     "execution_count": 29,
     "metadata": {},
     "output_type": "execute_result"
    }
   ],
   "source": [
    "mat_stud_norm.describe()"
   ]
  },
  {
   "cell_type": "markdown",
   "id": "07c6531f-1c2e-4e2a-a8b3-4a9c9a1d92e2",
   "metadata": {},
   "source": [
    "#### **Discretização**\n",
    "\n",
    "Numa etapa de pré-processamento de dados a etapa de discretização é demasiada importante (a depender do cenário), pois se trata da transformação de variáveis e funções contínuas em contrapartes discretas. A depender dos algoritmos trabalhados, os valores de entrada precisam ser exclusivamente valores discretos. A discretização, então, gera um número finito de estados possíveis. A mesma pode ser supervisionada ou não-supervisionada.\n",
    "\n",
    "Para o caso do presente estudo, pode-se discretizar tanto os valores das médias dos estudantes como os de suas idades. Dessa forma, serão discretizados os valores das médias em 4 valores iguais."
   ]
  },
  {
   "cell_type": "code",
   "execution_count": 48,
   "id": "0dc279ca-6d8f-4e6c-8c40-e3ed1e00dbcd",
   "metadata": {},
   "outputs": [],
   "source": [
    "# Utilizando função da biblioteca pandas para separação\n",
    "mat_stud['media_dist'] = pd.cut(mat_stud['media'],4)"
   ]
  },
  {
   "cell_type": "code",
   "execution_count": 41,
   "id": "07d0da61-96b0-4666-87d1-a767d026a5da",
   "metadata": {},
   "outputs": [
    {
     "data": {
      "text/plain": [
       "(10.33, 14.83]    150\n",
       "(5.83, 10.33]     146\n",
       "(14.83, 19.33]     56\n",
       "(1.312, 5.83]      43\n",
       "Name: media_dist, dtype: int64"
      ]
     },
     "execution_count": 41,
     "metadata": {},
     "output_type": "execute_result"
    }
   ],
   "source": [
    "mat_stud['media_dist'].value_counts()"
   ]
  },
  {
   "cell_type": "code",
   "execution_count": 44,
   "id": "f9acc2c0-60d6-4f54-ab13-67b79422819e",
   "metadata": {},
   "outputs": [
    {
     "data": {
      "text/html": [
       "<div>\n",
       "<style scoped>\n",
       "    .dataframe tbody tr th:only-of-type {\n",
       "        vertical-align: middle;\n",
       "    }\n",
       "\n",
       "    .dataframe tbody tr th {\n",
       "        vertical-align: top;\n",
       "    }\n",
       "\n",
       "    .dataframe thead th {\n",
       "        text-align: right;\n",
       "    }\n",
       "</style>\n",
       "<table border=\"1\" class=\"dataframe\">\n",
       "  <thead>\n",
       "    <tr style=\"text-align: right;\">\n",
       "      <th></th>\n",
       "      <th>sex</th>\n",
       "      <th>age</th>\n",
       "      <th>Pstatus</th>\n",
       "      <th>studytime</th>\n",
       "      <th>failures</th>\n",
       "      <th>activities</th>\n",
       "      <th>higher</th>\n",
       "      <th>internet</th>\n",
       "      <th>famrel</th>\n",
       "      <th>freetime</th>\n",
       "      <th>Dalc</th>\n",
       "      <th>Walc</th>\n",
       "      <th>media</th>\n",
       "      <th>media_dist</th>\n",
       "    </tr>\n",
       "  </thead>\n",
       "  <tbody>\n",
       "    <tr>\n",
       "      <th>0</th>\n",
       "      <td>F</td>\n",
       "      <td>18</td>\n",
       "      <td>A</td>\n",
       "      <td>Baixo</td>\n",
       "      <td>0</td>\n",
       "      <td>False</td>\n",
       "      <td>True</td>\n",
       "      <td>False</td>\n",
       "      <td>Bom</td>\n",
       "      <td>Médio</td>\n",
       "      <td>Muito Baixo</td>\n",
       "      <td>Muito Baixo</td>\n",
       "      <td>5.67</td>\n",
       "      <td>(1.312, 5.83]</td>\n",
       "    </tr>\n",
       "    <tr>\n",
       "      <th>1</th>\n",
       "      <td>F</td>\n",
       "      <td>17</td>\n",
       "      <td>T</td>\n",
       "      <td>Baixo</td>\n",
       "      <td>0</td>\n",
       "      <td>False</td>\n",
       "      <td>True</td>\n",
       "      <td>True</td>\n",
       "      <td>Muito Bom</td>\n",
       "      <td>Médio</td>\n",
       "      <td>Muito Baixo</td>\n",
       "      <td>Muito Baixo</td>\n",
       "      <td>5.33</td>\n",
       "      <td>(1.312, 5.83]</td>\n",
       "    </tr>\n",
       "    <tr>\n",
       "      <th>2</th>\n",
       "      <td>F</td>\n",
       "      <td>15</td>\n",
       "      <td>T</td>\n",
       "      <td>Baixo</td>\n",
       "      <td>3</td>\n",
       "      <td>False</td>\n",
       "      <td>True</td>\n",
       "      <td>True</td>\n",
       "      <td>Bom</td>\n",
       "      <td>Médio</td>\n",
       "      <td>Baixo</td>\n",
       "      <td>Médio</td>\n",
       "      <td>8.33</td>\n",
       "      <td>(5.83, 10.33]</td>\n",
       "    </tr>\n",
       "    <tr>\n",
       "      <th>3</th>\n",
       "      <td>F</td>\n",
       "      <td>15</td>\n",
       "      <td>T</td>\n",
       "      <td>Médio</td>\n",
       "      <td>0</td>\n",
       "      <td>True</td>\n",
       "      <td>True</td>\n",
       "      <td>True</td>\n",
       "      <td>Normal</td>\n",
       "      <td>Baixo</td>\n",
       "      <td>Muito Baixo</td>\n",
       "      <td>Muito Baixo</td>\n",
       "      <td>14.67</td>\n",
       "      <td>(10.33, 14.83]</td>\n",
       "    </tr>\n",
       "    <tr>\n",
       "      <th>4</th>\n",
       "      <td>F</td>\n",
       "      <td>16</td>\n",
       "      <td>T</td>\n",
       "      <td>Baixo</td>\n",
       "      <td>0</td>\n",
       "      <td>False</td>\n",
       "      <td>True</td>\n",
       "      <td>False</td>\n",
       "      <td>Bom</td>\n",
       "      <td>Médio</td>\n",
       "      <td>Muito Baixo</td>\n",
       "      <td>Baixo</td>\n",
       "      <td>8.67</td>\n",
       "      <td>(5.83, 10.33]</td>\n",
       "    </tr>\n",
       "  </tbody>\n",
       "</table>\n",
       "</div>"
      ],
      "text/plain": [
       "  sex  age Pstatus studytime  failures  activities  higher  internet  \\\n",
       "0   F   18       A     Baixo         0       False    True     False   \n",
       "1   F   17       T     Baixo         0       False    True      True   \n",
       "2   F   15       T     Baixo         3       False    True      True   \n",
       "3   F   15       T     Médio         0        True    True      True   \n",
       "4   F   16       T     Baixo         0       False    True     False   \n",
       "\n",
       "      famrel freetime         Dalc         Walc  media      media_dist  \n",
       "0        Bom    Médio  Muito Baixo  Muito Baixo   5.67   (1.312, 5.83]  \n",
       "1  Muito Bom    Médio  Muito Baixo  Muito Baixo   5.33   (1.312, 5.83]  \n",
       "2        Bom    Médio        Baixo        Médio   8.33   (5.83, 10.33]  \n",
       "3     Normal    Baixo  Muito Baixo  Muito Baixo  14.67  (10.33, 14.83]  \n",
       "4        Bom    Médio  Muito Baixo        Baixo   8.67   (5.83, 10.33]  "
      ]
     },
     "execution_count": 44,
     "metadata": {},
     "output_type": "execute_result"
    }
   ],
   "source": [
    "mat_stud.head()"
   ]
  },
  {
   "cell_type": "code",
   "execution_count": 49,
   "id": "0526a0ba-3502-4449-aafa-50ef58328ce2",
   "metadata": {},
   "outputs": [
    {
     "data": {
      "text/plain": [
       "Text(0, 0.5, 'Quantidade de Alunos')"
      ]
     },
     "execution_count": 49,
     "metadata": {},
     "output_type": "execute_result"
    },
    {
     "data": {
      "image/png": "[encoded data removed]",
      "text/plain": [
       "<Figure size 432x288 with 1 Axes>"
      ]
     },
     "metadata": {
      "needs_background": "light"
     },
     "output_type": "display_data"
    }
   ],
   "source": [
    "# Geração de gráfico de barras com os intervalos mostrados\n",
    "\n",
    "counts = mat_stud['media_dist'].value_counts()\n",
    "counts.plot.bar(rot=0)\n",
    "plt.xlabel('Intervalo de Médias')\n",
    "plt.ylabel('Quantidade de Alunos')"
   ]
  },
  {
   "cell_type": "markdown",
   "id": "599164bb-bab4-4be4-be26-6e6ea92731a9",
   "metadata": {},
   "source": [
    "É possível ainda discretizar em áreas de intervalos iguais de elementos. Para as idades tem-se:"
   ]
  },
  {
   "cell_type": "code",
   "execution_count": 60,
   "id": "622891c4-73b0-465f-b188-71ff2e6720b6",
   "metadata": {},
   "outputs": [],
   "source": [
    "# Discretização com igual intervalo de elementos com outra função do Pandas\n",
    "mat_stud['age_dist'] = pd.qcut(mat_stud['age'], 3)"
   ]
  },
  {
   "cell_type": "code",
   "execution_count": 61,
   "id": "413da51a-5bd3-4a68-8ba4-bcf348510141",
   "metadata": {},
   "outputs": [
    {
     "data": {
      "text/plain": [
       "(14.999, 16.0]    186\n",
       "(17.0, 22.0]      111\n",
       "(16.0, 17.0]       98\n",
       "Name: age_dist, dtype: int64"
      ]
     },
     "execution_count": 61,
     "metadata": {},
     "output_type": "execute_result"
    }
   ],
   "source": [
    "mat_stud['age_dist'].value_counts()"
   ]
  },
  {
   "cell_type": "code",
   "execution_count": 66,
   "id": "7a71b777-d4aa-4cb4-8351-cffe9bf189a9",
   "metadata": {},
   "outputs": [
    {
     "data": {
      "text/plain": [
       "Text(0, 0.5, 'Quantidade de Alunos')"
      ]
     },
     "execution_count": 66,
     "metadata": {},
     "output_type": "execute_result"
    },
    {
     "data": {
      "image/png": "[encoded data removed]",
      "text/plain": [
       "<Figure size 432x288 with 1 Axes>"
      ]
     },
     "metadata": {
      "needs_background": "light"
     },
     "output_type": "display_data"
    }
   ],
   "source": [
    "qcounts = mat_stud['age_dist'].value_counts()\n",
    "qcounts.plot.bar(rot=0, color='g')\n",
    "plt.grid()\n",
    "plt.xlabel('Intervalo de Idades')\n",
    "plt.ylabel('Quantidade de Alunos')"
   ]
  },
  {
   "cell_type": "markdown",
   "id": "b7d0a567-7ea6-4430-87b4-a09dd4a69a09",
   "metadata": {},
   "source": [
    "### **Remoção de Outliers com Z-Score Robusto (univariado)**\n",
    "\n",
    "Durante as etapas de pré-processamento e análise exploratória, é fundamental tomar algumas medidas para aumentar a eficácia de um modelo que se deseja desenvolver, além daquelas apontadas mais acima, é importante identificar a presença de *outliers* nos dados e removê-los. \n",
    "\n",
    "Para auxiliar a identificar a presença de outliers usa-se a função *box plot*. É um método gráfico para percepção de variabilidade fora do intervalo interquartil. No presente estudo, os dados coletados apresentam-sem bem definidos e compactos, mas ao observamos os atributo da idade, percebemos uma distorção. \n",
    "\n",
    "Um método relativamente simples para remoção de outlier é o Z-Score, que é um intervalo de desvios-padrão de distância da média, por exemplo, dentro do qual os dados precisam se apresentar para serem considerados propriamente como pontos de estudo."
   ]
  },
  {
   "cell_type": "code",
   "execution_count": 77,
   "id": "886b15ab-c67a-43f8-87d5-2e95bf59ac23",
   "metadata": {},
   "outputs": [
    {
     "data": {
      "text/plain": [
       "<AxesSubplot:>"
      ]
     },
     "execution_count": 77,
     "metadata": {},
     "output_type": "execute_result"
    },
    {
     "data": {
      "image/png": "[encoded data removed]",
      "text/plain": [
       "<Figure size 432x288 with 1 Axes>"
      ]
     },
     "metadata": {
      "needs_background": "light"
     },
     "output_type": "display_data"
    }
   ],
   "source": [
    "# método box-plot na idade\n",
    "mat_stud['age'].plot.box()"
   ]
  },
  {
   "cell_type": "markdown",
   "id": "c005bee8-7dc4-4ca5-82a9-2ff287e81020",
   "metadata": {},
   "source": [
    "Acima tem-se um exemplo de outlier univariado."
   ]
  },
  {
   "cell_type": "code",
   "execution_count": 89,
   "id": "4a5fe67b-cc43-4a9c-9e9d-f4f553bdb0be",
   "metadata": {},
   "outputs": [
    {
     "data": {
      "image/png": "[encoded data removed]",
      "text/plain": [
       "<Figure size 432x288 with 1 Axes>"
      ]
     },
     "metadata": {
      "needs_background": "light"
     },
     "output_type": "display_data"
    }
   ],
   "source": [
    "# Histograma dos dados de estudo [idade]\n",
    "\n",
    "mat_stud['age'].hist(bins=[14,15,16,17,18,19,20,21,22,23])\n",
    "plt.xticks([14,15,16,17,18,19,20,21,22,23])\n",
    "plt.show()"
   ]
  },
  {
   "cell_type": "markdown",
   "id": "0a447712-c6ee-4865-b431-c8c02a03e3f0",
   "metadata": {},
   "source": [
    "Para esse caso, como o histograma das idades se assemelha a uma *gaussiana*, podemos iniciar a computar o Z-score robusto. Algumas informações na fórmula são necessárias esclarecer:\n",
    "<div>\n",
    "<img src=\"formula.jpg\" width=\"200\"/>\n",
    "</div>\n",
    "\n",
    "- O Median Absolute Deviation (MAD) computa a mediana da distância da diferença de todos os valores da mediana dos valores.\n",
    "\n",
    "- A constante 0.675 é um fator de escala que torna o estimador acima não-enviesado em relação ao desvio-padrão (67.5% do σ)\n",
    "\n",
    "- O Mi indica o limite do limiar. A partir desse ponto temos os outliers. Pode-se ser, por exemplo, 3 ou 3.5. Para este estudo, será adotado 3.\n",
    "\n",
    "*É possível que o MAD calculado de forma manual seja diferente do calculado pela função da biblioteca. Em caso de divergência, prevalece a forma manual*"
   ]
  },
  {
   "cell_type": "code",
   "execution_count": 79,
   "id": "651ebcbd-9e3e-4a27-abf0-8ec4eb028b9e",
   "metadata": {},
   "outputs": [
    {
     "name": "stdout",
     "output_type": "stream",
     "text": [
      "1.4825796886582654\n"
     ]
    }
   ],
   "source": [
    "# MAD calculado de forma manual\n",
    "mad = abs(mat_stud['age'] - mat_stud['age'].median()).median()*(1/0.6745)\n",
    "print(mad)"
   ]
  },
  {
   "cell_type": "code",
   "execution_count": 60,
   "id": "cdd575a5-1d6d-4d1c-b22e-343412933ea6",
   "metadata": {},
   "outputs": [
    {
     "data": {
      "text/plain": [
       "1.0708540298029205"
      ]
     },
     "execution_count": 60,
     "metadata": {},
     "output_type": "execute_result"
    }
   ],
   "source": [
    "# MAD calculado pela biblioteca\n",
    "mat_stud['age'].mad()"
   ]
  },
  {
   "cell_type": "code",
   "execution_count": 80,
   "id": "202614b4-4c8e-429c-9ae2-59d521afa484",
   "metadata": {},
   "outputs": [
    {
     "data": {
      "text/plain": [
       "<AxesSubplot:>"
      ]
     },
     "execution_count": 80,
     "metadata": {},
     "output_type": "execute_result"
    },
    {
     "data": {
      "image/png": "[encoded data removed]",
      "text/plain": [
       "<Figure size 432x288 with 1 Axes>"
      ]
     },
     "metadata": {
      "needs_background": "light"
     },
     "output_type": "display_data"
    }
   ],
   "source": [
    "# Exibindo histograma do Z-Score Robusto\n",
    "(abs(mat_stud['age'] - mat_stud['age'].median())/mad).hist(bins=[0,1,2,3,4])"
   ]
  },
  {
   "cell_type": "code",
   "execution_count": 86,
   "id": "d0edd56a-ed0c-44e3-8638-448b892c60bc",
   "metadata": {},
   "outputs": [
    {
     "data": {
      "text/html": [
       "<div>\n",
       "<style scoped>\n",
       "    .dataframe tbody tr th:only-of-type {\n",
       "        vertical-align: middle;\n",
       "    }\n",
       "\n",
       "    .dataframe tbody tr th {\n",
       "        vertical-align: top;\n",
       "    }\n",
       "\n",
       "    .dataframe thead th {\n",
       "        text-align: right;\n",
       "    }\n",
       "</style>\n",
       "<table border=\"1\" class=\"dataframe\">\n",
       "  <thead>\n",
       "    <tr style=\"text-align: right;\">\n",
       "      <th></th>\n",
       "      <th>sex</th>\n",
       "      <th>age</th>\n",
       "      <th>Pstatus</th>\n",
       "      <th>studytime</th>\n",
       "      <th>failures</th>\n",
       "      <th>activities</th>\n",
       "      <th>higher</th>\n",
       "      <th>internet</th>\n",
       "      <th>famrel</th>\n",
       "      <th>freetime</th>\n",
       "      <th>Dalc</th>\n",
       "      <th>Walc</th>\n",
       "      <th>media</th>\n",
       "    </tr>\n",
       "  </thead>\n",
       "  <tbody>\n",
       "    <tr>\n",
       "      <th>247</th>\n",
       "      <td>M</td>\n",
       "      <td>22</td>\n",
       "      <td>T</td>\n",
       "      <td>Muito Baixo</td>\n",
       "      <td>3</td>\n",
       "      <td>False</td>\n",
       "      <td>False</td>\n",
       "      <td>True</td>\n",
       "      <td>Muito Bom</td>\n",
       "      <td>Elevado</td>\n",
       "      <td>Muito Elevado</td>\n",
       "      <td>Muito Elevado</td>\n",
       "      <td>7.33</td>\n",
       "    </tr>\n",
       "  </tbody>\n",
       "</table>\n",
       "</div>"
      ],
      "text/plain": [
       "    sex  age Pstatus    studytime  failures  activities  higher  internet  \\\n",
       "247   M   22       T  Muito Baixo         3       False   False      True   \n",
       "\n",
       "        famrel freetime           Dalc           Walc  media  \n",
       "247  Muito Bom  Elevado  Muito Elevado  Muito Elevado   7.33  "
      ]
     },
     "execution_count": 86,
     "metadata": {},
     "output_type": "execute_result"
    }
   ],
   "source": [
    "# Outlier detectado em função da idade\n",
    "\n",
    "mat_stud[abs(mat_stud['age'] - mat_stud['age'].median())/mad > 3]"
   ]
  },
  {
   "cell_type": "code",
   "execution_count": 87,
   "id": "fdb8ea45-f0ba-42b7-b6d3-05c406fc129f",
   "metadata": {},
   "outputs": [
    {
     "data": {
      "text/plain": [
       "394"
      ]
     },
     "execution_count": 87,
     "metadata": {},
     "output_type": "execute_result"
    }
   ],
   "source": [
    "# Armazenam-se os demais valores em outro dataset, ou no mesmo, a depender dos estudos a serem feitos.\n",
    "\n",
    "mat_stud_z_score = mat_stud[abs(mat_stud['age'] - mat_stud['age'].median())/mad < 3]\n",
    "len(mat_stud_z_score)"
   ]
  },
  {
   "cell_type": "markdown",
   "id": "b45fbad8-220d-4e77-8086-17ff716bb604",
   "metadata": {},
   "source": [
    "### **Remoção de Outliers com o método de Tukey (univariado)**\n",
    "\n",
    "Uma outra forma de se identificar a presença de outliers é por meio do método de *Tukey*. É um método gráfico para percepção de variabilidade fora do intervalo interquartil. É preciso que a distribuição seja simétrica. \n",
    "\n",
    "Considera-se *outlier* os valores menores que (Q1 - 1.5 * IQR) e maiores que (Q3 + 1.5 * IQR), onde IQR é o intervalo interquartil.\n",
    "\n",
    "Baseando-se na distribuição normal feita anteriormente, tomam-se os valores de intervalo para cálculo do IQR."
   ]
  },
  {
   "cell_type": "code",
   "execution_count": 90,
   "id": "47c43b05-4840-4f19-af69-5266eace4c85",
   "metadata": {},
   "outputs": [
    {
     "data": {
      "image/png": "[encoded data removed]",
      "text/plain": [
       "<Figure size 432x288 with 1 Axes>"
      ]
     },
     "metadata": {
      "needs_background": "light"
     },
     "output_type": "display_data"
    }
   ],
   "source": [
    "mat_stud['age'].hist(bins=[14,15,16,17,18,19,20,21,22,23])\n",
    "plt.xticks([14,15,16,17,18,19,20,21,22,23])\n",
    "plt.show()"
   ]
  },
  {
   "cell_type": "code",
   "execution_count": 91,
   "id": "bc0efa1e-7620-41cd-992b-024e433ebbc6",
   "metadata": {},
   "outputs": [
    {
     "name": "stdout",
     "output_type": "stream",
     "text": [
      "2.0\n"
     ]
    }
   ],
   "source": [
    "# Cálculo dos intervalos e valor do IQR\n",
    "\n",
    "q1 = mat_stud['age'].quantile(q=0.25)\n",
    "q3 = mat_stud['age'].quantile(q=0.75)\n",
    "iqr = q3 - q1\n",
    "print(iqr)"
   ]
  },
  {
   "cell_type": "code",
   "execution_count": 93,
   "id": "5b16fae1-ea11-4aa1-915c-390e1c05f90a",
   "metadata": {},
   "outputs": [
    {
     "data": {
      "text/html": [
       "<div>\n",
       "<style scoped>\n",
       "    .dataframe tbody tr th:only-of-type {\n",
       "        vertical-align: middle;\n",
       "    }\n",
       "\n",
       "    .dataframe tbody tr th {\n",
       "        vertical-align: top;\n",
       "    }\n",
       "\n",
       "    .dataframe thead th {\n",
       "        text-align: right;\n",
       "    }\n",
       "</style>\n",
       "<table border=\"1\" class=\"dataframe\">\n",
       "  <thead>\n",
       "    <tr style=\"text-align: right;\">\n",
       "      <th></th>\n",
       "      <th>sex</th>\n",
       "      <th>age</th>\n",
       "      <th>Pstatus</th>\n",
       "      <th>studytime</th>\n",
       "      <th>failures</th>\n",
       "      <th>activities</th>\n",
       "      <th>higher</th>\n",
       "      <th>internet</th>\n",
       "      <th>famrel</th>\n",
       "      <th>freetime</th>\n",
       "      <th>Dalc</th>\n",
       "      <th>Walc</th>\n",
       "      <th>media</th>\n",
       "    </tr>\n",
       "  </thead>\n",
       "  <tbody>\n",
       "  </tbody>\n",
       "</table>\n",
       "</div>"
      ],
      "text/plain": [
       "Empty DataFrame\n",
       "Columns: [sex, age, Pstatus, studytime, failures, activities, higher, internet, famrel, freetime, Dalc, Walc, media]\n",
       "Index: []"
      ]
     },
     "execution_count": 93,
     "metadata": {},
     "output_type": "execute_result"
    }
   ],
   "source": [
    "# Identificação de outliers abaixo do intervalo.\n",
    "mat_stud[mat_stud['age'] < (q1-1.5*iqr)]"
   ]
  },
  {
   "cell_type": "code",
   "execution_count": 96,
   "id": "d7bfc6f3-68e5-474d-96a9-b74f4f2857f2",
   "metadata": {},
   "outputs": [
    {
     "data": {
      "text/html": [
       "<div>\n",
       "<style scoped>\n",
       "    .dataframe tbody tr th:only-of-type {\n",
       "        vertical-align: middle;\n",
       "    }\n",
       "\n",
       "    .dataframe tbody tr th {\n",
       "        vertical-align: top;\n",
       "    }\n",
       "\n",
       "    .dataframe thead th {\n",
       "        text-align: right;\n",
       "    }\n",
       "</style>\n",
       "<table border=\"1\" class=\"dataframe\">\n",
       "  <thead>\n",
       "    <tr style=\"text-align: right;\">\n",
       "      <th></th>\n",
       "      <th>sex</th>\n",
       "      <th>age</th>\n",
       "      <th>Pstatus</th>\n",
       "      <th>studytime</th>\n",
       "      <th>failures</th>\n",
       "      <th>activities</th>\n",
       "      <th>higher</th>\n",
       "      <th>internet</th>\n",
       "      <th>famrel</th>\n",
       "      <th>freetime</th>\n",
       "      <th>Dalc</th>\n",
       "      <th>Walc</th>\n",
       "      <th>media</th>\n",
       "    </tr>\n",
       "  </thead>\n",
       "  <tbody>\n",
       "    <tr>\n",
       "      <th>247</th>\n",
       "      <td>M</td>\n",
       "      <td>22</td>\n",
       "      <td>T</td>\n",
       "      <td>Muito Baixo</td>\n",
       "      <td>3</td>\n",
       "      <td>False</td>\n",
       "      <td>False</td>\n",
       "      <td>True</td>\n",
       "      <td>Muito Bom</td>\n",
       "      <td>Elevado</td>\n",
       "      <td>Muito Elevado</td>\n",
       "      <td>Muito Elevado</td>\n",
       "      <td>7.33</td>\n",
       "    </tr>\n",
       "  </tbody>\n",
       "</table>\n",
       "</div>"
      ],
      "text/plain": [
       "    sex  age Pstatus    studytime  failures  activities  higher  internet  \\\n",
       "247   M   22       T  Muito Baixo         3       False   False      True   \n",
       "\n",
       "        famrel freetime           Dalc           Walc  media  \n",
       "247  Muito Bom  Elevado  Muito Elevado  Muito Elevado   7.33  "
      ]
     },
     "execution_count": 96,
     "metadata": {},
     "output_type": "execute_result"
    }
   ],
   "source": [
    "# Identificação de outliers acima do intervalo\n",
    "mat_stud[mat_stud['age'] > (q3+1.5*iqr)]"
   ]
  },
  {
   "cell_type": "code",
   "execution_count": 101,
   "id": "a6f90f0f-bddc-464c-a1c8-de2e490259a5",
   "metadata": {},
   "outputs": [
    {
     "data": {
      "text/plain": [
       "393"
      ]
     },
     "execution_count": 101,
     "metadata": {},
     "output_type": "execute_result"
    }
   ],
   "source": [
    "# Salvando valores sem outliers em novo dataset\n",
    "\n",
    "mat_stud_tukey = mat_stud[(mat_stud['age'] > (q1-1.5*iqr)) & (mat_stud['age'] < (q3+1.5*iqr))]\n",
    "len(mat_stud_tukey)"
   ]
  },
  {
   "cell_type": "markdown",
   "id": "695a0c23-ed40-4412-985b-e3975315003f",
   "metadata": {},
   "source": [
    "Como é possível notar, não há a presença de outliers abaixo do intervalo (por esse método)."
   ]
  },
  {
   "cell_type": "markdown",
   "id": "f318260e-1567-4d9e-832c-3f45aa608029",
   "metadata": {},
   "source": [
    "### **Remoção de Outliers usando Razão de Duas Variáveis (Bivariado)**\n",
    "\n",
    "Para este presente estudo não se faz necessário a identificação de outliers por este método devido ao escopo de estudo e dados encontrados. No entanto, caso fosse preciso, bastaria converter um par de variáveis para uma outra de interesse e então aplicar os métodos univariados apontados anteriormente."
   ]
  },
  {
   "cell_type": "markdown",
   "id": "85097c52-e9db-498c-8642-bec114ea7128",
   "metadata": {},
   "source": [
    "#### **Informação Extra**\n",
    "\n",
    "De forma a trazer maior clareza das informações, é possível suavizar determinados gráficos ou histrogramas por meio de função logarítmica para que se pareçam mais com distribuições normais e assim seja possível determinar certas operações. No entanto, nem sempre a função *log* vai ser adequada, ou mesmo alguma função menos complexa, de forma que talvez seja necessário observar análises de outras variáveis."
   ]
  },
  {
   "cell_type": "code",
   "execution_count": 242,
   "id": "b7513b6c-1495-49a5-82e9-6ac273c97208",
   "metadata": {},
   "outputs": [],
   "source": [
    "# Suavização para médias por meio de log10\n",
    "mat_stud_log = pd.DataFrame()  \n",
    "mat_stud_log['log_media'] = mat_stud['media'].apply(np.log10)"
   ]
  },
  {
   "cell_type": "code",
   "execution_count": 244,
   "id": "f3f7d9ad-3f62-496d-928b-71e0bba2a43e",
   "metadata": {},
   "outputs": [
    {
     "data": {
      "text/plain": [
       "<AxesSubplot:>"
      ]
     },
     "execution_count": 244,
     "metadata": {},
     "output_type": "execute_result"
    },
    {
     "data": {
      "image/png": "[encoded data removed]",
      "text/plain": [
       "<Figure size 432x288 with 1 Axes>"
      ]
     },
     "metadata": {
      "needs_background": "light"
     },
     "output_type": "display_data"
    }
   ],
   "source": [
    "mat_stud_log['log_media'].hist()"
   ]
  },
  {
   "cell_type": "markdown",
   "id": "ef4e3c3c-9902-47ad-910f-92b364f02525",
   "metadata": {},
   "source": [
    "Para o caso da tentativa de suavização das idadas, deparamo-nos com um problema devido a gaps nas informações recolhidas."
   ]
  },
  {
   "cell_type": "code",
   "execution_count": 247,
   "id": "06a89a7c-a828-4d87-8f83-0f34220e384f",
   "metadata": {},
   "outputs": [
    {
     "data": {
      "text/plain": [
       "<AxesSubplot:>"
      ]
     },
     "execution_count": 247,
     "metadata": {},
     "output_type": "execute_result"
    },
    {
     "data": {
      "image/png": "[encoded data removed]",
      "text/plain": [
       "<Figure size 432x288 with 1 Axes>"
      ]
     },
     "metadata": {
      "needs_background": "light"
     },
     "output_type": "display_data"
    }
   ],
   "source": [
    "# Suavização para idades por meio de log10\n",
    "mat_stud_log['log_age'] = mat_stud['age'].apply(np.log10)\n",
    "mat_stud_log['log_age'].hist()"
   ]
  },
  {
   "cell_type": "markdown",
   "id": "69981678-ce96-4fa4-83b6-b4d8cb2699ce",
   "metadata": {},
   "source": [
    "## **Análise Exploratória e Estatística Descritiva dos Dados**"
   ]
  },
  {
   "cell_type": "markdown",
   "id": "2facad7b-98e0-40e8-aad6-d5ed1c672044",
   "metadata": {},
   "source": [
    "A partir das informações acima, e também dos dados encontrados no dataset, é possível extrair informações e deduzir algumas inferências.\n",
    "\n",
    "A partir das análises, tentar-se-á descobrir pistas como:\n",
    "\n",
    "- **Influência do consumo de álcool nas médias de notas**\n",
    "- **Perfil de idade de consumo**\n",
    "- **Descrição do consumo e consequência com as notas por gênero**\n",
    "- **Correlação de Algumas Variáveis**\n"
   ]
  },
  {
   "cell_type": "markdown",
   "id": "91bee6c5-b33f-4665-bb2e-de7ce01933af",
   "metadata": {},
   "source": [
    "### **Seleção de Atributos**\n",
    "\n",
    "Para a análise, serão avaliados como os hábitos dos estudantes no consumo diário de álcool tidos como elevado e muito elevado influenciam a média de suas notas e se esses consumos são influenciados por outros fatores.\n",
    "\n",
    "Nota-se que podem ser feitos inúmeros tipos de investigações em cima dos dados, de forma que algumas das análises feitas neste estudo se aprensentam apenas como uma pequena parcela de possibilidades que podem ser desenvolvidas, mas dado ao tempo e ao foco do mesmo, foram limitadas as investigações àquelas feitas no estudo.\n",
    "\n",
    "A princípio, um novo dataset com esses estudantes será selecionado."
   ]
  },
  {
   "cell_type": "code",
   "execution_count": 8,
   "id": "f0624780-07a3-48b6-b276-7e2d277eaaf2",
   "metadata": {},
   "outputs": [
    {
     "data": {
      "text/plain": [
       "Muito Baixo      276\n",
       "Baixo             75\n",
       "Médio             26\n",
       "Elevado            9\n",
       "Muito Elevado      9\n",
       "Name: Dalc, dtype: int64"
      ]
     },
     "execution_count": 8,
     "metadata": {},
     "output_type": "execute_result"
    }
   ],
   "source": [
    "# Observando o consumo de álcool dos estudantes\n",
    "mat_stud['Dalc'].value_counts()"
   ]
  },
  {
   "cell_type": "code",
   "execution_count": 11,
   "id": "d1733ea3",
   "metadata": {},
   "outputs": [
    {
     "data": {
      "text/plain": [
       "Text(0, 0.5, 'Estudantes')"
      ]
     },
     "execution_count": 11,
     "metadata": {},
     "output_type": "execute_result"
    },
    {
     "data": {
      "image/png": "[encoded data removed]",
      "text/plain": [
       "<Figure size 432x288 with 1 Axes>"
      ]
     },
     "metadata": {
      "needs_background": "light"
     },
     "output_type": "display_data"
    }
   ],
   "source": [
    "#Verificação visual do consumo de álcool por estudantes durante a semana\n",
    "\n",
    "counts = mat_stud['Dalc'].value_counts()\n",
    "counts.plot.bar(rot=0)\n",
    "plt.xlabel(\"Consumo de Álcool\")\n",
    "plt.ylabel(\"Estudantes\")"
   ]
  },
  {
   "cell_type": "markdown",
   "id": "962863af-0eb9-47f2-bd78-3eee94780e9b",
   "metadata": {},
   "source": [
    "Nota-se que grande parte dos estudantes optam por não consumir em grandes quantidades o álcool diariamente.\n",
    "Existem também os valores consumidos aos finais de semana. Como, em tese, os finais de semana são destinados ao lazer e tempo livre, não serão considerados a priori muitas análises para esse cenário."
   ]
  },
  {
   "cell_type": "code",
   "execution_count": 12,
   "id": "59a94b3f",
   "metadata": {},
   "outputs": [
    {
     "data": {
      "text/plain": [
       "Muito Baixo      151\n",
       "Baixo             85\n",
       "Médio             80\n",
       "Elevado           51\n",
       "Muito Elevado     28\n",
       "Name: Walc, dtype: int64"
      ]
     },
     "execution_count": 12,
     "metadata": {},
     "output_type": "execute_result"
    }
   ],
   "source": [
    "# Número de estudantes que consomem álcool diariamente\n",
    "mat_stud['Walc'].value_counts()"
   ]
  },
  {
   "cell_type": "code",
   "execution_count": 14,
   "id": "77379581",
   "metadata": {},
   "outputs": [
    {
     "data": {
      "text/plain": [
       "Text(0, 0.5, 'Estudantes')"
      ]
     },
     "execution_count": 14,
     "metadata": {},
     "output_type": "execute_result"
    },
    {
     "data": {
      "image/png": "[encoded data removed]",
      "text/plain": [
       "<Figure size 432x288 with 1 Axes>"
      ]
     },
     "metadata": {
      "needs_background": "light"
     },
     "output_type": "display_data"
    }
   ],
   "source": [
    "#Verificação visual do consumo de álcool por estudantes durante o final de semana\n",
    "\n",
    "wcounts = mat_stud['Walc'].value_counts()\n",
    "wcounts.plot.bar(rot=0)\n",
    "plt.xlabel(\"Consumo de Álcool\")\n",
    "plt.ylabel(\"Estudantes\")"
   ]
  },
  {
   "cell_type": "markdown",
   "id": "7bf28f1e-71da-483e-8461-2bfa0a3b594c",
   "metadata": {},
   "source": [
    "#### **Como se comportam as médias das notas dos estudantes?**\n",
    "\n",
    "- Uma primeira análise nos permite averiguar como se comportam a média das notas dos estudantes a partir dos hábitos de consumo."
   ]
  },
  {
   "cell_type": "code",
   "execution_count": 27,
   "id": "32c3701a-febb-4b57-8926-4cae3b629f77",
   "metadata": {},
   "outputs": [
    {
     "data": {
      "text/plain": [
       "Text(0, 0.5, 'Média de Notas')"
      ]
     },
     "execution_count": 27,
     "metadata": {},
     "output_type": "execute_result"
    },
    {
     "data": {
      "image/png": "[encoded data removed]",
      "text/plain": [
       "<Figure size 432x288 with 1 Axes>"
      ]
     },
     "metadata": {
      "needs_background": "light"
     },
     "output_type": "display_data"
    }
   ],
   "source": [
    "# Amostra visível das notas dos alunos com seus hábitos de consumo\n",
    "plt.bar(mat_stud['Dalc'],mat_stud['media'],color='orange')\n",
    "plt.grid(True, linestyle='--')\n",
    "plt.xlabel('Consumo de Álcool')\n",
    "plt.ylabel('Média de Notas')"
   ]
  },
  {
   "cell_type": "markdown",
   "id": "f4921ac9-45b1-458f-9c64-40c4e2fc8fcb",
   "metadata": {},
   "source": [
    "Como é possível notar, as médias de notas dos alunos que consomem bastante álcool tende a ser menor do que as de alunos que consomem menos."
   ]
  },
  {
   "cell_type": "markdown",
   "id": "c59b1257-905d-4790-aa57-26cc4bdbad84",
   "metadata": {},
   "source": [
    "- Com outras análises é possível observar a relação do consumo de álcool com idades, relacionamento familiar, tempo livre e a acesso à internet, tempo de estudo e situação conjugal dos pais.\n",
    "\n",
    "**Perfil por *Idade***"
   ]
  },
  {
   "cell_type": "code",
   "execution_count": 47,
   "id": "d5dea935-81fe-4321-bdc2-9fbc2d0824a8",
   "metadata": {},
   "outputs": [
    {
     "data": {
      "text/plain": [
       "16    104\n",
       "17     98\n",
       "15     82\n",
       "18     82\n",
       "19     24\n",
       "20      3\n",
       "21      1\n",
       "22      1\n",
       "Name: age, dtype: int64"
      ]
     },
     "execution_count": 47,
     "metadata": {},
     "output_type": "execute_result"
    }
   ],
   "source": [
    "# Contagem de estudantes por idade\n",
    "mat_stud['age'].value_counts()"
   ]
  },
  {
   "cell_type": "code",
   "execution_count": 49,
   "id": "db373592-7b79-47b2-980a-fa4747d5e2de",
   "metadata": {},
   "outputs": [
    {
     "data": {
      "image/png": "[encoded data removed]",
      "text/plain": [
       "<Figure size 1080x576 with 1 Axes>"
      ]
     },
     "metadata": {},
     "output_type": "display_data"
    }
   ],
   "source": [
    "# Amostra visível das idades dos alunos com seus hábitos de consumo\n",
    "plt.figure(figsize=(15,8))\n",
    "sns.countplot(mat_stud['age'],hue = mat_stud['Dalc'])\n",
    "plt.grid(True, linestyle='--')\n",
    "plt.xlabel('Idade (anos)')\n",
    "plt.ylabel('Quantidade de Estudantes')\n",
    "plt.show()"
   ]
  },
  {
   "cell_type": "markdown",
   "id": "63b22d85-8ba3-42d7-a1ef-131a53ed4efa",
   "metadata": {},
   "source": [
    "Como é possível observar, são muitos os estudantes com pouco ou nenhum hábito de consumo, mas mesmo assim nota-se a presença de alunos com consumos consideráveis de álcool menores de 18 anos."
   ]
  },
  {
   "cell_type": "markdown",
   "id": "360dd0ef-9885-42a6-92e0-c13ab184ece0",
   "metadata": {},
   "source": [
    "**Perfil por *Relacionamento Familiar***"
   ]
  },
  {
   "cell_type": "code",
   "execution_count": 50,
   "id": "f21fc394-57eb-4822-9e44-e7d235c6f87c",
   "metadata": {},
   "outputs": [
    {
     "name": "stderr",
     "output_type": "stream",
     "text": [
      "C:\\Users\\danie\\anaconda3\\lib\\site-packages\\seaborn\\_decorators.py:36: FutureWarning: Pass the following variable as a keyword arg: x. From version 0.12, the only valid positional argument will be `data`, and passing other arguments without an explicit keyword will result in an error or misinterpretation.\n",
      "  warnings.warn(\n"
     ]
    },
    {
     "data": {
      "image/png": "[encoded data removed]",
      "text/plain": [
       "<Figure size 1080x576 with 1 Axes>"
      ]
     },
     "metadata": {},
     "output_type": "display_data"
    }
   ],
   "source": [
    "# Amostra visível do relacionamento familiar dos alunos com seus hábitos de consumo\n",
    "\n",
    "plt.figure(figsize=(15,8))\n",
    "sns.countplot(mat_stud['famrel'],hue = mat_stud['Dalc'])\n",
    "plt.grid(True, linestyle='--')\n",
    "plt.xlabel('Qualidade do Relacionamento Familiar')\n",
    "plt.ylabel('Quantidade de Estudantes')\n",
    "plt.show()"
   ]
  },
  {
   "cell_type": "markdown",
   "id": "64ccb3d3-ee32-4e68-a1e4-e0dbff3a257b",
   "metadata": {},
   "source": [
    "É possível notar que em relacionamentos familiares tidos como \"bons\", o consumo de álcool é reduzido semanalmente."
   ]
  },
  {
   "cell_type": "markdown",
   "id": "5cdd9700-a420-4eb7-98d2-6f3efd371cc8",
   "metadata": {},
   "source": [
    "**Perfil por *Tempo Livre***"
   ]
  },
  {
   "cell_type": "code",
   "execution_count": 51,
   "id": "db2112dc-3469-46f0-819e-f41a9e122ec3",
   "metadata": {},
   "outputs": [
    {
     "data": {
      "image/png": "[encoded data removed]",
      "text/plain": [
       "<Figure size 1080x576 with 1 Axes>"
      ]
     },
     "metadata": {},
     "output_type": "display_data"
    }
   ],
   "source": [
    "# Amostra visível do tempo livre dos alunos com seus hábitos de consumo\n",
    "\n",
    "plt.figure(figsize=(15,8))\n",
    "sns.countplot(mat_stud['freetime'],hue = mat_stud['Dalc'])\n",
    "plt.grid(True, linestyle='--')\n",
    "plt.xlabel('Tempo Livre')\n",
    "plt.ylabel('Quantidade de Estudantes')\n",
    "plt.show()"
   ]
  },
  {
   "cell_type": "markdown",
   "id": "3f574053-d376-487d-ba9b-8ba345a3cacb",
   "metadata": {},
   "source": [
    "Nota-se, ainda que de forma sutil, que estudantes com menos tempo livre, tendem a consumir menos álcool."
   ]
  },
  {
   "cell_type": "markdown",
   "id": "7e3472fb-3068-4198-93b5-2954fe2b1995",
   "metadata": {},
   "source": [
    "**Perfil por *Acesso à Internet***"
   ]
  },
  {
   "cell_type": "code",
   "execution_count": 52,
   "id": "dd77eb58-680f-48b9-99a1-529a4157835d",
   "metadata": {},
   "outputs": [
    {
     "data": {
      "image/png": "[encoded data removed]",
      "text/plain": [
       "<Figure size 1080x576 with 1 Axes>"
      ]
     },
     "metadata": {},
     "output_type": "display_data"
    }
   ],
   "source": [
    "# Amostra visível dos alunos com acesso à internet e seus hábitos de consumo\n",
    "\n",
    "plt.figure(figsize=(15,8))\n",
    "sns.countplot(mat_stud['internet'],hue = mat_stud['Dalc'])\n",
    "plt.grid(True, linestyle='--')\n",
    "plt.xlabel('Acesso às Redes')\n",
    "plt.ylabel('Quantidade de Estudantes')\n",
    "plt.show()"
   ]
  },
  {
   "cell_type": "markdown",
   "id": "66ea253f-8fcc-4966-b0a6-389643f105af",
   "metadata": {},
   "source": [
    "Nota-se que muitos estudantes que não consomem (ou consomem muito pouco álcool), tem acesso à internet."
   ]
  },
  {
   "cell_type": "markdown",
   "id": "e35ea628-b3ca-4949-ad77-5c6c376a2436",
   "metadata": {},
   "source": [
    "**Perfil por *Tempo Aplicado aos Estudos***"
   ]
  },
  {
   "cell_type": "code",
   "execution_count": 53,
   "id": "2216d4bb-e608-4ce6-b6a9-c8f2fa6da744",
   "metadata": {},
   "outputs": [
    {
     "name": "stderr",
     "output_type": "stream",
     "text": [
      "C:\\Users\\danie\\anaconda3\\lib\\site-packages\\seaborn\\_decorators.py:36: FutureWarning: Pass the following variable as a keyword arg: x. From version 0.12, the only valid positional argument will be `data`, and passing other arguments without an explicit keyword will result in an error or misinterpretation.\n",
      "  warnings.warn(\n"
     ]
    },
    {
     "data": {
      "image/png": "[encoded data removed]",
      "text/plain": [
       "<Figure size 1080x576 with 1 Axes>"
      ]
     },
     "metadata": {},
     "output_type": "display_data"
    }
   ],
   "source": [
    "# Amostra visível do tempo aplicado aos estudos dos alunos com seus hábitos de consumo\n",
    "\n",
    "plt.figure(figsize=(15,8))\n",
    "sns.countplot(mat_stud['studytime'],hue = mat_stud['Dalc'])\n",
    "plt.grid(True, linestyle='--')\n",
    "plt.xlabel('Consumo de Álcool por Tempo Aplicado aos Estudos')\n",
    "plt.ylabel('Quantidade')\n",
    "plt.show()"
   ]
  },
  {
   "cell_type": "markdown",
   "id": "3166878b-a644-48c1-a14f-37929f6456ba",
   "metadata": {},
   "source": [
    "Apesar de não muito claro, a princípio, vê-se que estudantes tendem a consumir mais álcool quando o tempo dedicado aos estudos é menor."
   ]
  },
  {
   "cell_type": "markdown",
   "id": "ad72601f-31ae-4be6-ae10-f208fe87817b",
   "metadata": {},
   "source": [
    "**Perfil por *Relação Parental***"
   ]
  },
  {
   "cell_type": "code",
   "execution_count": 55,
   "id": "5c8d1bb1-a4da-4079-9a64-eaebb4dc9c2b",
   "metadata": {},
   "outputs": [
    {
     "data": {
      "image/png": "[encoded data removed]",
      "text/plain": [
       "<Figure size 1080x576 with 1 Axes>"
      ]
     },
     "metadata": {},
     "output_type": "display_data"
    }
   ],
   "source": [
    "# Amostra visível da relação parental dos alunos com seus hábitos de consumo\n",
    "\n",
    "plt.figure(figsize=(15,8))\n",
    "sns.countplot(mat_stud['Pstatus'],hue = mat_stud['Dalc'])\n",
    "plt.grid(True, linestyle='--')\n",
    "plt.xlabel('Estado Civil dos Pais')\n",
    "plt.ylabel('Quantidade')\n",
    "plt.show()"
   ]
  },
  {
   "cell_type": "markdown",
   "id": "f0cfcbc6-0241-498d-b9e7-0f0552e28542",
   "metadata": {},
   "source": [
    "Nota-se, de forma superficial, que alunos com os pais casados tendem a consumir menos álcool."
   ]
  },
  {
   "cell_type": "markdown",
   "id": "ef0f080f-52e0-4f0f-9dd6-833113c5a387",
   "metadata": {},
   "source": [
    "- Análise para com relação ao sexo dos estudantes"
   ]
  },
  {
   "cell_type": "code",
   "execution_count": 56,
   "id": "9690ca9f-a02a-4739-bb82-8c732b9aa538",
   "metadata": {},
   "outputs": [
    {
     "data": {
      "image/png": "[encoded data removed]",
      "text/plain": [
       "<Figure size 432x288 with 1 Axes>"
      ]
     },
     "metadata": {},
     "output_type": "display_data"
    }
   ],
   "source": [
    "# Gráfico de barras sobre o consumo por sexo\n",
    "\n",
    "sns.countplot(mat_stud['Dalc'],hue = mat_stud['sex'])\n",
    "plt.grid(True, linestyle='--')\n",
    "plt.xlabel('Consumo de Álcool por Idade')\n",
    "plt.ylabel('Quantidade')\n",
    "plt.show()"
   ]
  },
  {
   "cell_type": "markdown",
   "id": "51e2c481-7e03-4249-a2f2-9d63e18fce9b",
   "metadata": {},
   "source": [
    "Dos estudantes que consomem nenhum ou pouco álcool semanalmente, as mulheres tendem a consumir menos, enquanto os homens tendem a consumir mais."
   ]
  },
  {
   "cell_type": "markdown",
   "id": "1c09438c-52bd-4074-ba20-5fe10b306a7e",
   "metadata": {},
   "source": [
    "De maneira mais geral, podemos analisar o comportamento dos dados quando comparamos os níveis de consumo dos alunos com as médias das idades e de notas dos mesmos. Tem-se a seguir:"
   ]
  },
  {
   "cell_type": "code",
   "execution_count": 54,
   "id": "bfef08cc-d9e9-4bc6-bd76-d313e8146d60",
   "metadata": {},
   "outputs": [
    {
     "data": {
      "text/html": [
       "<div>\n",
       "<style scoped>\n",
       "    .dataframe tbody tr th:only-of-type {\n",
       "        vertical-align: middle;\n",
       "    }\n",
       "\n",
       "    .dataframe tbody tr th {\n",
       "        vertical-align: top;\n",
       "    }\n",
       "\n",
       "    .dataframe thead th {\n",
       "        text-align: right;\n",
       "    }\n",
       "</style>\n",
       "<table border=\"1\" class=\"dataframe\">\n",
       "  <thead>\n",
       "    <tr style=\"text-align: right;\">\n",
       "      <th></th>\n",
       "      <th>age</th>\n",
       "      <th>media</th>\n",
       "    </tr>\n",
       "    <tr>\n",
       "      <th>Dalc</th>\n",
       "      <th></th>\n",
       "      <th></th>\n",
       "    </tr>\n",
       "  </thead>\n",
       "  <tbody>\n",
       "    <tr>\n",
       "      <th>Baixo</th>\n",
       "      <td>16.706667</td>\n",
       "      <td>9.858000</td>\n",
       "    </tr>\n",
       "    <tr>\n",
       "      <th>Elevado</th>\n",
       "      <td>17.333333</td>\n",
       "      <td>9.813333</td>\n",
       "    </tr>\n",
       "    <tr>\n",
       "      <th>Muito Baixo</th>\n",
       "      <td>16.615942</td>\n",
       "      <td>10.945362</td>\n",
       "    </tr>\n",
       "    <tr>\n",
       "      <th>Muito Elevado</th>\n",
       "      <td>17.222222</td>\n",
       "      <td>10.628889</td>\n",
       "    </tr>\n",
       "    <tr>\n",
       "      <th>Médio</th>\n",
       "      <td>17.115385</td>\n",
       "      <td>10.538846</td>\n",
       "    </tr>\n",
       "  </tbody>\n",
       "</table>\n",
       "</div>"
      ],
      "text/plain": [
       "                     age      media\n",
       "Dalc                               \n",
       "Baixo          16.706667   9.858000\n",
       "Elevado        17.333333   9.813333\n",
       "Muito Baixo    16.615942  10.945362\n",
       "Muito Elevado  17.222222  10.628889\n",
       "Médio          17.115385  10.538846"
      ]
     },
     "execution_count": 54,
     "metadata": {},
     "output_type": "execute_result"
    }
   ],
   "source": [
    "# Exibição de perfil de consumo agrupado por média de idade e de notas\n",
    "mat_stud.groupby('Dalc').agg({'age':'mean','media':'mean'}).dropna()"
   ]
  },
  {
   "cell_type": "markdown",
   "id": "55d47ac3-5e4b-478c-9cda-4fa0fc536cfb",
   "metadata": {},
   "source": [
    "Ou, traduzindo as informações acima para o formato de um gráfico, tem-se que:"
   ]
  },
  {
   "cell_type": "code",
   "execution_count": 57,
   "id": "bd6a576a-1a3b-4db1-b61d-b78fe3724b83",
   "metadata": {},
   "outputs": [
    {
     "data": {
      "image/png": "[encoded data removed]",
      "text/plain": [
       "<Figure size 720x360 with 1 Axes>"
      ]
     },
     "metadata": {
      "needs_background": "light"
     },
     "output_type": "display_data"
    }
   ],
   "source": [
    "# Gráfico boxplot indicando consumo de álcool por sexo e a influência nas notas\n",
    "\n",
    "plt.figure(figsize=(10,5))\n",
    "sns.boxplot(x=mat_stud['Dalc'], y=mat_stud['media'], hue=mat_stud['sex'])\n",
    "plt.xlabel('Consumo Diário de Álcool')\n",
    "plt.ylabel('Média de Notas')\n",
    "plt.grid(True, linestyle='--')\n",
    "plt.show()"
   ]
  },
  {
   "cell_type": "markdown",
   "id": "ff20a6f6-c01f-49e2-96ef-d05138d68ba0",
   "metadata": {},
   "source": [
    "*A partir da imagem acima, pode-se notar a presença de *outliers* para determinados conjuntos, o que, a depender da análise, poderia implicar a necessidade de um pré-processamento e remoção de outliers pelo Z-Score (não convém no momento).*\n",
    "\n",
    "Além disso, para o gráfico acima, nota-se que em geral as notas dos estudantes do sexo masculino *tendem* a ser maiores do que as dos estudantes do sexo feminino. Nota-se também que indivíduos que consomem menos álcool, também *tendem* a ter um perfil de notas melhores do que os demais. Percebe-se ainda que o número de homens que exageram no consumo de álcool é maior que o número de mulheres que fazem o mesmo."
   ]
  },
  {
   "cell_type": "markdown",
   "id": "68875543-eb99-4048-b56a-a549b09e7cf5",
   "metadata": {},
   "source": [
    "#### **Correlação dos Dados**"
   ]
  },
  {
   "cell_type": "markdown",
   "id": "aed842ef-457a-4f0e-bce8-ee9967d2f5ab",
   "metadata": {},
   "source": [
    "Por meio da correlação é possível identificar a interdependência entre duas ou mais variáveis do estudo. Por diversas vezes essa correlação é vista de maneira imediata. No entanto, em muitas outras faz-se necessária a utilização de métodos que possam fazer essa averiguação.\n",
    "\n",
    "**DESTAQUE:** *CORRELAÇÃO != CAUSALIDADE*\n",
    "\n",
    "**Coeficiente de Correlação de Pearson**\n",
    "    Conhecido como coeficiente de correção produto-momento, ele mede o grau de correlação (e se é positiva ou negativa) entre duas variáveis, normalizando a covariância pelo desvio-padrão dos atributos. Tal coeficiente é dado no intervalo [-1, 1]. É o método mais indicado para relações lineares. Para o estudo, serão consideradas apenas as variáveis númericas (como exemplo), pois as categóricas não se encaixam nas funções."
   ]
  },
  {
   "cell_type": "code",
   "execution_count": 70,
   "id": "5f1b2b75-f9ff-412a-9260-9cf73663639c",
   "metadata": {},
   "outputs": [
    {
     "data": {
      "text/html": [
       "<div>\n",
       "<style scoped>\n",
       "    .dataframe tbody tr th:only-of-type {\n",
       "        vertical-align: middle;\n",
       "    }\n",
       "\n",
       "    .dataframe tbody tr th {\n",
       "        vertical-align: top;\n",
       "    }\n",
       "\n",
       "    .dataframe thead th {\n",
       "        text-align: right;\n",
       "    }\n",
       "</style>\n",
       "<table border=\"1\" class=\"dataframe\">\n",
       "  <thead>\n",
       "    <tr style=\"text-align: right;\">\n",
       "      <th></th>\n",
       "      <th>age</th>\n",
       "      <th>failures</th>\n",
       "      <th>activities</th>\n",
       "      <th>higher</th>\n",
       "      <th>internet</th>\n",
       "      <th>media</th>\n",
       "    </tr>\n",
       "  </thead>\n",
       "  <tbody>\n",
       "    <tr>\n",
       "      <th>age</th>\n",
       "      <td>1.000000</td>\n",
       "      <td>0.243665</td>\n",
       "      <td>-0.103063</td>\n",
       "      <td>-0.209081</td>\n",
       "      <td>-0.112094</td>\n",
       "      <td>-0.134566</td>\n",
       "    </tr>\n",
       "    <tr>\n",
       "      <th>failures</th>\n",
       "      <td>0.243665</td>\n",
       "      <td>1.000000</td>\n",
       "      <td>-0.069341</td>\n",
       "      <td>-0.300316</td>\n",
       "      <td>-0.063451</td>\n",
       "      <td>-0.375702</td>\n",
       "    </tr>\n",
       "    <tr>\n",
       "      <th>activities</th>\n",
       "      <td>-0.103063</td>\n",
       "      <td>-0.069341</td>\n",
       "      <td>1.000000</td>\n",
       "      <td>0.096484</td>\n",
       "      <td>0.048663</td>\n",
       "      <td>0.040808</td>\n",
       "    </tr>\n",
       "    <tr>\n",
       "      <th>higher</th>\n",
       "      <td>-0.209081</td>\n",
       "      <td>-0.300316</td>\n",
       "      <td>0.096484</td>\n",
       "      <td>1.000000</td>\n",
       "      <td>0.020374</td>\n",
       "      <td>0.189434</td>\n",
       "    </tr>\n",
       "    <tr>\n",
       "      <th>internet</th>\n",
       "      <td>-0.112094</td>\n",
       "      <td>-0.063451</td>\n",
       "      <td>0.048663</td>\n",
       "      <td>0.020374</td>\n",
       "      <td>1.000000</td>\n",
       "      <td>0.102565</td>\n",
       "    </tr>\n",
       "    <tr>\n",
       "      <th>media</th>\n",
       "      <td>-0.134566</td>\n",
       "      <td>-0.375702</td>\n",
       "      <td>0.040808</td>\n",
       "      <td>0.189434</td>\n",
       "      <td>0.102565</td>\n",
       "      <td>1.000000</td>\n",
       "    </tr>\n",
       "  </tbody>\n",
       "</table>\n",
       "</div>"
      ],
      "text/plain": [
       "                 age  failures  activities    higher  internet     media\n",
       "age         1.000000  0.243665   -0.103063 -0.209081 -0.112094 -0.134566\n",
       "failures    0.243665  1.000000   -0.069341 -0.300316 -0.063451 -0.375702\n",
       "activities -0.103063 -0.069341    1.000000  0.096484  0.048663  0.040808\n",
       "higher     -0.209081 -0.300316    0.096484  1.000000  0.020374  0.189434\n",
       "internet   -0.112094 -0.063451    0.048663  0.020374  1.000000  0.102565\n",
       "media      -0.134566 -0.375702    0.040808  0.189434  0.102565  1.000000"
      ]
     },
     "execution_count": 70,
     "metadata": {},
     "output_type": "execute_result"
    }
   ],
   "source": [
    "# Por default, a correlação presente na função do Pandas é a de Pearson\n",
    "\n",
    "mat_stud.corr()"
   ]
  },
  {
   "cell_type": "code",
   "execution_count": 36,
   "id": "8d5e28f9-61fb-4735-b155-2ac31cba53b6",
   "metadata": {},
   "outputs": [
    {
     "data": {
      "text/plain": [
       "<AxesSubplot:>"
      ]
     },
     "execution_count": 36,
     "metadata": {},
     "output_type": "execute_result"
    },
    {
     "data": {
      "image/png": "[encoded data removed]",
      "text/plain": [
       "<Figure size 720x360 with 2 Axes>"
      ]
     },
     "metadata": {
      "needs_background": "light"
     },
     "output_type": "display_data"
    }
   ],
   "source": [
    "# Mapa de Calor das correlações\n",
    "\n",
    "plt.figure(figsize=(10,5))\n",
    "sns.heatmap(mat_stud.corr(),annot=True)"
   ]
  },
  {
   "cell_type": "markdown",
   "id": "4ad141e9-9bf6-4423-a086-87566fec5c80",
   "metadata": {},
   "source": [
    "Possíveis conclusões:"
   ]
  },
  {
   "cell_type": "markdown",
   "id": "8e49e95a-2d80-4b5b-ab64-ad7f4e9b0dfa",
   "metadata": {},
   "source": [
    "**Coeficiente de Correlação de Spearman**\n",
    "    Já esse coeficiente é indicado na correlação entre um par de variáveis relacionados monotonicamente entre si, não necessariamente de maneira linear. Para este método, ao invés de serem tomados os valores originais dos pontos de dados, são tomados os valores que as variáveis possuem em um ordenamento numérico (do menor para o maior, em dados e, em ordenamento, [1, último valor]. "
   ]
  },
  {
   "cell_type": "code",
   "execution_count": 57,
   "id": "bfc6cc68-4a14-476e-8bee-e463425ea0c3",
   "metadata": {},
   "outputs": [
    {
     "data": {
      "text/html": [
       "<div>\n",
       "<style scoped>\n",
       "    .dataframe tbody tr th:only-of-type {\n",
       "        vertical-align: middle;\n",
       "    }\n",
       "\n",
       "    .dataframe tbody tr th {\n",
       "        vertical-align: top;\n",
       "    }\n",
       "\n",
       "    .dataframe thead th {\n",
       "        text-align: right;\n",
       "    }\n",
       "</style>\n",
       "<table border=\"1\" class=\"dataframe\">\n",
       "  <thead>\n",
       "    <tr style=\"text-align: right;\">\n",
       "      <th></th>\n",
       "      <th>age</th>\n",
       "      <th>failures</th>\n",
       "      <th>activities</th>\n",
       "      <th>higher</th>\n",
       "      <th>internet</th>\n",
       "      <th>media</th>\n",
       "    </tr>\n",
       "  </thead>\n",
       "  <tbody>\n",
       "    <tr>\n",
       "      <th>age</th>\n",
       "      <td>1.000000</td>\n",
       "      <td>0.236464</td>\n",
       "      <td>-0.093945</td>\n",
       "      <td>-0.191907</td>\n",
       "      <td>-0.098546</td>\n",
       "      <td>-0.135749</td>\n",
       "    </tr>\n",
       "    <tr>\n",
       "      <th>failures</th>\n",
       "      <td>0.236464</td>\n",
       "      <td>1.000000</td>\n",
       "      <td>-0.047777</td>\n",
       "      <td>-0.264547</td>\n",
       "      <td>-0.080983</td>\n",
       "      <td>-0.368273</td>\n",
       "    </tr>\n",
       "    <tr>\n",
       "      <th>activities</th>\n",
       "      <td>-0.093945</td>\n",
       "      <td>-0.047777</td>\n",
       "      <td>1.000000</td>\n",
       "      <td>0.096484</td>\n",
       "      <td>0.048663</td>\n",
       "      <td>0.038879</td>\n",
       "    </tr>\n",
       "    <tr>\n",
       "      <th>higher</th>\n",
       "      <td>-0.191907</td>\n",
       "      <td>-0.264547</td>\n",
       "      <td>0.096484</td>\n",
       "      <td>1.000000</td>\n",
       "      <td>0.020374</td>\n",
       "      <td>0.178821</td>\n",
       "    </tr>\n",
       "    <tr>\n",
       "      <th>internet</th>\n",
       "      <td>-0.098546</td>\n",
       "      <td>-0.080983</td>\n",
       "      <td>0.048663</td>\n",
       "      <td>0.020374</td>\n",
       "      <td>1.000000</td>\n",
       "      <td>0.105511</td>\n",
       "    </tr>\n",
       "    <tr>\n",
       "      <th>media</th>\n",
       "      <td>-0.135749</td>\n",
       "      <td>-0.368273</td>\n",
       "      <td>0.038879</td>\n",
       "      <td>0.178821</td>\n",
       "      <td>0.105511</td>\n",
       "      <td>1.000000</td>\n",
       "    </tr>\n",
       "  </tbody>\n",
       "</table>\n",
       "</div>"
      ],
      "text/plain": [
       "                 age  failures  activities    higher  internet     media\n",
       "age         1.000000  0.236464   -0.093945 -0.191907 -0.098546 -0.135749\n",
       "failures    0.236464  1.000000   -0.047777 -0.264547 -0.080983 -0.368273\n",
       "activities -0.093945 -0.047777    1.000000  0.096484  0.048663  0.038879\n",
       "higher     -0.191907 -0.264547    0.096484  1.000000  0.020374  0.178821\n",
       "internet   -0.098546 -0.080983    0.048663  0.020374  1.000000  0.105511\n",
       "media      -0.135749 -0.368273    0.038879  0.178821  0.105511  1.000000"
      ]
     },
     "execution_count": 57,
     "metadata": {},
     "output_type": "execute_result"
    }
   ],
   "source": [
    "# Aplicação da Correlação de Spearman\n",
    "\n",
    "mat_stud.corr('spearman')"
   ]
  },
  {
   "cell_type": "markdown",
   "id": "76bce2cb-712b-4df5-8175-17f7d2b048e3",
   "metadata": {},
   "source": [
    "A partir dessa análise, apesar de não existirem valores altos de correlação, pode-se notar:\n",
    "\n",
    "- Reprovações (failures) e média de notas possuem correlação negativa.\n",
    "- Reprovações (failures) e idade possuem correlação positiva.\n",
    "- Acesso à internet e média de notas possuem correlação positiva.\n",
    "- Aqueles que buscam ensino superior (higher) e média de notas possuem correlação positiva.\n",
    "- Idade e vontade de cursar ensino superior possuem correlação negativa."
   ]
  },
  {
   "cell_type": "code",
   "execution_count": 83,
   "id": "e15cbe84-773a-46fa-aa15-3c0e34cdf5f5",
   "metadata": {},
   "outputs": [
    {
     "data": {
      "text/plain": [
       "<AxesSubplot:>"
      ]
     },
     "execution_count": 83,
     "metadata": {},
     "output_type": "execute_result"
    },
    {
     "data": {
      "image/png": "[encoded data removed]",
      "text/plain": [
       "<Figure size 720x360 with 2 Axes>"
      ]
     },
     "metadata": {
      "needs_background": "light"
     },
     "output_type": "display_data"
    }
   ],
   "source": [
    "# Mapa de Calor das correlações\n",
    "\n",
    "plt.figure(figsize=(10,5))\n",
    "sns.heatmap(mat_stud.corr('spearman'),annot=True)"
   ]
  },
  {
   "cell_type": "markdown",
   "id": "a4e3ff89-54da-40d2-a8d8-1c96bed49f67",
   "metadata": {},
   "source": [
    "### **Análise para Consumos Elevados**\n",
    "\n",
    "Apesar das análises mais gerais, muitas vezes é preciso realizar obsevações mais específicas a respeito do fenômeno que se deseja compreender. Dito isso, serão selecionados dois conjuntos de dados derivados do conjunto principal que serão divididos entre os estudantes que consomem mais dos que consomem medianamente e menos álcool."
   ]
  },
  {
   "cell_type": "code",
   "execution_count": 23,
   "id": "ee38c64b-360f-4b11-918d-d40cc2bd50f0",
   "metadata": {},
   "outputs": [],
   "source": [
    "# Seleção dos grupos de estudantes\n",
    "\n",
    "amostra_mat = mat_stud.loc[(mat_stud['Dalc'] == 'Muito Elevado') | (mat_stud['Dalc'] == 'Elevado')]\n",
    "amostra_s_mat = mat_stud.loc[(mat_stud['Dalc'] == 'Médio') | (mat_stud['Dalc'] == 'Baixo') | (mat_stud['Dalc'] == 'Muito Baixo')]"
   ]
  },
  {
   "cell_type": "code",
   "execution_count": 79,
   "id": "070aa9a4-47cc-48fb-985e-db766507a946",
   "metadata": {},
   "outputs": [
    {
     "data": {
      "text/html": [
       "<div>\n",
       "<style scoped>\n",
       "    .dataframe tbody tr th:only-of-type {\n",
       "        vertical-align: middle;\n",
       "    }\n",
       "\n",
       "    .dataframe tbody tr th {\n",
       "        vertical-align: top;\n",
       "    }\n",
       "\n",
       "    .dataframe thead th {\n",
       "        text-align: right;\n",
       "    }\n",
       "</style>\n",
       "<table border=\"1\" class=\"dataframe\">\n",
       "  <thead>\n",
       "    <tr style=\"text-align: right;\">\n",
       "      <th></th>\n",
       "      <th>age</th>\n",
       "      <th>failures</th>\n",
       "      <th>media</th>\n",
       "    </tr>\n",
       "  </thead>\n",
       "  <tbody>\n",
       "    <tr>\n",
       "      <th>count</th>\n",
       "      <td>18.000000</td>\n",
       "      <td>18.000000</td>\n",
       "      <td>18.000000</td>\n",
       "    </tr>\n",
       "    <tr>\n",
       "      <th>mean</th>\n",
       "      <td>17.277778</td>\n",
       "      <td>0.444444</td>\n",
       "      <td>10.221111</td>\n",
       "    </tr>\n",
       "    <tr>\n",
       "      <th>std</th>\n",
       "      <td>1.708303</td>\n",
       "      <td>0.855585</td>\n",
       "      <td>2.401281</td>\n",
       "    </tr>\n",
       "    <tr>\n",
       "      <th>min</th>\n",
       "      <td>15.000000</td>\n",
       "      <td>0.000000</td>\n",
       "      <td>5.330000</td>\n",
       "    </tr>\n",
       "    <tr>\n",
       "      <th>25%</th>\n",
       "      <td>16.000000</td>\n",
       "      <td>0.000000</td>\n",
       "      <td>9.000000</td>\n",
       "    </tr>\n",
       "    <tr>\n",
       "      <th>50%</th>\n",
       "      <td>17.000000</td>\n",
       "      <td>0.000000</td>\n",
       "      <td>10.665000</td>\n",
       "    </tr>\n",
       "    <tr>\n",
       "      <th>75%</th>\n",
       "      <td>18.000000</td>\n",
       "      <td>0.750000</td>\n",
       "      <td>12.330000</td>\n",
       "    </tr>\n",
       "    <tr>\n",
       "      <th>max</th>\n",
       "      <td>22.000000</td>\n",
       "      <td>3.000000</td>\n",
       "      <td>13.330000</td>\n",
       "    </tr>\n",
       "  </tbody>\n",
       "</table>\n",
       "</div>"
      ],
      "text/plain": [
       "             age   failures      media\n",
       "count  18.000000  18.000000  18.000000\n",
       "mean   17.277778   0.444444  10.221111\n",
       "std     1.708303   0.855585   2.401281\n",
       "min    15.000000   0.000000   5.330000\n",
       "25%    16.000000   0.000000   9.000000\n",
       "50%    17.000000   0.000000  10.665000\n",
       "75%    18.000000   0.750000  12.330000\n",
       "max    22.000000   3.000000  13.330000"
      ]
     },
     "execution_count": 79,
     "metadata": {},
     "output_type": "execute_result"
    }
   ],
   "source": [
    "amostra_mat.describe()"
   ]
  },
  {
   "cell_type": "code",
   "execution_count": 81,
   "id": "a577c3e3-f05b-4dcb-88ff-f042f39605f8",
   "metadata": {},
   "outputs": [
    {
     "data": {
      "text/html": [
       "<div>\n",
       "<style scoped>\n",
       "    .dataframe tbody tr th:only-of-type {\n",
       "        vertical-align: middle;\n",
       "    }\n",
       "\n",
       "    .dataframe tbody tr th {\n",
       "        vertical-align: top;\n",
       "    }\n",
       "\n",
       "    .dataframe thead th {\n",
       "        text-align: right;\n",
       "    }\n",
       "</style>\n",
       "<table border=\"1\" class=\"dataframe\">\n",
       "  <thead>\n",
       "    <tr style=\"text-align: right;\">\n",
       "      <th></th>\n",
       "      <th>age</th>\n",
       "      <th>failures</th>\n",
       "      <th>media</th>\n",
       "    </tr>\n",
       "  </thead>\n",
       "  <tbody>\n",
       "    <tr>\n",
       "      <th>count</th>\n",
       "      <td>377.000000</td>\n",
       "      <td>377.000000</td>\n",
       "      <td>377.000000</td>\n",
       "    </tr>\n",
       "    <tr>\n",
       "      <th>mean</th>\n",
       "      <td>16.668435</td>\n",
       "      <td>0.328912</td>\n",
       "      <td>10.701008</td>\n",
       "    </tr>\n",
       "    <tr>\n",
       "      <th>std</th>\n",
       "      <td>1.247928</td>\n",
       "      <td>0.738772</td>\n",
       "      <td>3.748361</td>\n",
       "    </tr>\n",
       "    <tr>\n",
       "      <th>min</th>\n",
       "      <td>15.000000</td>\n",
       "      <td>0.000000</td>\n",
       "      <td>1.330000</td>\n",
       "    </tr>\n",
       "    <tr>\n",
       "      <th>25%</th>\n",
       "      <td>16.000000</td>\n",
       "      <td>0.000000</td>\n",
       "      <td>8.330000</td>\n",
       "    </tr>\n",
       "    <tr>\n",
       "      <th>50%</th>\n",
       "      <td>17.000000</td>\n",
       "      <td>0.000000</td>\n",
       "      <td>10.670000</td>\n",
       "    </tr>\n",
       "    <tr>\n",
       "      <th>75%</th>\n",
       "      <td>18.000000</td>\n",
       "      <td>0.000000</td>\n",
       "      <td>13.330000</td>\n",
       "    </tr>\n",
       "    <tr>\n",
       "      <th>max</th>\n",
       "      <td>21.000000</td>\n",
       "      <td>3.000000</td>\n",
       "      <td>19.330000</td>\n",
       "    </tr>\n",
       "  </tbody>\n",
       "</table>\n",
       "</div>"
      ],
      "text/plain": [
       "              age    failures       media\n",
       "count  377.000000  377.000000  377.000000\n",
       "mean    16.668435    0.328912   10.701008\n",
       "std      1.247928    0.738772    3.748361\n",
       "min     15.000000    0.000000    1.330000\n",
       "25%     16.000000    0.000000    8.330000\n",
       "50%     17.000000    0.000000   10.670000\n",
       "75%     18.000000    0.000000   13.330000\n",
       "max     21.000000    3.000000   19.330000"
      ]
     },
     "execution_count": 81,
     "metadata": {},
     "output_type": "execute_result"
    }
   ],
   "source": [
    "amostra_s_mat.describe()"
   ]
  },
  {
   "cell_type": "markdown",
   "id": "3bd4159f-742f-4a30-87c0-f27f1b63f34d",
   "metadata": {},
   "source": [
    "A partir dessas informações pré-eliminares, é possível notar as seguintes características (para ambos os sexos): \n",
    "- Os estudantes que consomem bastante álcool representam aproximadamente 5% do total de estudantes; \n",
    "- A média de idade dos \"*consumistas*\" é maior do que a dos demais [17.27 > 16.67];\n",
    "- O número de reprovações dos consumistas é levemente maior que dos demais [0.44 > 0.33];\n",
    "- A média de notas dos \"*consumistas*\" é menor também que a dos demais estudantes.\n"
   ]
  },
  {
   "cell_type": "code",
   "execution_count": 24,
   "id": "05a9e628-f31c-4781-b72a-68132f391eff",
   "metadata": {},
   "outputs": [
    {
     "data": {
      "text/html": [
       "<div>\n",
       "<style scoped>\n",
       "    .dataframe tbody tr th:only-of-type {\n",
       "        vertical-align: middle;\n",
       "    }\n",
       "\n",
       "    .dataframe tbody tr th {\n",
       "        vertical-align: top;\n",
       "    }\n",
       "\n",
       "    .dataframe thead th {\n",
       "        text-align: right;\n",
       "    }\n",
       "</style>\n",
       "<table border=\"1\" class=\"dataframe\">\n",
       "  <thead>\n",
       "    <tr style=\"text-align: right;\">\n",
       "      <th></th>\n",
       "      <th>sex</th>\n",
       "      <th>age</th>\n",
       "      <th>Pstatus</th>\n",
       "      <th>studytime</th>\n",
       "      <th>failures</th>\n",
       "      <th>activities</th>\n",
       "      <th>higher</th>\n",
       "      <th>internet</th>\n",
       "      <th>famrel</th>\n",
       "      <th>freetime</th>\n",
       "      <th>Dalc</th>\n",
       "      <th>Walc</th>\n",
       "      <th>media</th>\n",
       "    </tr>\n",
       "  </thead>\n",
       "  <tbody>\n",
       "    <tr>\n",
       "      <th>29</th>\n",
       "      <td>M</td>\n",
       "      <td>16</td>\n",
       "      <td>T</td>\n",
       "      <td>Baixo</td>\n",
       "      <td>0</td>\n",
       "      <td>True</td>\n",
       "      <td>True</td>\n",
       "      <td>True</td>\n",
       "      <td>Bom</td>\n",
       "      <td>Elevado</td>\n",
       "      <td>Muito Elevado</td>\n",
       "      <td>Muito Elevado</td>\n",
       "      <td>11.00</td>\n",
       "    </tr>\n",
       "    <tr>\n",
       "      <th>54</th>\n",
       "      <td>F</td>\n",
       "      <td>15</td>\n",
       "      <td>A</td>\n",
       "      <td>Muito Baixo</td>\n",
       "      <td>0</td>\n",
       "      <td>False</td>\n",
       "      <td>True</td>\n",
       "      <td>True</td>\n",
       "      <td>Muito Bom</td>\n",
       "      <td>Médio</td>\n",
       "      <td>Elevado</td>\n",
       "      <td>Elevado</td>\n",
       "      <td>12.00</td>\n",
       "    </tr>\n",
       "    <tr>\n",
       "      <th>61</th>\n",
       "      <td>F</td>\n",
       "      <td>16</td>\n",
       "      <td>T</td>\n",
       "      <td>Muito Baixo</td>\n",
       "      <td>0</td>\n",
       "      <td>True</td>\n",
       "      <td>True</td>\n",
       "      <td>True</td>\n",
       "      <td>Muito Bom</td>\n",
       "      <td>Muito Elevado</td>\n",
       "      <td>Muito Elevado</td>\n",
       "      <td>Muito Elevado</td>\n",
       "      <td>9.67</td>\n",
       "    </tr>\n",
       "    <tr>\n",
       "      <th>66</th>\n",
       "      <td>M</td>\n",
       "      <td>15</td>\n",
       "      <td>A</td>\n",
       "      <td>Elevado</td>\n",
       "      <td>0</td>\n",
       "      <td>True</td>\n",
       "      <td>True</td>\n",
       "      <td>True</td>\n",
       "      <td>Muito Ruim</td>\n",
       "      <td>Médio</td>\n",
       "      <td>Muito Elevado</td>\n",
       "      <td>Muito Elevado</td>\n",
       "      <td>12.67</td>\n",
       "    </tr>\n",
       "    <tr>\n",
       "      <th>100</th>\n",
       "      <td>M</td>\n",
       "      <td>16</td>\n",
       "      <td>T</td>\n",
       "      <td>Muito Baixo</td>\n",
       "      <td>0</td>\n",
       "      <td>True</td>\n",
       "      <td>True</td>\n",
       "      <td>True</td>\n",
       "      <td>Bom</td>\n",
       "      <td>Muito Elevado</td>\n",
       "      <td>Muito Elevado</td>\n",
       "      <td>Muito Elevado</td>\n",
       "      <td>6.33</td>\n",
       "    </tr>\n",
       "  </tbody>\n",
       "</table>\n",
       "</div>"
      ],
      "text/plain": [
       "    sex  age Pstatus    studytime  failures  activities  higher  internet  \\\n",
       "29    M   16       T        Baixo         0        True    True      True   \n",
       "54    F   15       A  Muito Baixo         0       False    True      True   \n",
       "61    F   16       T  Muito Baixo         0        True    True      True   \n",
       "66    M   15       A      Elevado         0        True    True      True   \n",
       "100   M   16       T  Muito Baixo         0        True    True      True   \n",
       "\n",
       "         famrel       freetime           Dalc           Walc  media  \n",
       "29          Bom        Elevado  Muito Elevado  Muito Elevado  11.00  \n",
       "54    Muito Bom          Médio        Elevado        Elevado  12.00  \n",
       "61    Muito Bom  Muito Elevado  Muito Elevado  Muito Elevado   9.67  \n",
       "66   Muito Ruim          Médio  Muito Elevado  Muito Elevado  12.67  \n",
       "100         Bom  Muito Elevado  Muito Elevado  Muito Elevado   6.33  "
      ]
     },
     "execution_count": 24,
     "metadata": {},
     "output_type": "execute_result"
    }
   ],
   "source": [
    "amostra_mat.head()"
   ]
  },
  {
   "cell_type": "markdown",
   "id": "f7118114-c1ed-4ec3-b117-37155a3b2585",
   "metadata": {},
   "source": [
    "- Podemos realizar uma análise de consumo elevado por sexo para os estudantes"
   ]
  },
  {
   "cell_type": "code",
   "execution_count": 27,
   "id": "f075c8f6-a550-400e-81d2-9d1b9d295f0b",
   "metadata": {},
   "outputs": [
    {
     "name": "stderr",
     "output_type": "stream",
     "text": [
      "C:\\Users\\danie\\anaconda3\\lib\\site-packages\\seaborn\\_decorators.py:36: FutureWarning: Pass the following variable as a keyword arg: x. From version 0.12, the only valid positional argument will be `data`, and passing other arguments without an explicit keyword will result in an error or misinterpretation.\n",
      "  warnings.warn(\n"
     ]
    },
    {
     "data": {
      "image/png": "[encoded data removed]",
      "text/plain": [
       "<Figure size 432x288 with 1 Axes>"
      ]
     },
     "metadata": {
      "needs_background": "light"
     },
     "output_type": "display_data"
    }
   ],
   "source": [
    "# Averiguação de consumo por sexo\n",
    "\n",
    "sns.countplot(amostra_mat['Dalc'],hue = amostra_mat['sex'])\n",
    "plt.xlabel('Consumo Diário de Bebidas Alcóolicas')\n",
    "plt.ylabel('Estudantes')\n",
    "plt.grid(True, linestyle='--')\n",
    "plt.show()"
   ]
  },
  {
   "cell_type": "markdown",
   "id": "76b150a6-d706-4a9a-adea-2dccb32dc528",
   "metadata": {},
   "source": [
    "A princípio, nota-se que elevados níveis de consumo estão associados aos homens do que as mulheres.\n",
    "\n",
    "Vejamos como isso impacta as notas dos estudantes."
   ]
  },
  {
   "cell_type": "code",
   "execution_count": 28,
   "id": "cb8dbf20-b0b1-406e-8800-ca0e71921676",
   "metadata": {},
   "outputs": [
    {
     "data": {
      "image/png": "[encoded data removed]",
      "text/plain": [
       "<Figure size 720x360 with 1 Axes>"
      ]
     },
     "metadata": {
      "needs_background": "light"
     },
     "output_type": "display_data"
    }
   ],
   "source": [
    "# Boxplot para notas, sexo e consumo\n",
    "\n",
    "plt.figure(figsize=(10,5))\n",
    "sns.boxplot(x=amostra_mat['Dalc'], y=amostra_mat['media'], hue=amostra_mat['sex'])\n",
    "plt.xlabel('Consumo Diário de Álcool')\n",
    "plt.ylabel('Média de Notas')\n",
    "plt.grid(True, linestyle='--')\n",
    "plt.show()"
   ]
  },
  {
   "cell_type": "markdown",
   "id": "62a40ee0-3bae-4bc1-bd2f-5780ea7a072f",
   "metadata": {},
   "source": [
    "Como o número de mulheres que consomem elevados níveis de álcool é muito baixo, encontra-se essa distorção no gráfico. No entanto, nota-se que as médias por sexo variam para cada caso, e no cenário masculino, quem consome mais tende a ter desempenho melhor."
   ]
  },
  {
   "cell_type": "markdown",
   "id": "3f2607b6-59f8-4058-9ab6-35c1bfacc7b2",
   "metadata": {},
   "source": [
    "Quando envolve-se a idade destes estudantes, temos as seguintes informações:"
   ]
  },
  {
   "cell_type": "code",
   "execution_count": 29,
   "id": "b6f2f463-5a80-4e72-8e0d-17e6f0a1e34a",
   "metadata": {},
   "outputs": [
    {
     "data": {
      "text/html": [
       "<div>\n",
       "<style scoped>\n",
       "    .dataframe tbody tr th:only-of-type {\n",
       "        vertical-align: middle;\n",
       "    }\n",
       "\n",
       "    .dataframe tbody tr th {\n",
       "        vertical-align: top;\n",
       "    }\n",
       "\n",
       "    .dataframe thead th {\n",
       "        text-align: right;\n",
       "    }\n",
       "</style>\n",
       "<table border=\"1\" class=\"dataframe\">\n",
       "  <thead>\n",
       "    <tr style=\"text-align: right;\">\n",
       "      <th></th>\n",
       "      <th>age</th>\n",
       "      <th>media</th>\n",
       "    </tr>\n",
       "    <tr>\n",
       "      <th>Dalc</th>\n",
       "      <th></th>\n",
       "      <th></th>\n",
       "    </tr>\n",
       "  </thead>\n",
       "  <tbody>\n",
       "    <tr>\n",
       "      <th>Elevado</th>\n",
       "      <td>17.333333</td>\n",
       "      <td>9.813333</td>\n",
       "    </tr>\n",
       "    <tr>\n",
       "      <th>Muito Elevado</th>\n",
       "      <td>17.222222</td>\n",
       "      <td>10.628889</td>\n",
       "    </tr>\n",
       "  </tbody>\n",
       "</table>\n",
       "</div>"
      ],
      "text/plain": [
       "                     age      media\n",
       "Dalc                               \n",
       "Elevado        17.333333   9.813333\n",
       "Muito Elevado  17.222222  10.628889"
      ]
     },
     "execution_count": 29,
     "metadata": {},
     "output_type": "execute_result"
    }
   ],
   "source": [
    "# Médias de idade e notas dos consumidores assíduos\n",
    "amostra_mat.groupby('Dalc').agg({'age':'mean','media':'mean'}).dropna()"
   ]
  },
  {
   "cell_type": "code",
   "execution_count": 30,
   "id": "c6ba8170-a0b4-4ad7-a783-769126c3b00b",
   "metadata": {},
   "outputs": [
    {
     "data": {
      "text/plain": [
       "17.28"
      ]
     },
     "execution_count": 30,
     "metadata": {},
     "output_type": "execute_result"
    }
   ],
   "source": [
    "# média de idade dos estudantes que consomem álcool diariamente com valores elevados e muito elevados\n",
    "melev = mat_stud[mat_stud['Dalc'] == 'Muito Elevado']['age'].mean()\n",
    "elev = mat_stud[mat_stud['Dalc'] == 'Elevado']['age'].mean()\n",
    "\n",
    "mediaConsD = round((melev + elev)/2,2)\n",
    "mediaConsD"
   ]
  },
  {
   "cell_type": "markdown",
   "id": "4f93b059-b473-40e3-adc9-f4efa2c3573a",
   "metadata": {},
   "source": [
    "- Em particular, vamos observar as relações parentais destes estudantes."
   ]
  },
  {
   "cell_type": "code",
   "execution_count": 48,
   "id": "c873d603-1edc-4c8a-8932-011828ee7071",
   "metadata": {},
   "outputs": [
    {
     "data": {
      "image/png": "[encoded data removed]",
      "text/plain": [
       "<Figure size 1080x576 with 1 Axes>"
      ]
     },
     "metadata": {},
     "output_type": "display_data"
    }
   ],
   "source": [
    "# Amostra visível da relação parental dos alunos com seus hábitos de consumo\n",
    "\n",
    "plt.figure(figsize=(15,8))\n",
    "sns.set_theme(style=\"darkgrid\")\n",
    "sns.countplot(amostra_mat['Pstatus'],hue = amostra_mat['Dalc'])\n",
    "plt.grid(True, linestyle='--')\n",
    "plt.xlabel('Consumo de Álcool por Relação Parental')\n",
    "plt.ylabel('Quantidade')\n",
    "plt.show()"
   ]
  },
  {
   "cell_type": "markdown",
   "id": "bbf6ddf9-5c09-455a-a491-497f851075af",
   "metadata": {},
   "source": [
    "Nota-se que os maiores valores de consumo estão associados com os estudantes que possuem os pais casados."
   ]
  },
  {
   "cell_type": "markdown",
   "id": "7996cae6-1beb-4283-b78c-05c36be6c176",
   "metadata": {},
   "source": [
    "Por fim, observemos a correlação de Pearson para os dados de alunos com consumo elevado."
   ]
  },
  {
   "cell_type": "code",
   "execution_count": 59,
   "id": "64f17c29-dc48-4435-9150-8e6d4dae8d27",
   "metadata": {},
   "outputs": [
    {
     "data": {
      "text/html": [
       "<div>\n",
       "<style scoped>\n",
       "    .dataframe tbody tr th:only-of-type {\n",
       "        vertical-align: middle;\n",
       "    }\n",
       "\n",
       "    .dataframe tbody tr th {\n",
       "        vertical-align: top;\n",
       "    }\n",
       "\n",
       "    .dataframe thead th {\n",
       "        text-align: right;\n",
       "    }\n",
       "</style>\n",
       "<table border=\"1\" class=\"dataframe\">\n",
       "  <thead>\n",
       "    <tr style=\"text-align: right;\">\n",
       "      <th></th>\n",
       "      <th>age</th>\n",
       "      <th>failures</th>\n",
       "      <th>activities</th>\n",
       "      <th>higher</th>\n",
       "      <th>internet</th>\n",
       "      <th>media</th>\n",
       "    </tr>\n",
       "  </thead>\n",
       "  <tbody>\n",
       "    <tr>\n",
       "      <th>age</th>\n",
       "      <td>1.000000</td>\n",
       "      <td>0.795977</td>\n",
       "      <td>-0.419032</td>\n",
       "      <td>-0.689872</td>\n",
       "      <td>-0.366768</td>\n",
       "      <td>-0.336491</td>\n",
       "    </tr>\n",
       "    <tr>\n",
       "      <th>failures</th>\n",
       "      <td>0.795977</td>\n",
       "      <td>1.000000</td>\n",
       "      <td>-0.478091</td>\n",
       "      <td>-0.745434</td>\n",
       "      <td>-0.448833</td>\n",
       "      <td>-0.366166</td>\n",
       "    </tr>\n",
       "    <tr>\n",
       "      <th>activities</th>\n",
       "      <td>-0.419032</td>\n",
       "      <td>-0.478091</td>\n",
       "      <td>1.000000</td>\n",
       "      <td>0.216930</td>\n",
       "      <td>0.316228</td>\n",
       "      <td>-0.132657</td>\n",
       "    </tr>\n",
       "    <tr>\n",
       "      <th>higher</th>\n",
       "      <td>-0.689872</td>\n",
       "      <td>-0.745434</td>\n",
       "      <td>0.216930</td>\n",
       "      <td>1.000000</td>\n",
       "      <td>-0.085749</td>\n",
       "      <td>0.300476</td>\n",
       "    </tr>\n",
       "    <tr>\n",
       "      <th>internet</th>\n",
       "      <td>-0.366768</td>\n",
       "      <td>-0.448833</td>\n",
       "      <td>0.316228</td>\n",
       "      <td>-0.085749</td>\n",
       "      <td>1.000000</td>\n",
       "      <td>0.463013</td>\n",
       "    </tr>\n",
       "    <tr>\n",
       "      <th>media</th>\n",
       "      <td>-0.336491</td>\n",
       "      <td>-0.366166</td>\n",
       "      <td>-0.132657</td>\n",
       "      <td>0.300476</td>\n",
       "      <td>0.463013</td>\n",
       "      <td>1.000000</td>\n",
       "    </tr>\n",
       "  </tbody>\n",
       "</table>\n",
       "</div>"
      ],
      "text/plain": [
       "                 age  failures  activities    higher  internet     media\n",
       "age         1.000000  0.795977   -0.419032 -0.689872 -0.366768 -0.336491\n",
       "failures    0.795977  1.000000   -0.478091 -0.745434 -0.448833 -0.366166\n",
       "activities -0.419032 -0.478091    1.000000  0.216930  0.316228 -0.132657\n",
       "higher     -0.689872 -0.745434    0.216930  1.000000 -0.085749  0.300476\n",
       "internet   -0.366768 -0.448833    0.316228 -0.085749  1.000000  0.463013\n",
       "media      -0.336491 -0.366166   -0.132657  0.300476  0.463013  1.000000"
      ]
     },
     "execution_count": 59,
     "metadata": {},
     "output_type": "execute_result"
    }
   ],
   "source": [
    "# Por default, a correlação presente na função do Pandas é a de Pearson\n",
    "\n",
    "amostra_mat.corr()"
   ]
  },
  {
   "cell_type": "code",
   "execution_count": 61,
   "id": "c505fc29-2846-4982-b31a-3640db6ec9e8",
   "metadata": {},
   "outputs": [
    {
     "data": {
      "text/plain": [
       "<AxesSubplot:>"
      ]
     },
     "execution_count": 61,
     "metadata": {},
     "output_type": "execute_result"
    },
    {
     "data": {
      "image/png": "[encoded data removed]",
      "text/plain": [
       "<Figure size 720x360 with 2 Axes>"
      ]
     },
     "metadata": {},
     "output_type": "display_data"
    }
   ],
   "source": [
    "# Mapa de Calor das correlações\n",
    "\n",
    "plt.figure(figsize=(10,5))\n",
    "sns.heatmap(amostra_mat.corr(),annot=True)"
   ]
  },
  {
   "cell_type": "markdown",
   "id": "5e066acf-3383-442d-9bd0-35d1d503e187",
   "metadata": {},
   "source": [
    "A partir dessa análise, pode-se notar:\n",
    "\n",
    "- Reprovações (failures) e média de notas possuem correlação negativa.\n",
    "- Reprovações (failures) e idade possuem forte correlação positiva.\n",
    "- Acesso à internet e média de notas possuem boa correlação positiva.\n",
    "- Aqueles que buscam ensino superior (higher) e média de notas possuem correlação positiva.\n",
    "- Idade e vontade de cursar ensino superior possuem forte correlação negativa."
   ]
  },
  {
   "cell_type": "markdown",
   "id": "d175ea92-4706-4374-a0bd-e0a166bbfd00",
   "metadata": {},
   "source": [
    "**---------------------------------------------------------------------------------------------------------------------------**"
   ]
  }
 ],
 "metadata": {
  "kernelspec": {
   "display_name": "Python 3",
   "language": "python",
   "name": "python3"
  },
  "language_info": {
   "codemirror_mode": {
    "name": "ipython",
    "version": 3
   },
   "file_extension": ".py",
   "mimetype": "text/x-python",
   "name": "python",
   "nbconvert_exporter": "python",
   "pygments_lexer": "ipython3",
   "version": "3.8.8"
  }
 },
 "nbformat": 4,
 "nbformat_minor": 5
}
